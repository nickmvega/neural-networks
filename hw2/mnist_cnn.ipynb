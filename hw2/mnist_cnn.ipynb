{
  "cells": [
    {
      "cell_type": "markdown",
      "id": "7f1341f5",
      "metadata": {
        "id": "7f1341f5"
      },
      "source": [
        "## Part I: CNN for handwritten digit recognition\n",
        "### Introduction:\n",
        "\n",
        "- In this section, you will implement a CNN model and training loop with Pytorch to predict the category of the handwritten digit image.\n",
        "- In this experiment, we use the MNIST dataset, a image dataset including digit from 0 to 9, with a training set of 60,000 examples, and a test set of 10,000 examples.\n",
        "\n",
        "### Task:\n",
        "- You need to design the model and complete the training loop with Pytorch.\n",
        "- You need to achieve at least 90% averaged Top1 Acc on test data.\n",
        "- You need to download the data files mnist_train.csv and mnist_test.csv from the following links:\n",
        "\n",
        "    mnist_train.csv https://www.dropbox.com/s/gm82o0atvvpwc0f/mnist_train.csv?dl=0\n",
        "    \n",
        "    mnist_test.csv https://www.dropbox.com/s/jm1bz8rtp0ecfw1/mnist_test.csv?dl=0\n",
        "    \n",
        "  and place those files in the same folder with ipynb files."
      ]
    },
    {
      "cell_type": "code",
      "execution_count": 2,
      "id": "77a83597",
      "metadata": {
        "id": "77a83597"
      },
      "outputs": [],
      "source": [
        "import pandas as pd\n",
        "import numpy as np\n",
        "from PIL import Image\n",
        "\n",
        "from torchvision import transforms\n",
        "from torch.utils.data.dataset import Dataset  # For custom datasets\n",
        "import torch\n",
        "import torch.nn as nn\n",
        "from torch import optim\n",
        "from torch.autograd import Variable"
      ]
    },
    {
      "cell_type": "code",
      "execution_count": 3,
      "id": "99839c0c",
      "metadata": {
        "id": "99839c0c"
      },
      "outputs": [
        {
          "data": {
            "text/plain": [
              "<torch._C.Generator at 0x7e108cbd1670>"
            ]
          },
          "execution_count": 3,
          "metadata": {},
          "output_type": "execute_result"
        }
      ],
      "source": [
        "# The arguments of the experiment\n",
        "class Args:\n",
        "    def __init__(self):\n",
        "        # Based on the availablity of GPU, decide whether to run the experiment on cuda or cpu.\n",
        "        self.device = 'cuda' if torch.cuda.is_available() else 'cpu'\n",
        "        # The random seed for the exp.\n",
        "        self.seed = 1\n",
        "        # The mini batch size of training and testing data. If you find you machines run very slow \n",
        "        # or experinece with OOM issue, you can set a smaller batch size\n",
        "        self.batch_size = 50\n",
        "        # The epochs of the exps. The referenced model achieve over 95% test accuracy after 1 epoch.\n",
        "        self.epochs = 10\n",
        "        # The learning rate of the SGD optimizer\n",
        "        self.lr = 0.1\n",
        "        # The momentum of SGD optimizer\n",
        "        self.momentum = 0.5\n",
        "        # how many iterations to display the training stats\n",
        "        self.log_interval = 10\n",
        "        # The height of input image\n",
        "        self.img_h = 28\n",
        "        # The width of the input image\n",
        "        self.img_w = 28\n",
        "        \n",
        "args = Args()\n",
        "torch.manual_seed(args.seed)"
      ]
    },
    {
      "cell_type": "markdown",
      "id": "221bc870",
      "metadata": {
        "id": "221bc870"
      },
      "source": [
        "### 0. The dataloader\n",
        "- Load the data from csv file\n",
        "- Return the the image and label"
      ]
    },
    {
      "cell_type": "code",
      "execution_count": 4,
      "id": "84c2db51-0d85-4f7b-9a26-d4d50729b11f",
      "metadata": {
        "id": "84c2db51-0d85-4f7b-9a26-d4d50729b11f"
      },
      "outputs": [],
      "source": [
        "class MNIST_DATASET(Dataset):\n",
        "    def __init__(self, csv_path, height, width, transform=None):\n",
        "        \"\"\"\n",
        "        Custom dataset example for reading data from csv\n",
        "\n",
        "        Args:\n",
        "            csv_path (string): path to csv file\n",
        "            height (int): image height\n",
        "            width (int): image width\n",
        "            transform: pytorch transforms for transforms and tensor conversion\n",
        "        \"\"\"\n",
        "        self.data = pd.read_csv(csv_path)\n",
        "        self.labels = np.asarray(self.data.iloc[:, 0])\n",
        "        self.height = height\n",
        "        self.width = width\n",
        "        self.transform = transform\n",
        "\n",
        "    def __getitem__(self, index):\n",
        "        single_image_label = self.labels[index]\n",
        "        # Read each 784 pixels and reshape the 1D array ([784]) to 2D array ([28,28])\n",
        "        img_as_np = np.asarray(self.data.iloc[index][1:]).reshape(28, 28).astype('uint8')\n",
        "        # Convert image from numpy array to PIL image, mode 'L' is for grayscale\n",
        "        img_as_img = Image.fromarray(img_as_np)\n",
        "        img_as_img = img_as_img.convert('L')\n",
        "        # Transform image to tensor\n",
        "        if self.transform is not None:\n",
        "            img_as_tensor = self.transform(img_as_img)\n",
        "        # Return image and the label\n",
        "        return (img_as_tensor, single_image_label)\n",
        "\n",
        "    def __len__(self):\n",
        "        return len(self.data.index)\n",
        "    \n",
        "transformations = transforms.Compose([transforms.ToTensor()])\n",
        "\n",
        "mnist_train = \\\n",
        "    MNIST_DATASET('./mnist_train.csv',\n",
        "                             args.img_h, args.img_w,\n",
        "                             transformations)\n",
        "mnist_test = \\\n",
        "    MNIST_DATASET('./mnist_test.csv',\n",
        "                             args.img_h, args.img_w,\n",
        "                             transformations)\n",
        "mnist_train_loader = torch.utils.data.DataLoader(dataset=mnist_train,\n",
        "                                                    batch_size=args.batch_size,\n",
        "                                                    shuffle=True)\n",
        "\n",
        "mnist_test_loader = torch.utils.data.DataLoader(dataset=mnist_test,\n",
        "                                                    batch_size=args.batch_size,\n",
        "                                                    shuffle=False)"
      ]
    },
    {
      "cell_type": "code",
      "execution_count": 5,
      "id": "c65a818a-6964-4c08-bc5e-eb8f79f161eb",
      "metadata": {
        "id": "c65a818a-6964-4c08-bc5e-eb8f79f161eb",
        "outputId": "a74c39b3-d9c0-46f8-e2f6-5f6748949763"
      },
      "outputs": [
        {
          "data": {
            "image/png": "[encoded data removed]",
            "text/plain": [
              "<Figure size 1000x800 with 25 Axes>"
            ]
          },
          "metadata": {},
          "output_type": "display_data"
        }
      ],
      "source": [
        "import matplotlib.pyplot as plt\n",
        "figure = plt.figure(figsize=(10, 8))\n",
        "cols, rows = 5, 5\n",
        "for i in range(1, cols * rows + 1):\n",
        "    sample_idx = torch.randint(len(mnist_train), size=(1,)).item()\n",
        "    img, label = mnist_train[sample_idx]\n",
        "    figure.add_subplot(rows, cols, i)\n",
        "    plt.title(label)\n",
        "    plt.axis(\"off\")\n",
        "    plt.imshow(img.squeeze(), cmap=\"gray\")\n",
        "plt.show()"
      ]
    },
    {
      "cell_type": "markdown",
      "id": "1c646960",
      "metadata": {
        "id": "1c646960"
      },
      "source": [
        "### 1. (TODO) The CNN Model [15 points]\n",
        "- Complete the following section to create a CNN model for handwritten digit image recognition.\n",
        "- The model should consist of convolutional layers, pooling layers and fully connected layers.\n",
        "- The output should be the categorical distribution over 10 categories (digits 0-9)"
      ]
    },
    {
      "cell_type": "code",
      "execution_count": 6,
      "id": "85aae11d-83d2-4eae-a705-6e1a7842159e",
      "metadata": {
        "id": "85aae11d-83d2-4eae-a705-6e1a7842159e"
      },
      "outputs": [],
      "source": [
        "class Model(nn.Module):\n",
        "    \"\"\"Custom CNN model to recognize the input handwritten digit image\"\"\"\n",
        "    def __init__(self):\n",
        "        \"\"\" Define and instantiate your layers\"\"\"\n",
        "        super(Model, self).__init__()\n",
        "        # YOUR CODE HERE\n",
        "        self.conv1 = nn.Conv2d(in_channels=1, out_channels=16, kernel_size=3)\n",
        "        self.relu1 = nn.ReLU()\n",
        "        self.pool1 = nn.MaxPool2d(kernel_size=2, stride=2) \n",
        "\n",
        "        self.conv2 = nn.Conv2d(in_channels=16, out_channels=32, kernel_size=3)\n",
        "        self.relu2 = nn.ReLU()\n",
        "        self.pool2 = nn.MaxPool2d(kernel_size=2, stride=2)\n",
        "\n",
        "        self.fc1 = nn.Linear(800, 128)\n",
        "        self.relu3 = nn.ReLU()\n",
        "        self.fc2 = nn.Linear(128, 10)\n",
        "\n",
        "        \n",
        "    def forward(self, x):\n",
        "        \"\"\" \n",
        "        Run forward pass on input image X\n",
        "        \n",
        "        Args:\n",
        "            x: torch tensor of input image, \n",
        "                with shape of [batch_size * 1 * img_h * img_w]\n",
        "        \n",
        "        Return:\n",
        "            out: torch tensor of predicted categorical distribution  \n",
        "                on input images, with shape of [batch_size, 10]\n",
        "         \n",
        "        \"\"\"\n",
        "        x = self.conv1(x)\n",
        "        x = self.relu1(x)\n",
        "        x = self.pool1(x)\n",
        "        \n",
        "        x = self.conv2(x)\n",
        "        x = self.relu2(x)\n",
        "        x = self.pool2(x)\n",
        "        \n",
        "        x = x.view(-1, 800)\n",
        "        x = self.fc1(x)\n",
        "        x = self.relu3(x)\n",
        "        x = self.fc2(x)\n",
        "        \n",
        "        return x"
      ]
    },
    {
      "cell_type": "markdown",
      "id": "56e29934",
      "metadata": {
        "id": "56e29934"
      },
      "source": [
        "### 2. (TODO) The Training Loop [15 points]\n",
        "- Instantiate the model and optimizer\n",
        "- Select proper loss function for this task\n",
        "- Complete the training loop"
      ]
    },
    {
      "cell_type": "code",
      "execution_count": 11,
      "id": "a8735804-7bf7-414d-9656-cdc9433d6100",
      "metadata": {
        "id": "a8735804-7bf7-414d-9656-cdc9433d6100"
      },
      "outputs": [
        {
          "name": "stdout",
          "output_type": "stream",
          "text": [
            "Using device cpu\n",
            "Epoch: [0/10], Train: [[0/1200 (0%)], Loss: 2.31018\n",
            "Epoch: [0/10], Train: [[10/1200 (1%)], Loss: 2.29951\n",
            "Epoch: [0/10], Train: [[20/1200 (2%)], Loss: 2.26640\n",
            "Epoch: [0/10], Train: [[30/1200 (2%)], Loss: 2.18762\n",
            "Epoch: [0/10], Train: [[40/1200 (3%)], Loss: 1.74402\n",
            "Epoch: [0/10], Train: [[50/1200 (4%)], Loss: 1.25512\n",
            "Epoch: [0/10], Train: [[60/1200 (5%)], Loss: 1.06221\n",
            "Epoch: [0/10], Train: [[70/1200 (6%)], Loss: 0.53753\n",
            "Epoch: [0/10], Train: [[80/1200 (7%)], Loss: 0.41464\n",
            "Epoch: [0/10], Train: [[90/1200 (8%)], Loss: 0.52422\n",
            "Epoch: [0/10], Train: [[100/1200 (8%)], Loss: 0.32684\n",
            "Epoch: [0/10], Train: [[110/1200 (9%)], Loss: 0.31726\n",
            "Epoch: [0/10], Train: [[120/1200 (10%)], Loss: 0.32287\n",
            "Epoch: [0/10], Train: [[130/1200 (11%)], Loss: 0.37421\n",
            "Epoch: [0/10], Train: [[140/1200 (12%)], Loss: 0.26447\n",
            "Epoch: [0/10], Train: [[150/1200 (12%)], Loss: 0.17060\n",
            "Epoch: [0/10], Train: [[160/1200 (13%)], Loss: 0.35574\n",
            "Epoch: [0/10], Train: [[170/1200 (14%)], Loss: 0.17806\n",
            "Epoch: [0/10], Train: [[180/1200 (15%)], Loss: 0.09026\n",
            "Epoch: [0/10], Train: [[190/1200 (16%)], Loss: 0.04449\n",
            "Epoch: [0/10], Train: [[200/1200 (17%)], Loss: 0.17621\n",
            "Epoch: [0/10], Train: [[210/1200 (18%)], Loss: 0.37003\n",
            "Epoch: [0/10], Train: [[220/1200 (18%)], Loss: 0.25322\n",
            "Epoch: [0/10], Train: [[230/1200 (19%)], Loss: 0.07818\n",
            "Epoch: [0/10], Train: [[240/1200 (20%)], Loss: 0.21152\n",
            "Epoch: [0/10], Train: [[250/1200 (21%)], Loss: 0.10191\n",
            "Epoch: [0/10], Train: [[260/1200 (22%)], Loss: 0.16846\n",
            "Epoch: [0/10], Train: [[270/1200 (22%)], Loss: 0.22857\n",
            "Epoch: [0/10], Train: [[280/1200 (23%)], Loss: 0.05536\n",
            "Epoch: [0/10], Train: [[290/1200 (24%)], Loss: 0.03483\n",
            "Epoch: [0/10], Train: [[300/1200 (25%)], Loss: 0.24030\n",
            "Epoch: [0/10], Train: [[310/1200 (26%)], Loss: 0.08094\n",
            "Epoch: [0/10], Train: [[320/1200 (27%)], Loss: 0.24505\n",
            "Epoch: [0/10], Train: [[330/1200 (28%)], Loss: 0.23074\n",
            "Epoch: [0/10], Train: [[340/1200 (28%)], Loss: 0.03369\n",
            "Epoch: [0/10], Train: [[350/1200 (29%)], Loss: 0.09669\n",
            "Epoch: [0/10], Train: [[360/1200 (30%)], Loss: 0.04842\n",
            "Epoch: [0/10], Train: [[370/1200 (31%)], Loss: 0.10743\n",
            "Epoch: [0/10], Train: [[380/1200 (32%)], Loss: 0.09007\n",
            "Epoch: [0/10], Train: [[390/1200 (32%)], Loss: 0.18413\n",
            "Epoch: [0/10], Train: [[400/1200 (33%)], Loss: 0.27129\n",
            "Epoch: [0/10], Train: [[410/1200 (34%)], Loss: 0.18083\n",
            "Epoch: [0/10], Train: [[420/1200 (35%)], Loss: 0.04481\n",
            "Epoch: [0/10], Train: [[430/1200 (36%)], Loss: 0.06648\n",
            "Epoch: [0/10], Train: [[440/1200 (37%)], Loss: 0.12923\n",
            "Epoch: [0/10], Train: [[450/1200 (38%)], Loss: 0.14833\n",
            "Epoch: [0/10], Train: [[460/1200 (38%)], Loss: 0.04734\n",
            "Epoch: [0/10], Train: [[470/1200 (39%)], Loss: 0.13263\n",
            "Epoch: [0/10], Train: [[480/1200 (40%)], Loss: 0.06125\n",
            "Epoch: [0/10], Train: [[490/1200 (41%)], Loss: 0.05973\n",
            "Epoch: [0/10], Train: [[500/1200 (42%)], Loss: 0.07061\n",
            "Epoch: [0/10], Train: [[510/1200 (42%)], Loss: 0.05223\n",
            "Epoch: [0/10], Train: [[520/1200 (43%)], Loss: 0.15859\n",
            "Epoch: [0/10], Train: [[530/1200 (44%)], Loss: 0.13382\n",
            "Epoch: [0/10], Train: [[540/1200 (45%)], Loss: 0.06344\n",
            "Epoch: [0/10], Train: [[550/1200 (46%)], Loss: 0.04052\n",
            "Epoch: [0/10], Train: [[560/1200 (47%)], Loss: 0.05909\n",
            "Epoch: [0/10], Train: [[570/1200 (48%)], Loss: 0.16283\n",
            "Epoch: [0/10], Train: [[580/1200 (48%)], Loss: 0.02058\n",
            "Epoch: [0/10], Train: [[590/1200 (49%)], Loss: 0.06653\n",
            "Epoch: [0/10], Train: [[600/1200 (50%)], Loss: 0.08368\n"
          ]
        },
        {
          "ename": "KeyboardInterrupt",
          "evalue": "",
          "output_type": "error",
          "traceback": [
            "\u001b[0;31m---------------------------------------------------------------------------\u001b[0m",
            "\u001b[0;31mKeyboardInterrupt\u001b[0m                         Traceback (most recent call last)",
            "Cell \u001b[0;32mIn[11], line 31\u001b[0m\n\u001b[1;32m     24\u001b[0m          \u001b[38;5;28;01mif\u001b[39;00m idx \u001b[38;5;241m%\u001b[39m args\u001b[38;5;241m.\u001b[39mlog_interval \u001b[38;5;241m==\u001b[39m \u001b[38;5;241m0\u001b[39m:\n\u001b[1;32m     25\u001b[0m             \u001b[38;5;28mprint\u001b[39m(\u001b[38;5;124m\"\u001b[39m\u001b[38;5;124mEpoch: [\u001b[39m\u001b[38;5;132;01m{}\u001b[39;00m\u001b[38;5;124m/\u001b[39m\u001b[38;5;132;01m{}\u001b[39;00m\u001b[38;5;124m], Train: [[\u001b[39m\u001b[38;5;132;01m{}\u001b[39;00m\u001b[38;5;124m/\u001b[39m\u001b[38;5;132;01m{}\u001b[39;00m\u001b[38;5;124m (\u001b[39m\u001b[38;5;132;01m{:.0f}\u001b[39;00m\u001b[38;5;124m%\u001b[39m\u001b[38;5;124m)], Loss: \u001b[39m\u001b[38;5;132;01m{:.5f}\u001b[39;00m\u001b[38;5;124m\"\u001b[39m\u001b[38;5;241m.\u001b[39mformat(\n\u001b[1;32m     26\u001b[0m                 epoch, num_epochs, \n\u001b[1;32m     27\u001b[0m                 idx, \u001b[38;5;28mlen\u001b[39m(mnist_train_loader), \u001b[38;5;241m100.\u001b[39m \u001b[38;5;241m*\u001b[39m idx \u001b[38;5;241m/\u001b[39m \u001b[38;5;28mlen\u001b[39m(mnist_train_loader),\n\u001b[1;32m     28\u001b[0m                 loss\u001b[38;5;241m.\u001b[39mitem()\n\u001b[1;32m     29\u001b[0m             ))\n\u001b[0;32m---> 31\u001b[0m \u001b[43mtrain\u001b[49m\u001b[43m(\u001b[49m\u001b[43margs\u001b[49m\u001b[38;5;241;43m.\u001b[39;49m\u001b[43mepochs\u001b[49m\u001b[43m,\u001b[49m\u001b[43m \u001b[49m\u001b[43mcnn\u001b[49m\u001b[43m)\u001b[49m\n",
            "Cell \u001b[0;32mIn[11], line 21\u001b[0m, in \u001b[0;36mtrain\u001b[0;34m(num_epochs, cnn)\u001b[0m\n\u001b[1;32m     17\u001b[0m forward \u001b[38;5;241m=\u001b[39m cnn(img)\n\u001b[1;32m     19\u001b[0m loss \u001b[38;5;241m=\u001b[39m loss_func(forward, label)\n\u001b[0;32m---> 21\u001b[0m \u001b[43mloss\u001b[49m\u001b[38;5;241;43m.\u001b[39;49m\u001b[43mbackward\u001b[49m\u001b[43m(\u001b[49m\u001b[43m)\u001b[49m\n\u001b[1;32m     22\u001b[0m optimizer\u001b[38;5;241m.\u001b[39mstep()\n\u001b[1;32m     24\u001b[0m \u001b[38;5;28;01mif\u001b[39;00m idx \u001b[38;5;241m%\u001b[39m args\u001b[38;5;241m.\u001b[39mlog_interval \u001b[38;5;241m==\u001b[39m \u001b[38;5;241m0\u001b[39m:\n",
            "File \u001b[0;32m/usr/local/python/3.12.1/lib/python3.12/site-packages/torch/_tensor.py:626\u001b[0m, in \u001b[0;36mTensor.backward\u001b[0;34m(self, gradient, retain_graph, create_graph, inputs)\u001b[0m\n\u001b[1;32m    616\u001b[0m \u001b[38;5;28;01mif\u001b[39;00m has_torch_function_unary(\u001b[38;5;28mself\u001b[39m):\n\u001b[1;32m    617\u001b[0m     \u001b[38;5;28;01mreturn\u001b[39;00m handle_torch_function(\n\u001b[1;32m    618\u001b[0m         Tensor\u001b[38;5;241m.\u001b[39mbackward,\n\u001b[1;32m    619\u001b[0m         (\u001b[38;5;28mself\u001b[39m,),\n\u001b[0;32m   (...)\u001b[0m\n\u001b[1;32m    624\u001b[0m         inputs\u001b[38;5;241m=\u001b[39minputs,\n\u001b[1;32m    625\u001b[0m     )\n\u001b[0;32m--> 626\u001b[0m \u001b[43mtorch\u001b[49m\u001b[38;5;241;43m.\u001b[39;49m\u001b[43mautograd\u001b[49m\u001b[38;5;241;43m.\u001b[39;49m\u001b[43mbackward\u001b[49m\u001b[43m(\u001b[49m\n\u001b[1;32m    627\u001b[0m \u001b[43m    \u001b[49m\u001b[38;5;28;43mself\u001b[39;49m\u001b[43m,\u001b[49m\u001b[43m \u001b[49m\u001b[43mgradient\u001b[49m\u001b[43m,\u001b[49m\u001b[43m \u001b[49m\u001b[43mretain_graph\u001b[49m\u001b[43m,\u001b[49m\u001b[43m \u001b[49m\u001b[43mcreate_graph\u001b[49m\u001b[43m,\u001b[49m\u001b[43m \u001b[49m\u001b[43minputs\u001b[49m\u001b[38;5;241;43m=\u001b[39;49m\u001b[43minputs\u001b[49m\n\u001b[1;32m    628\u001b[0m \u001b[43m\u001b[49m\u001b[43m)\u001b[49m\n",
            "File \u001b[0;32m/usr/local/python/3.12.1/lib/python3.12/site-packages/torch/autograd/__init__.py:347\u001b[0m, in \u001b[0;36mbackward\u001b[0;34m(tensors, grad_tensors, retain_graph, create_graph, grad_variables, inputs)\u001b[0m\n\u001b[1;32m    342\u001b[0m     retain_graph \u001b[38;5;241m=\u001b[39m create_graph\n\u001b[1;32m    344\u001b[0m \u001b[38;5;66;03m# The reason we repeat the same comment below is that\u001b[39;00m\n\u001b[1;32m    345\u001b[0m \u001b[38;5;66;03m# some Python versions print out the first line of a multi-line function\u001b[39;00m\n\u001b[1;32m    346\u001b[0m \u001b[38;5;66;03m# calls in the traceback and some print out the last line\u001b[39;00m\n\u001b[0;32m--> 347\u001b[0m \u001b[43m_engine_run_backward\u001b[49m\u001b[43m(\u001b[49m\n\u001b[1;32m    348\u001b[0m \u001b[43m    \u001b[49m\u001b[43mtensors\u001b[49m\u001b[43m,\u001b[49m\n\u001b[1;32m    349\u001b[0m \u001b[43m    \u001b[49m\u001b[43mgrad_tensors_\u001b[49m\u001b[43m,\u001b[49m\n\u001b[1;32m    350\u001b[0m \u001b[43m    \u001b[49m\u001b[43mretain_graph\u001b[49m\u001b[43m,\u001b[49m\n\u001b[1;32m    351\u001b[0m \u001b[43m    \u001b[49m\u001b[43mcreate_graph\u001b[49m\u001b[43m,\u001b[49m\n\u001b[1;32m    352\u001b[0m \u001b[43m    \u001b[49m\u001b[43minputs\u001b[49m\u001b[43m,\u001b[49m\n\u001b[1;32m    353\u001b[0m \u001b[43m    \u001b[49m\u001b[43mallow_unreachable\u001b[49m\u001b[38;5;241;43m=\u001b[39;49m\u001b[38;5;28;43;01mTrue\u001b[39;49;00m\u001b[43m,\u001b[49m\n\u001b[1;32m    354\u001b[0m \u001b[43m    \u001b[49m\u001b[43maccumulate_grad\u001b[49m\u001b[38;5;241;43m=\u001b[39;49m\u001b[38;5;28;43;01mTrue\u001b[39;49;00m\u001b[43m,\u001b[49m\n\u001b[1;32m    355\u001b[0m \u001b[43m\u001b[49m\u001b[43m)\u001b[49m\n",
            "File \u001b[0;32m/usr/local/python/3.12.1/lib/python3.12/site-packages/torch/autograd/graph.py:823\u001b[0m, in \u001b[0;36m_engine_run_backward\u001b[0;34m(t_outputs, *args, **kwargs)\u001b[0m\n\u001b[1;32m    821\u001b[0m     unregister_hooks \u001b[38;5;241m=\u001b[39m _register_logging_hooks_on_whole_graph(t_outputs)\n\u001b[1;32m    822\u001b[0m \u001b[38;5;28;01mtry\u001b[39;00m:\n\u001b[0;32m--> 823\u001b[0m     \u001b[38;5;28;01mreturn\u001b[39;00m \u001b[43mVariable\u001b[49m\u001b[38;5;241;43m.\u001b[39;49m\u001b[43m_execution_engine\u001b[49m\u001b[38;5;241;43m.\u001b[39;49m\u001b[43mrun_backward\u001b[49m\u001b[43m(\u001b[49m\u001b[43m  \u001b[49m\u001b[38;5;66;43;03m# Calls into the C++ engine to run the backward pass\u001b[39;49;00m\n\u001b[1;32m    824\u001b[0m \u001b[43m        \u001b[49m\u001b[43mt_outputs\u001b[49m\u001b[43m,\u001b[49m\u001b[43m \u001b[49m\u001b[38;5;241;43m*\u001b[39;49m\u001b[43margs\u001b[49m\u001b[43m,\u001b[49m\u001b[43m \u001b[49m\u001b[38;5;241;43m*\u001b[39;49m\u001b[38;5;241;43m*\u001b[39;49m\u001b[43mkwargs\u001b[49m\n\u001b[1;32m    825\u001b[0m \u001b[43m    \u001b[49m\u001b[43m)\u001b[49m  \u001b[38;5;66;03m# Calls into the C++ engine to run the backward pass\u001b[39;00m\n\u001b[1;32m    826\u001b[0m \u001b[38;5;28;01mfinally\u001b[39;00m:\n\u001b[1;32m    827\u001b[0m     \u001b[38;5;28;01mif\u001b[39;00m attach_logging_hooks:\n",
            "\u001b[0;31mKeyboardInterrupt\u001b[0m: "
          ]
        }
      ],
      "source": [
        "device = args.device\n",
        "print('Using device {}'.format(device))\n",
        "cnn = Model()\n",
        "cnn = cnn.to(device)\n",
        "loss_func = nn.CrossEntropyLoss()\n",
        "optimizer = torch.optim.SGD(cnn.parameters(), lr=args.lr, momentum=args.momentum)\n",
        "\n",
        "def train(num_epochs, cnn):\n",
        "   for epoch in range(num_epochs):\n",
        "      cnn.train()\n",
        "\n",
        "      for idx, (img, label) in enumerate(mnist_train_loader):\n",
        "         img, label = img.to(device), label.to(device)\n",
        "\n",
        "         optimizer.zero_grad()\n",
        "\n",
        "         forward = cnn(img)\n",
        "\n",
        "         loss = loss_func(forward, label)\n",
        "\n",
        "         loss.backward()\n",
        "         optimizer.step()\n",
        "\n",
        "         if idx % args.log_interval == 0:\n",
        "            print(\"Epoch: [{}/{}], Train: [[{}/{} ({:.0f}%)], Loss: {:.5f}\".format(\n",
        "                epoch, num_epochs, \n",
        "                idx, len(mnist_train_loader), 100. * idx / len(mnist_train_loader),\n",
        "                loss.item()\n",
        "            ))\n",
        "\n",
        "train(args.epochs, cnn)"
      ]
    },
    {
      "cell_type": "code",
      "execution_count": 10,
      "id": "523a06a9-315e-4b23-adc0-c913606427cc",
      "metadata": {
        "id": "523a06a9-315e-4b23-adc0-c913606427cc"
      },
      "outputs": [
        {
          "name": "stdout",
          "output_type": "stream",
          "text": [
            "Test Accuracy of the model on the 10000 test images: 98.84 %\n"
          ]
        }
      ],
      "source": [
        "def test():\n",
        "    # Test the model\n",
        "    cnn.eval()\n",
        "    with torch.no_grad():\n",
        "        correct = 0\n",
        "        total = 0\n",
        "        for images, labels in mnist_test_loader:\n",
        "            test_output = cnn(images.to(device))\n",
        "            pred_y = torch.max(test_output, 1)[1].data.squeeze()\n",
        "            correct += (pred_y == labels.to(device)).sum().item()\n",
        "            total += labels.size(0)\n",
        "    print('Test Accuracy of the model on the 10000 test images: %.2f %%' % (correct*100.0/total))\n",
        "test()"
      ]
    }
  ],
  "metadata": {
    "colab": {
      "collapsed_sections": [],
      "name": "mnist_cnn_release.ipynb",
      "provenance": []
    },
    "kernelspec": {
      "display_name": "Python 3",
      "language": "python",
      "name": "python3"
    },
    "language_info": {
      "codemirror_mode": {
        "name": "ipython",
        "version": 3
      },
      "file_extension": ".py",
      "mimetype": "text/x-python",
      "name": "python",
      "nbconvert_exporter": "python",
      "pygments_lexer": "ipython3",
      "version": "3.12.1"
    }
  },
  "nbformat": 4,
  "nbformat_minor": 5
}
