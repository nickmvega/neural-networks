{
 "cells": [
  {
   "cell_type": "markdown",
   "metadata": {},
   "source": [
    "# Final Project"
   ]
  },
  {
   "cell_type": "markdown",
   "metadata": {},
   "source": [
    "# Gathering Data + Setup"
   ]
  },
  {
   "cell_type": "markdown",
   "metadata": {},
   "source": [
    "## NEED VAE IMPLEMENTATION FROM THIS THATS ALL"
   ]
  },
  {
   "cell_type": "code",
   "execution_count": null,
   "metadata": {},
   "outputs": [
    {
     "name": "stdout",
     "output_type": "stream",
     "text": [
      "Using device: cpu\n",
      "Coordinate shape: torch.Size([784, 34])\n",
      "Coordinate min/max: -1.0 1.0\n",
      "Encoded coordinate shape: torch.Size([784, 34])\n"
     ]
    },
    {
     "name": "stderr",
     "output_type": "stream",
     "text": [
      "Epoch 1/1:   0%|          | 2/3750 [00:00<05:07, 12.20it/s]"
     ]
    },
    {
     "name": "stdout",
     "output_type": "stream",
     "text": [
      "Batch 0/3750: Loss: 0.161701, Recon: 0.161701\n"
     ]
    },
    {
     "name": "stderr",
     "output_type": "stream",
     "text": [
      "Epoch 1/1:   3%|▎         | 102/3750 [00:08<05:18, 11.44it/s]"
     ]
    },
    {
     "name": "stdout",
     "output_type": "stream",
     "text": [
      "Batch 100/3750: Loss: 0.150019, Recon: 0.150019\n"
     ]
    },
    {
     "name": "stderr",
     "output_type": "stream",
     "text": [
      "Epoch 1/1:   5%|▌         | 203/3750 [00:16<03:10, 18.58it/s]"
     ]
    },
    {
     "name": "stdout",
     "output_type": "stream",
     "text": [
      "Batch 200/3750: Loss: 0.173555, Recon: 0.173555\n"
     ]
    },
    {
     "name": "stderr",
     "output_type": "stream",
     "text": [
      "Epoch 1/1:   8%|▊         | 304/3750 [00:21<02:48, 20.51it/s]"
     ]
    },
    {
     "name": "stdout",
     "output_type": "stream",
     "text": [
      "Batch 300/3750: Loss: 0.176901, Recon: 0.176901\n"
     ]
    },
    {
     "name": "stderr",
     "output_type": "stream",
     "text": [
      "Epoch 1/1:  11%|█         | 403/3750 [00:26<02:39, 21.03it/s]"
     ]
    },
    {
     "name": "stdout",
     "output_type": "stream",
     "text": [
      "Batch 400/3750: Loss: 0.158308, Recon: 0.158308\n"
     ]
    },
    {
     "name": "stderr",
     "output_type": "stream",
     "text": [
      "Epoch 1/1:  13%|█▎        | 505/3750 [00:31<02:34, 20.96it/s]"
     ]
    },
    {
     "name": "stdout",
     "output_type": "stream",
     "text": [
      "Batch 500/3750: Loss: 0.157883, Recon: 0.157883\n"
     ]
    },
    {
     "name": "stderr",
     "output_type": "stream",
     "text": [
      "Epoch 1/1:  16%|█▌        | 604/3750 [00:35<02:37, 20.02it/s]"
     ]
    },
    {
     "name": "stdout",
     "output_type": "stream",
     "text": [
      "Batch 600/3750: Loss: 0.156225, Recon: 0.156225\n"
     ]
    },
    {
     "name": "stderr",
     "output_type": "stream",
     "text": [
      "Epoch 1/1:  19%|█▊        | 702/3750 [00:40<02:30, 20.24it/s]"
     ]
    },
    {
     "name": "stdout",
     "output_type": "stream",
     "text": [
      "Batch 700/3750: Loss: 0.160167, Recon: 0.160167\n"
     ]
    },
    {
     "name": "stderr",
     "output_type": "stream",
     "text": [
      "Epoch 1/1:  21%|██▏       | 805/3750 [00:45<02:36, 18.79it/s]"
     ]
    },
    {
     "name": "stdout",
     "output_type": "stream",
     "text": [
      "Batch 800/3750: Loss: 0.153816, Recon: 0.153816\n"
     ]
    },
    {
     "name": "stderr",
     "output_type": "stream",
     "text": [
      "Epoch 1/1:  24%|██▍       | 904/3750 [00:52<02:57, 16.00it/s]"
     ]
    },
    {
     "name": "stdout",
     "output_type": "stream",
     "text": [
      "Batch 900/3750: Loss: 0.168452, Recon: 0.168452\n"
     ]
    },
    {
     "name": "stderr",
     "output_type": "stream",
     "text": [
      "Epoch 1/1:  27%|██▋       | 1003/3750 [00:57<02:09, 21.25it/s]"
     ]
    },
    {
     "name": "stdout",
     "output_type": "stream",
     "text": [
      "Batch 1000/3750: Loss: 0.163996, Recon: 0.163996\n"
     ]
    },
    {
     "name": "stderr",
     "output_type": "stream",
     "text": [
      "Epoch 1/1:  29%|██▉       | 1104/3750 [01:03<02:35, 16.98it/s]"
     ]
    },
    {
     "name": "stdout",
     "output_type": "stream",
     "text": [
      "Batch 1100/3750: Loss: 0.169841, Recon: 0.169841\n"
     ]
    },
    {
     "name": "stderr",
     "output_type": "stream",
     "text": [
      "Epoch 1/1:  32%|███▏      | 1203/3750 [01:09<02:26, 17.34it/s]"
     ]
    },
    {
     "name": "stdout",
     "output_type": "stream",
     "text": [
      "Batch 1200/3750: Loss: 0.161970, Recon: 0.161970\n"
     ]
    },
    {
     "name": "stderr",
     "output_type": "stream",
     "text": [
      "Epoch 1/1:  35%|███▍      | 1303/3750 [01:14<02:17, 17.79it/s]"
     ]
    },
    {
     "name": "stdout",
     "output_type": "stream",
     "text": [
      "Batch 1300/3750: Loss: 0.165253, Recon: 0.165253\n"
     ]
    },
    {
     "name": "stderr",
     "output_type": "stream",
     "text": [
      "Epoch 1/1:  37%|███▋      | 1405/3750 [01:19<01:49, 21.44it/s]"
     ]
    },
    {
     "name": "stdout",
     "output_type": "stream",
     "text": [
      "Batch 1400/3750: Loss: 0.171792, Recon: 0.171792\n"
     ]
    },
    {
     "name": "stderr",
     "output_type": "stream",
     "text": [
      "Epoch 1/1:  40%|████      | 1504/3750 [01:24<01:47, 20.83it/s]"
     ]
    },
    {
     "name": "stdout",
     "output_type": "stream",
     "text": [
      "Batch 1500/3750: Loss: 0.156772, Recon: 0.156772\n"
     ]
    },
    {
     "name": "stderr",
     "output_type": "stream",
     "text": [
      "Epoch 1/1:  43%|████▎     | 1604/3750 [01:29<01:48, 19.86it/s]"
     ]
    },
    {
     "name": "stdout",
     "output_type": "stream",
     "text": [
      "Batch 1600/3750: Loss: 0.151292, Recon: 0.151292\n"
     ]
    },
    {
     "name": "stderr",
     "output_type": "stream",
     "text": [
      "Epoch 1/1:  45%|████▌     | 1703/3750 [01:35<01:49, 18.73it/s]"
     ]
    },
    {
     "name": "stdout",
     "output_type": "stream",
     "text": [
      "Batch 1700/3750: Loss: 0.166345, Recon: 0.166345\n"
     ]
    },
    {
     "name": "stderr",
     "output_type": "stream",
     "text": [
      "Epoch 1/1:  48%|████▊     | 1805/3750 [01:40<01:35, 20.36it/s]"
     ]
    },
    {
     "name": "stdout",
     "output_type": "stream",
     "text": [
      "Batch 1800/3750: Loss: 0.166865, Recon: 0.166865\n"
     ]
    },
    {
     "name": "stderr",
     "output_type": "stream",
     "text": [
      "Epoch 1/1:  51%|█████     | 1903/3750 [01:44<01:28, 20.96it/s]"
     ]
    },
    {
     "name": "stdout",
     "output_type": "stream",
     "text": [
      "Batch 1900/3750: Loss: 0.174835, Recon: 0.174835\n"
     ]
    },
    {
     "name": "stderr",
     "output_type": "stream",
     "text": [
      "Epoch 1/1:  53%|█████▎    | 2004/3750 [01:49<01:22, 21.27it/s]"
     ]
    },
    {
     "name": "stdout",
     "output_type": "stream",
     "text": [
      "Batch 2000/3750: Loss: 0.179913, Recon: 0.179913\n"
     ]
    },
    {
     "name": "stderr",
     "output_type": "stream",
     "text": [
      "Epoch 1/1:  56%|█████▌    | 2105/3750 [01:54<01:21, 20.19it/s]"
     ]
    },
    {
     "name": "stdout",
     "output_type": "stream",
     "text": [
      "Batch 2100/3750: Loss: 0.169694, Recon: 0.169694\n"
     ]
    },
    {
     "name": "stderr",
     "output_type": "stream",
     "text": [
      "Epoch 1/1:  59%|█████▉    | 2205/3750 [01:59<01:14, 20.68it/s]"
     ]
    },
    {
     "name": "stdout",
     "output_type": "stream",
     "text": [
      "Batch 2200/3750: Loss: 0.169520, Recon: 0.169520\n"
     ]
    },
    {
     "name": "stderr",
     "output_type": "stream",
     "text": [
      "Epoch 1/1:  61%|██████▏   | 2304/3750 [02:04<01:09, 20.88it/s]"
     ]
    },
    {
     "name": "stdout",
     "output_type": "stream",
     "text": [
      "Batch 2300/3750: Loss: 0.165718, Recon: 0.165718\n"
     ]
    },
    {
     "name": "stderr",
     "output_type": "stream",
     "text": [
      "Epoch 1/1:  64%|██████▍   | 2403/3750 [02:09<01:05, 20.70it/s]"
     ]
    },
    {
     "name": "stdout",
     "output_type": "stream",
     "text": [
      "Batch 2400/3750: Loss: 0.167273, Recon: 0.167273\n"
     ]
    },
    {
     "name": "stderr",
     "output_type": "stream",
     "text": [
      "Epoch 1/1:  67%|██████▋   | 2505/3750 [02:14<00:58, 21.23it/s]"
     ]
    },
    {
     "name": "stdout",
     "output_type": "stream",
     "text": [
      "Batch 2500/3750: Loss: 0.168533, Recon: 0.168533\n"
     ]
    },
    {
     "name": "stderr",
     "output_type": "stream",
     "text": [
      "Epoch 1/1:  69%|██████▉   | 2604/3750 [02:18<00:54, 21.13it/s]"
     ]
    },
    {
     "name": "stdout",
     "output_type": "stream",
     "text": [
      "Batch 2600/3750: Loss: 0.165044, Recon: 0.165044\n"
     ]
    },
    {
     "name": "stderr",
     "output_type": "stream",
     "text": [
      "Epoch 1/1:  72%|███████▏  | 2703/3750 [02:23<00:49, 21.35it/s]"
     ]
    },
    {
     "name": "stdout",
     "output_type": "stream",
     "text": [
      "Batch 2700/3750: Loss: 0.173134, Recon: 0.173134\n"
     ]
    },
    {
     "name": "stderr",
     "output_type": "stream",
     "text": [
      "Epoch 1/1:  75%|███████▍  | 2805/3750 [02:28<00:47, 20.07it/s]"
     ]
    },
    {
     "name": "stdout",
     "output_type": "stream",
     "text": [
      "Batch 2800/3750: Loss: 0.164641, Recon: 0.164641\n"
     ]
    },
    {
     "name": "stderr",
     "output_type": "stream",
     "text": [
      "Epoch 1/1:  77%|███████▋  | 2903/3750 [02:33<00:41, 20.26it/s]"
     ]
    },
    {
     "name": "stdout",
     "output_type": "stream",
     "text": [
      "Batch 2900/3750: Loss: 0.166172, Recon: 0.166172\n"
     ]
    },
    {
     "name": "stderr",
     "output_type": "stream",
     "text": [
      "Epoch 1/1:  80%|████████  | 3004/3750 [02:38<00:35, 21.21it/s]"
     ]
    },
    {
     "name": "stdout",
     "output_type": "stream",
     "text": [
      "Batch 3000/3750: Loss: 0.152275, Recon: 0.152275\n"
     ]
    },
    {
     "name": "stderr",
     "output_type": "stream",
     "text": [
      "Epoch 1/1:  83%|████████▎ | 3103/3750 [02:43<00:30, 21.01it/s]"
     ]
    },
    {
     "name": "stdout",
     "output_type": "stream",
     "text": [
      "Batch 3100/3750: Loss: 0.157655, Recon: 0.157655\n"
     ]
    },
    {
     "name": "stderr",
     "output_type": "stream",
     "text": [
      "Epoch 1/1:  85%|████████▌ | 3205/3750 [02:48<00:25, 21.20it/s]"
     ]
    },
    {
     "name": "stdout",
     "output_type": "stream",
     "text": [
      "Batch 3200/3750: Loss: 0.171302, Recon: 0.171302\n"
     ]
    },
    {
     "name": "stderr",
     "output_type": "stream",
     "text": [
      "Epoch 1/1:  88%|████████▊ | 3304/3750 [02:53<00:21, 20.71it/s]"
     ]
    },
    {
     "name": "stdout",
     "output_type": "stream",
     "text": [
      "Batch 3300/3750: Loss: 0.160283, Recon: 0.160283\n"
     ]
    },
    {
     "name": "stderr",
     "output_type": "stream",
     "text": [
      "Epoch 1/1:  91%|█████████ | 3404/3750 [02:57<00:17, 20.25it/s]"
     ]
    },
    {
     "name": "stdout",
     "output_type": "stream",
     "text": [
      "Batch 3400/3750: Loss: 0.173895, Recon: 0.173895\n"
     ]
    },
    {
     "name": "stderr",
     "output_type": "stream",
     "text": [
      "Epoch 1/1:  93%|█████████▎| 3505/3750 [03:03<00:12, 20.30it/s]"
     ]
    },
    {
     "name": "stdout",
     "output_type": "stream",
     "text": [
      "Batch 3500/3750: Loss: 0.167728, Recon: 0.167728\n"
     ]
    },
    {
     "name": "stderr",
     "output_type": "stream",
     "text": [
      "Epoch 1/1:  96%|█████████▌| 3603/3750 [03:09<00:07, 20.23it/s]"
     ]
    },
    {
     "name": "stdout",
     "output_type": "stream",
     "text": [
      "Batch 3600/3750: Loss: 0.170103, Recon: 0.170103\n"
     ]
    },
    {
     "name": "stderr",
     "output_type": "stream",
     "text": [
      "Epoch 1/1:  99%|█████████▉| 3704/3750 [03:15<00:02, 20.48it/s]"
     ]
    },
    {
     "name": "stdout",
     "output_type": "stream",
     "text": [
      "Batch 3700/3750: Loss: 0.167345, Recon: 0.167345\n"
     ]
    },
    {
     "name": "stderr",
     "output_type": "stream",
     "text": [
      "Epoch 1/1: 100%|██████████| 3750/3750 [03:17<00:00, 18.99it/s]\n"
     ]
    },
    {
     "name": "stdout",
     "output_type": "stream",
     "text": [
      "Epoch [1/1] Loss: 0.164933, Recon: 0.164933, \n",
      "Training complete!\n"
     ]
    },
    {
     "data": {
      "image/png": "[encoded data removed]",
      "text/plain": [
       "<Figure size 1600x600 with 24 Axes>"
      ]
     },
     "metadata": {},
     "output_type": "display_data"
    }
   ],
   "source": [
    "import torch\n",
    "import torch.nn as nn\n",
    "import torch.nn.functional as F\n",
    "import torchvision\n",
    "import torchvision.transforms as transforms\n",
    "import numpy as np\n",
    "import matplotlib.pyplot as plt\n",
    "from tqdm import tqdm\n",
    "\n",
    "torch.manual_seed(42)\n",
    "np.random.seed(42)\n",
    "\n",
    "transform = transforms.Compose([transforms.ToTensor()])\n",
    "train_set = torchvision.datasets.FashionMNIST(\"./data\", download=True, transform=transform)\n",
    "test_set = torchvision.datasets.FashionMNIST(\"./data\", download=True, train=False, transform=transform)\n",
    "\n",
    "batch_size = 16  \n",
    "train_loader = torch.utils.data.DataLoader(train_set, batch_size=batch_size, shuffle=True)\n",
    "test_loader = torch.utils.data.DataLoader(test_set, batch_size=batch_size, shuffle=False)\n",
    "\n",
    "class_names = ['T-shirt/top', 'Trouser', 'Pullover', 'Dress', 'Coat',\n",
    "               'Sandal', 'Shirt', 'Sneaker', 'Bag', 'Ankle Boot']\n",
    "\n",
    "def positional_encoding(coords, num_bands=8):\n",
    "    \"\"\"Apply positional encoding to coordinates with multiple frequency bands.\"\"\"\n",
    "    pos_enc = [coords]\n",
    "    for i in range(num_bands):\n",
    "        freq = 2.0 ** i\n",
    "        pos_enc.append(torch.sin(coords * freq * np.pi))\n",
    "        pos_enc.append(torch.cos(coords * freq * np.pi))\n",
    "    return torch.cat(pos_enc, dim=-1)\n",
    "\n",
    "def get_mgrid(sidelen, dim=2, num_bands=8):\n",
    "    '''Generates a flattened grid of (x,y,...) coordinates in a range of -1 to 1.'''\n",
    "    if isinstance(sidelen, int):\n",
    "        sidelen = dim * (sidelen,)\n",
    "    coords = [torch.linspace(-1, 1, s) for s in sidelen]\n",
    "    mesh_coords = torch.meshgrid(*coords, indexing='ij')  \n",
    "    coords = torch.stack(mesh_coords, dim=-1).reshape(-1, dim)\n",
    "    return positional_encoding(coords, num_bands)\n",
    "\n",
    "class SIREN(nn.Module):\n",
    "    def __init__(self, input_dim=2+2*2*8, hidden_dim=256, hidden_layers=3, output_dim=1, first_omega=1.0, hidden_omega=10.0):\n",
    "        super().__init__()\n",
    "        self.input_dim = input_dim\n",
    "        self.hidden_dim = hidden_dim\n",
    "        self.hidden_layers = hidden_layers\n",
    "        self.output_dim = output_dim\n",
    "        self.first_omega = first_omega\n",
    "        self.hidden_omega = hidden_omega\n",
    "\n",
    "        self.first_layer = nn.Linear(input_dim, hidden_dim)\n",
    "        with torch.no_grad():\n",
    "\n",
    "            self.first_layer.weight.uniform_(-1/input_dim, 1/input_dim)\n",
    "            self.first_layer.bias.uniform_(-1/input_dim, 1/input_dim)\n",
    "        \n",
    "        self.hidden_layers_list = nn.ModuleList()\n",
    "        for _ in range(hidden_layers):\n",
    "            layer = nn.Linear(hidden_dim, hidden_dim)\n",
    "            with torch.no_grad():\n",
    "\n",
    "                layer.weight.uniform_(-np.sqrt(6/hidden_dim)/hidden_omega, \n",
    "                                      np.sqrt(6/hidden_dim)/hidden_omega)\n",
    "                layer.bias.uniform_(-np.sqrt(6/hidden_dim)/hidden_omega, \n",
    "                                    np.sqrt(6/hidden_dim)/hidden_omega)\n",
    "            self.hidden_layers_list.append(layer)\n",
    "        \n",
    "        self.output_layer = nn.Linear(hidden_dim, output_dim)\n",
    "        with torch.no_grad():\n",
    "\n",
    "            self.output_layer.weight.uniform_(-np.sqrt(6/hidden_dim)/hidden_omega, \n",
    "                                              np.sqrt(6/hidden_dim)/hidden_omega)\n",
    "            self.output_layer.bias.uniform_(-1, 1)\n",
    "    \n",
    "    def forward(self, x):\n",
    "        x = torch.sin(self.first_omega * self.first_layer(x))\n",
    "        for layer in self.hidden_layers_list:\n",
    "            x = torch.sin(self.hidden_omega * layer(x))\n",
    "\n",
    "        return torch.sigmoid(self.output_layer(x))\n",
    "    \n",
    "    def set_weights_vector(self, weights_vector):\n",
    "        \"\"\"Set all weights from a flattened vector\"\"\"\n",
    "        start_idx = 0\n",
    "        \n",
    "\n",
    "        w_size = self.first_layer.weight.numel()\n",
    "        self.first_layer.weight.data = weights_vector[start_idx:start_idx+w_size].view(self.first_layer.weight.shape)\n",
    "        start_idx += w_size\n",
    "        \n",
    "        b_size = self.first_layer.bias.numel()\n",
    "        self.first_layer.bias.data = weights_vector[start_idx:start_idx+b_size].view(self.first_layer.bias.shape)\n",
    "        start_idx += b_size\n",
    "        \n",
    "\n",
    "        for layer in self.hidden_layers_list:\n",
    "            w_size = layer.weight.numel()\n",
    "            layer.weight.data = weights_vector[start_idx:start_idx+w_size].view(layer.weight.shape)\n",
    "            start_idx += w_size\n",
    "            \n",
    "            b_size = layer.bias.numel()\n",
    "            layer.bias.data = weights_vector[start_idx:start_idx+b_size].view(layer.bias.shape)\n",
    "            start_idx += b_size\n",
    "        \n",
    "\n",
    "        w_size = self.output_layer.weight.numel()\n",
    "        self.output_layer.weight.data = weights_vector[start_idx:start_idx+w_size].view(self.output_layer.weight.shape)\n",
    "        start_idx += w_size\n",
    "        \n",
    "        b_size = self.output_layer.bias.numel()\n",
    "        self.output_layer.bias.data = weights_vector[start_idx:start_idx+b_size].view(self.output_layer.bias.shape)\n",
    "    \n",
    "    @staticmethod\n",
    "    def calc_total_weights(input_dim, hidden_dim, hidden_layers, output_dim):\n",
    "        \"\"\"Calculate the total number of weights in the SIREN\"\"\"\n",
    "        total = input_dim * hidden_dim + hidden_dim\n",
    "        \n",
    "        total += hidden_layers * (hidden_dim * hidden_dim + hidden_dim)\n",
    "        \n",
    "        total += hidden_dim * output_dim + output_dim\n",
    "        \n",
    "        return total\n",
    "\n",
    "class VAE(nn.Module):\n",
    "    def __init__(self, z_dim=64, siren_config=None):\n",
    "        super().__init__()\n",
    "        self.z_dim = z_dim\n",
    "        \n",
    "        # Default SIREN config\n",
    "        self.siren_config = {\n",
    "            'input_dim': 2 + 2*2*8,  \n",
    "            'hidden_dim': 128,       \n",
    "            'hidden_layers': 3,       \n",
    "            'output_dim': 1\n",
    "        }\n",
    "        \n",
    "        # Update config if provided\n",
    "        if siren_config is not None:\n",
    "            self.siren_config.update(siren_config)\n",
    "        \n",
    "        self.encoder = nn.Sequential(\n",
    "            nn.Conv2d(1, 32, 4, stride=2, padding=1),             # 28x28 -> 14x14\n",
    "            nn.LeakyReLU(0.2, inplace=True),\n",
    "            nn.Conv2d(32, 64, 4, stride=2, padding=1),            # 14x14 -> 7x7\n",
    "            nn.LeakyReLU(0.2, inplace=True),\n",
    "            nn.Conv2d(64, 128, 3, stride=1, padding=1),           # 7x7 -> 7x7\n",
    "            nn.LeakyReLU(0.2, inplace=True),\n",
    "            nn.Flatten(),\n",
    "            nn.Linear(128 * 7 * 7, 512),\n",
    "            nn.LeakyReLU(0.2, inplace=True)\n",
    "        )\n",
    "        \n",
    "\n",
    "        self.fc_mu = nn.Linear(512, z_dim)\n",
    "        self.fc_logvar = nn.Linear(512, z_dim)\n",
    "        \n",
    "\n",
    "        total_weights = SIREN.calc_total_weights(\n",
    "            input_dim=self.siren_config['input_dim'],\n",
    "            hidden_dim=self.siren_config['hidden_dim'],\n",
    "            hidden_layers=self.siren_config['hidden_layers'],\n",
    "            output_dim=self.siren_config['output_dim']\n",
    "        )\n",
    "        \n",
    "\n",
    "        self.decoder = nn.Sequential(\n",
    "            nn.Linear(z_dim, 512),\n",
    "            nn.LeakyReLU(0.2, inplace=True),\n",
    "            nn.Linear(512, 1024),\n",
    "            nn.LeakyReLU(0.2, inplace=True),\n",
    "            nn.Linear(1024, total_weights) \n",
    "        )\n",
    "    \n",
    "    def encode(self, x):\n",
    "        h = self.encoder(x)\n",
    "        return self.fc_mu(h), self.fc_logvar(h)\n",
    "    \n",
    "    def reparameterize(self, mu, logvar):\n",
    "        logvar = torch.clamp(logvar, -4, 4)\n",
    "        std = torch.exp(0.5 * logvar)\n",
    "        eps = torch.randn_like(std)\n",
    "        return mu + eps * std\n",
    "    \n",
    "    # Modify your VAE's decode method\n",
    "    def decode(self, z):\n",
    "        raw_weights = self.decoder(z)\n",
    "        \n",
    "        # Split and scale weights for different SIREN layers\n",
    "        weights_list = []\n",
    "        start_idx = 0\n",
    "        \n",
    "        # First layer weights - needs uniform(-1/in_dim, 1/in_dim)\n",
    "        in_dim = self.siren_config['input_dim']\n",
    "        first_w_size = in_dim * self.siren_config['hidden_dim']\n",
    "        first_b_size = self.siren_config['hidden_dim']\n",
    "        \n",
    "        first_w = raw_weights[:, start_idx:start_idx+first_w_size].view(-1, self.siren_config['hidden_dim'], in_dim)\n",
    "        start_idx += first_w_size\n",
    "        first_w = torch.tanh(first_w) * (1.0/in_dim)  # Scale to proper range\n",
    "        weights_list.append(first_w.reshape(-1, first_w_size))\n",
    "        \n",
    "        first_b = raw_weights[:, start_idx:start_idx+first_b_size]\n",
    "        start_idx += first_b_size\n",
    "        first_b = torch.tanh(first_b) * (1.0/in_dim)  # Scale to proper range\n",
    "        weights_list.append(first_b)\n",
    "        \n",
    "        # Hidden layers - needs scaled by sqrt(6/hidden_dim)/omega\n",
    "        hidden_dim = self.siren_config['hidden_dim']\n",
    "        hidden_omega = 30.0\n",
    "        scale_factor = np.sqrt(6/hidden_dim)/hidden_omega\n",
    "        \n",
    "        for _ in range(self.siren_config['hidden_layers']):\n",
    "            hidden_w_size = hidden_dim * hidden_dim\n",
    "            hidden_w = raw_weights[:, start_idx:start_idx+hidden_w_size].view(-1, hidden_dim, hidden_dim)\n",
    "            start_idx += hidden_w_size\n",
    "            hidden_w = torch.tanh(hidden_w) * scale_factor\n",
    "            weights_list.append(hidden_w.reshape(-1, hidden_w_size))\n",
    "            \n",
    "            hidden_b_size = hidden_dim\n",
    "            hidden_b = raw_weights[:, start_idx:start_idx+hidden_b_size]\n",
    "            start_idx += hidden_b_size\n",
    "            hidden_b = torch.tanh(hidden_b) * scale_factor\n",
    "            weights_list.append(hidden_b)\n",
    "        \n",
    "        # Output layer\n",
    "        out_dim = self.siren_config['output_dim']\n",
    "        out_w_size = hidden_dim * out_dim\n",
    "        out_w = raw_weights[:, start_idx:start_idx+out_w_size].view(-1, out_dim, hidden_dim)\n",
    "        start_idx += out_w_size\n",
    "        out_w = torch.tanh(out_w) * scale_factor\n",
    "        weights_list.append(out_w.reshape(-1, out_w_size))\n",
    "        \n",
    "        out_b_size = out_dim\n",
    "        out_b = raw_weights[:, start_idx:start_idx+out_b_size]\n",
    "        out_b = torch.tanh(out_b)  # Range (-1, 1) is fine for output bias\n",
    "        weights_list.append(out_b)\n",
    "        \n",
    "        # Concatenate all scaled weights\n",
    "        return torch.cat(weights_list, dim=1)\n",
    "    \n",
    "    def forward(self, x):\n",
    "        mu, logvar = self.encode(x)\n",
    "        z = self.reparameterize(mu, logvar)\n",
    "        return self.decode(z), mu, logvar\n",
    "\n",
    "\n",
    "def train(num_epochs=1, save_interval=1):\n",
    "    device = torch.device('cuda' if torch.cuda.is_available() else 'cpu')\n",
    "    print(f\"Using device: {device}\")\n",
    "    \n",
    "\n",
    "    num_bands = 8\n",
    "    siren_config = {\n",
    "        'input_dim': 2 + 2*2*num_bands,\n",
    "        'hidden_dim': 128, \n",
    "        'hidden_layers': 3, \n",
    "        'output_dim': 1,\n",
    "    }\n",
    "    \n",
    "\n",
    "    vae = VAE(z_dim=64, siren_config=siren_config).to(device) \n",
    "    siren = SIREN(\n",
    "        input_dim=siren_config['input_dim'],\n",
    "        hidden_dim=siren_config['hidden_dim'],\n",
    "        hidden_layers=siren_config['hidden_layers'],\n",
    "        output_dim=siren_config['output_dim']\n",
    "    ).to(device)\n",
    "    \n",
    "    optimizer = torch.optim.Adam(vae.parameters(), lr=0.0005)\n",
    "    \n",
    "    coords = get_mgrid(28, num_bands=num_bands).to(device)\n",
    "\n",
    "    with torch.no_grad():\n",
    "        print(\"Coordinate shape:\", coords.shape)\n",
    "        print(\"Coordinate min/max:\", coords[:, 0].min().item(), coords[:, 0].max().item())\n",
    "        print(\"Encoded coordinate shape:\", coords.shape)\n",
    "        \n",
    "        # Visualize the coordinate grid to make sure it's correct\n",
    "        coord_grid = coords[:, :2].reshape(28, 28, 2)\n",
    "        plt.figure(figsize=(10, 5))\n",
    "        plt.subplot(1, 2, 1)\n",
    "        plt.imshow(coord_grid[:, :, 0].cpu())\n",
    "        plt.title(\"X coordinates\")\n",
    "        plt.subplot(1, 2, 2)\n",
    "        plt.imshow(coord_grid[:, :, 1].cpu())\n",
    "        plt.title(\"Y coordinates\")\n",
    "        plt.savefig(\"coordinate_grid.png\")\n",
    "        plt.close()\n",
    "    \n",
    "    example_data = next(iter(test_loader))\n",
    "    example_images = example_data[0][:8].to(device)\n",
    "    \n",
    "    best_loss = float('inf')\n",
    "    patience = 5\n",
    "    patience_counter = 0\n",
    "    \n",
    "    for epoch in range(num_epochs):\n",
    "        vae.train()\n",
    "        total_loss = 0\n",
    "        total_recon_loss = 0\n",
    "        total_kl_loss = 0\n",
    "        \n",
    "        for batch_idx, (images, _) in enumerate(tqdm(train_loader, desc=f\"Epoch {epoch+1}/{num_epochs}\")):\n",
    "            images = images.to(device)\n",
    "            batch_size = images.size(0)\n",
    "            \n",
    "            optimizer.zero_grad()\n",
    "            \n",
    "            siren_weights_batch, mu, logvar = vae(images)\n",
    "            \n",
    "            reconstruction_loss = 0\n",
    "            \n",
    "            reconstructed_images = []\n",
    "            for j in range(batch_size):\n",
    "                siren.set_weights_vector(siren_weights_batch[j])\n",
    "                \n",
    "                reconstructed_image = siren(coords).reshape(1, 1, 28, 28)\n",
    "                reconstructed_images.append(reconstructed_image)\n",
    "            \n",
    "            reconstructed_batch = torch.cat(reconstructed_images, dim=0)\n",
    "            \n",
    "            reconstruction_loss = F.mse_loss(reconstructed_batch, images)\n",
    "            \n",
    "            loss = reconstruction_loss\n",
    "            \n",
    "            loss.backward()\n",
    "            torch.nn.utils.clip_grad_norm_(vae.parameters(), max_norm=1.0)\n",
    "            \n",
    "\n",
    "            optimizer.step()\n",
    "            \n",
    "            total_loss += loss.item()\n",
    "            total_recon_loss += reconstruction_loss.item()\n",
    "            \n",
    "\n",
    "            if batch_idx % 100 == 0:\n",
    "                print(f\"Batch {batch_idx}/{len(train_loader)}: \"\n",
    "                      f\"Loss: {loss.item():.6f}, \"\n",
    "                      f\"Recon: {reconstruction_loss.item():.6f}\")\n",
    "        \n",
    "\n",
    "        avg_loss = total_loss / len(train_loader)\n",
    "        avg_recon = total_recon_loss / len(train_loader)\n",
    "        print(f\"Epoch [{epoch+1}/{num_epochs}] \"\n",
    "              f\"Loss: {avg_loss:.6f}, \"\n",
    "              f\"Recon: {avg_recon:.6f}, \")\n",
    "        \n",
    "\n",
    "        if avg_loss < best_loss:\n",
    "            best_loss = avg_loss\n",
    "            patience_counter = 0\n",
    "\n",
    "            torch.save({\n",
    "                'vae_state_dict': vae.state_dict(),\n",
    "                'siren_config': siren_config,\n",
    "                'epoch': epoch,\n",
    "                'loss': avg_loss\n",
    "            }, 'best_vae_siren_model.pt')\n",
    "        else:\n",
    "            patience_counter += 1\n",
    "            if patience_counter >= patience:\n",
    "                print(f\"Early stopping at epoch {epoch+1}\")\n",
    "                break\n",
    "        \n",
    "        if epoch % save_interval == 0:\n",
    "            with torch.no_grad():\n",
    "                vae.eval()\n",
    "                \n",
    "\n",
    "                test_recon_images = []\n",
    "                for i in range(example_images.size(0)):\n",
    "                    # Encode and decode\n",
    "                    mu, logvar = vae.encode(example_images[i:i+1])\n",
    "                    z = vae.reparameterize(mu, logvar)\n",
    "                    siren_weights = vae.decode(z)\n",
    "                    \n",
    "                    # Set weights and get reconstruction\n",
    "                    siren.set_weights_vector(siren_weights.squeeze(0))\n",
    "                    recon_image = siren(coords).reshape(1, 28, 28)\n",
    "                    test_recon_images.append(recon_image)\n",
    "                \n",
    "                # Stack the images\n",
    "                test_recon_images = torch.cat(test_recon_images, dim=0)\n",
    "                \n",
    "                # Generate random samples\n",
    "                z = torch.randn(8, vae.z_dim, device=device)\n",
    "                generated_images = []\n",
    "                for i in range(z.size(0)):\n",
    "                    siren_weights = vae.decode(z[i:i+1])\n",
    "                    siren.set_weights_vector(siren_weights.squeeze(0))\n",
    "                    gen_image = siren(coords).reshape(1, 28, 28)\n",
    "                    generated_images.append(gen_image)\n",
    "                \n",
    "\n",
    "                generated_images = torch.cat(generated_images, dim=0)\n",
    "                \n",
    "\n",
    "                plt.figure(figsize=(12, 8))\n",
    "                \n",
    "\n",
    "                for i in range(8):\n",
    "                    plt.subplot(3, 8, i + 1)\n",
    "                    plt.imshow(example_images[i].cpu().squeeze(), cmap='gray')\n",
    "                    plt.axis('off')\n",
    "                    plt.title(\"Original\")\n",
    "                \n",
    "                for i in range(8):\n",
    "                    plt.subplot(3, 8, i + 9)\n",
    "                    plt.imshow(test_recon_images[i].cpu().squeeze(), cmap='gray')\n",
    "                    plt.axis('off')\n",
    "                    plt.title(\"Reconstructed\")\n",
    "                \n",
    "                # Plot generated images\n",
    "                for i in range(8):\n",
    "                    plt.subplot(3, 8, i + 17)\n",
    "                    plt.imshow(generated_images[i].cpu().squeeze(), cmap='gray')\n",
    "                    plt.axis('off')\n",
    "                    plt.title(\"Generated\")\n",
    "                \n",
    "                plt.suptitle(f\"Epoch {epoch+1}\")\n",
    "                plt.tight_layout()\n",
    "                plt.savefig(f\"vae_siren_epoch_{epoch+1}.png\")\n",
    "                plt.close()\n",
    "    \n",
    "    print(\"Training complete!\")\n",
    "    return vae, siren\n",
    "\n",
    "def evaluate_model(model_path='best_vae_siren_model.pt'):\n",
    "    # Load model\n",
    "    checkpoint = torch.load(model_path)\n",
    "    siren_config = checkpoint['siren_config']\n",
    "    \n",
    "    device = torch.device('cuda' if torch.cuda.is_available() else 'cpu')\n",
    "    \n",
    "    vae = VAE(z_dim=64, siren_config=siren_config).to(device)\n",
    "    vae.load_state_dict(checkpoint['vae_state_dict'])\n",
    "    \n",
    "    siren = SIREN(\n",
    "        input_dim=siren_config['input_dim'],\n",
    "        hidden_dim=siren_config['hidden_dim'],\n",
    "        hidden_layers=siren_config['hidden_layers'],\n",
    "        output_dim=siren_config['output_dim']\n",
    "    ).to(device)\n",
    "    \n",
    "    coords = get_mgrid(28, num_bands=8).to(device)\n",
    "    \n",
    "    example_data = next(iter(test_loader))\n",
    "    test_images = example_data[0][:8].to(device)\n",
    "    test_labels = example_data[1][:8]\n",
    "    \n",
    "    vae.eval()\n",
    "    with torch.no_grad():\n",
    "        reconstructed_images = []\n",
    "        for i in range(test_images.size(0)):\n",
    "            mu, logvar = vae.encode(test_images[i:i+1])\n",
    "            z = vae.reparameterize(mu, logvar)\n",
    "            siren_weights = vae.decode(z)\n",
    "            \n",
    "            siren.set_weights_vector(siren_weights.squeeze(0))\n",
    "            recon_image = siren(coords).reshape(1, 28, 28)\n",
    "            reconstructed_images.append(recon_image)\n",
    "        \n",
    "        reconstructed_images = torch.cat(reconstructed_images, dim=0)\n",
    "        \n",
    "        z = torch.randn(8, vae.z_dim, device=device)\n",
    "        generated_images = []\n",
    "        for i in range(z.size(0)):\n",
    "            siren_weights = vae.decode(z[i:i+1])\n",
    "            siren.set_weights_vector(siren_weights.squeeze(0))\n",
    "            gen_image = siren(coords).reshape(1, 28, 28)\n",
    "            generated_images.append(gen_image)\n",
    "        \n",
    "        generated_images = torch.cat(generated_images, dim=0)\n",
    "    \n",
    "    fig, axs = plt.subplots(3, 8, figsize=(16, 6))\n",
    "    \n",
    "    for i in range(8):\n",
    "        # Original\n",
    "        axs[0, i].imshow(test_images[i].cpu().squeeze(), cmap='gray')\n",
    "        axs[0, i].set_title(f\"{class_names[test_labels[i]]}\")\n",
    "        axs[0, i].axis('off')\n",
    "        \n",
    "        # Reconstructed\n",
    "        axs[1, i].imshow(reconstructed_images[i].cpu().squeeze(), cmap='gray')\n",
    "        axs[1, i].set_title(\"Reconstructed\")\n",
    "        axs[1, i].axis('off')\n",
    "        \n",
    "        # Generated\n",
    "        axs[2, i].imshow(generated_images[i].cpu().squeeze(), cmap='gray')\n",
    "        axs[2, i].set_title(\"Generated\")\n",
    "        axs[2, i].axis('off')\n",
    "    \n",
    "    plt.tight_layout()\n",
    "    plt.savefig(\"evaluation_results.png\")\n",
    "    plt.show()\n",
    "    \n",
    "    return vae, siren\n",
    "\n",
    "if __name__ == \"__main__\":\n",
    "    vae, siren = train(num_epochs=1, save_interval=1)\n",
    "    evaluate_model()"
   ]
  },
  {
   "cell_type": "markdown",
   "metadata": {},
   "source": [
    "## NEED TO REDUCE WEIGHTS OUTPUT OF VAE, NEED TOO FIX SIREN INIT, NEED TO FIX OUTPUT"
   ]
  },
  {
   "cell_type": "markdown",
   "metadata": {},
   "source": [
    "# Siren and VAE model (second implementation)"
   ]
  },
  {
   "cell_type": "code",
   "execution_count": null,
   "metadata": {},
   "outputs": [],
   "source": [
    "import torch\n",
    "import torch.nn as nn\n",
    "import torch.nn.functional as F\n",
    "import torchvision\n",
    "import torchvision.transforms as transforms\n",
    "import numpy as np\n",
    "import matplotlib.pyplot as plt\n",
    "from tqdm import tqdm\n",
    "\n",
    "torch.manual_seed(42)\n",
    "np.random.seed(42)\n",
    "\n",
    "# Data Loading \n",
    "transform = transforms.Compose([transforms.ToTensor()])\n",
    "train_set = torchvision.datasets.FashionMNIST(\"./data\", download=True, transform=transform)\n",
    "test_set = torchvision.datasets.FashionMNIST(\"./data\", download=True, train=False, transform=transform)\n",
    "\n",
    "batch_size = 16  \n",
    "train_loader = torch.utils.data.DataLoader(train_set, batch_size=batch_size, shuffle=True)\n",
    "test_loader = torch.utils.data.DataLoader(test_set, batch_size=batch_size, shuffle=False)\n",
    "\n",
    "class_names = ['T-shirt/top', 'Trouser', 'Pullover', 'Dress', 'Coat',\n",
    "               'Sandal', 'Shirt', 'Sneaker', 'Bag', 'Ankle Boot']\n",
    "\n",
    "def positional_encoding(coords, num_bands=8):\n",
    "    pos_enc = [coords]\n",
    "    for i in range(num_bands):\n",
    "        freq = 2.0 ** i\n",
    "        pos_enc.append(torch.sin(coords * freq * np.pi))\n",
    "        pos_enc.append(torch.cos(coords * freq * np.pi))\n",
    "    return torch.cat(pos_enc, dim=-1)\n",
    "\n",
    "def get_mgrid(sidelen, dim=2, num_bands=8):\n",
    "    if isinstance(sidelen, int):\n",
    "        sidelen = dim * (sidelen,)\n",
    "    coords = [torch.linspace(-1, 1, s) for s in sidelen]\n",
    "    mesh_coords = torch.meshgrid(*coords, indexing='ij')  \n",
    "    coords = torch.stack(mesh_coords, dim=-1).reshape(-1, dim)\n",
    "    return positional_encoding(coords, num_bands)\n",
    "\n",
    "class SIREN(nn.Module):\n",
    "    def __init__(self, input_dim=2+2*2*8, hidden_dim=256, hidden_layers=3, output_dim=1, first_omega=1.0, hidden_omega=10.0):\n",
    "        super().__init__()\n",
    "        self.input_dim = input_dim\n",
    "        self.hidden_dim = hidden_dim\n",
    "        self.hidden_layers = hidden_layers\n",
    "        self.output_dim = output_dim\n",
    "        self.first_omega = first_omega\n",
    "        self.hidden_omega = hidden_omega\n",
    "\n",
    "        self.first_layer = nn.Linear(input_dim, hidden_dim)\n",
    "        with torch.no_grad():\n",
    "            self.first_layer.weight.uniform_(-1/input_dim, 1/input_dim)\n",
    "            self.first_layer.bias.uniform_(-1/input_dim, 1/input_dim)\n",
    "        \n",
    "        self.hidden_layers_list = nn.ModuleList()\n",
    "        for _ in range(hidden_layers):\n",
    "            layer = nn.Linear(hidden_dim, hidden_dim)\n",
    "            with torch.no_grad():\n",
    "                layer.weight.uniform_(-np.sqrt(6/hidden_dim)/hidden_omega, \n",
    "                                      np.sqrt(6/hidden_dim)/hidden_omega)\n",
    "                layer.bias.uniform_(-np.sqrt(6/hidden_dim)/hidden_omega, \n",
    "                                    np.sqrt(6/hidden_dim)/hidden_omega)\n",
    "            self.hidden_layers_list.append(layer)\n",
    "        \n",
    "        self.output_layer = nn.Linear(hidden_dim, output_dim)\n",
    "        with torch.no_grad():\n",
    "            self.output_layer.weight.uniform_(-np.sqrt(6/hidden_dim)/hidden_omega, \n",
    "                                              np.sqrt(6/hidden_dim)/hidden_omega)\n",
    "            self.output_layer.bias.uniform_(-1, 1)\n",
    "    \n",
    "    def forward(self, x):\n",
    "        x = torch.sin(self.first_omega * self.first_layer(x))\n",
    "        for layer in self.hidden_layers_list:\n",
    "            x = torch.sin(self.hidden_omega * layer(x))\n",
    "\n",
    "        return torch.sigmoid(self.output_layer(x))\n",
    "    \n",
    "    def set_weights_vector(self, weights_vector):\n",
    "        \"\"\"Set all weights from a flattened vector\"\"\"\n",
    "        start_idx = 0\n",
    "        \n",
    "        w_size = self.first_layer.weight.numel()\n",
    "        self.first_layer.weight.data = weights_vector[start_idx:start_idx+w_size].view(self.first_layer.weight.shape)\n",
    "        start_idx += w_size\n",
    "        \n",
    "        b_size = self.first_layer.bias.numel()\n",
    "        self.first_layer.bias.data = weights_vector[start_idx:start_idx+b_size].view(self.first_layer.bias.shape)\n",
    "        start_idx += b_size\n",
    "        \n",
    "        for layer in self.hidden_layers_list:\n",
    "            w_size = layer.weight.numel()\n",
    "            layer.weight.data = weights_vector[start_idx:start_idx+w_size].view(layer.weight.shape)\n",
    "            start_idx += w_size\n",
    "            \n",
    "            b_size = layer.bias.numel()\n",
    "            layer.bias.data = weights_vector[start_idx:start_idx+b_size].view(layer.bias.shape)\n",
    "            start_idx += b_size\n",
    "        \n",
    "        w_size = self.output_layer.weight.numel()\n",
    "        self.output_layer.weight.data = weights_vector[start_idx:start_idx+w_size].view(self.output_layer.weight.shape)\n",
    "        start_idx += w_size\n",
    "        \n",
    "        b_size = self.output_layer.bias.numel()\n",
    "        self.output_layer.bias.data = weights_vector[start_idx:start_idx+b_size].view(self.output_layer.bias.shape)\n",
    "    \n",
    "    @staticmethod\n",
    "    def calc_total_weights(input_dim, hidden_dim, hidden_layers, output_dim):\n",
    "        \"\"\"Calculate the total number of weights in the SIREN\"\"\"\n",
    "        total = input_dim * hidden_dim + hidden_dim  # First layer\n",
    "        total += hidden_layers * (hidden_dim * hidden_dim + hidden_dim)  # Hidden layers\n",
    "        total += hidden_dim * output_dim + output_dim  # Output layer\n",
    "        return total\n",
    "\n",
    "    def get_weights_vector(self):\n",
    "        \"\"\"Get all weights as a flattened vector\"\"\"\n",
    "        weights = []\n",
    "        weights.append(self.first_layer.weight.data.flatten())\n",
    "        weights.append(self.first_layer.bias.data.flatten())\n",
    "        \n",
    "        for layer in self.hidden_layers_list:\n",
    "            weights.append(layer.weight.data.flatten())\n",
    "            weights.append(layer.bias.data.flatten())\n",
    "        \n",
    "        weights.append(self.output_layer.weight.data.flatten())\n",
    "        weights.append(self.output_layer.bias.data.flatten())\n",
    "        \n",
    "        return torch.cat(weights, dim=0)\n",
    "        \n",
    "class VAE(nn.Module):\n",
    "    def __init__(self, z_dim=64, siren_config=None):\n",
    "        super().__init__()\n",
    "        self.z_dim = z_dim\n",
    "        \n",
    "        self.siren_config = {\n",
    "            'input_dim': 2 + 2*2*8,  \n",
    "            'hidden_dim': 128,       \n",
    "            'hidden_layers': 3,       \n",
    "            'output_dim': 1\n",
    "        }\n",
    "        \n",
    "        if siren_config is not None:\n",
    "            self.siren_config.update(siren_config)\n",
    "        \n",
    "        self.encoder = nn.Sequential(\n",
    "            nn.Conv2d(1, 32, 4, stride=2, padding=1),             # 28x28 -> 14x14\n",
    "            nn.LeakyReLU(0.2, inplace=True),\n",
    "            nn.Conv2d(32, 64, 4, stride=2, padding=1),            # 14x14 -> 7x7\n",
    "            nn.LeakyReLU(0.2, inplace=True),\n",
    "            nn.Conv2d(64, 128, 3, stride=1, padding=1),           # 7x7 -> 7x7\n",
    "            nn.LeakyReLU(0.2, inplace=True),\n",
    "            nn.Flatten(),\n",
    "            nn.Linear(128 * 7 * 7, 512),\n",
    "            nn.LeakyReLU(0.2, inplace=True)\n",
    "        )\n",
    "        \n",
    "        self.fc_mu = nn.Linear(512, z_dim)\n",
    "        self.fc_logvar = nn.Linear(512, z_dim)\n",
    "        \n",
    "        total_weights = SIREN.calc_total_weights(\n",
    "            input_dim=self.siren_config['input_dim'],\n",
    "            hidden_dim=self.siren_config['hidden_dim'],\n",
    "            hidden_layers=self.siren_config['hidden_layers'],\n",
    "            output_dim=self.siren_config['output_dim']\n",
    "        )\n",
    "        \n",
    "        self.decoder = nn.Sequential(\n",
    "            nn.Linear(z_dim, 512),\n",
    "            nn.LeakyReLU(0.2, inplace=True),\n",
    "            nn.Linear(512, 1024),\n",
    "            nn.LeakyReLU(0.2, inplace=True),\n",
    "            nn.Linear(1024, total_weights) \n",
    "        )\n",
    "    \n",
    "    def encode(self, x):\n",
    "        h = self.encoder(x)\n",
    "        return self.fc_mu(h), self.fc_logvar(h)\n",
    "    \n",
    "    def reparameterize(self, mu, logvar):\n",
    "        logvar = torch.clamp(logvar, -4, 4)\n",
    "        std = torch.exp(0.5 * logvar)\n",
    "        eps = torch.randn_like(std)\n",
    "        return mu + eps * std\n",
    "    \n",
    "    def decode(self, z):\n",
    "        return self.decoder(z)\n",
    "    \n",
    "    def forward(self, x):\n",
    "        mu, logvar = self.encode(x)\n",
    "        z = self.reparameterize(mu, logvar)\n",
    "        return self.decode(z), mu, logvar\n"
   ]
  },
  {
   "cell_type": "code",
   "execution_count": 3,
   "metadata": {},
   "outputs": [
    {
     "name": "stderr",
     "output_type": "stream",
     "text": [
      "Epoch 1/1: 100%|██████████| 3750/3750 [03:23<00:00, 18.44it/s]\n"
     ]
    },
    {
     "name": "stdout",
     "output_type": "stream",
     "text": [
      "Epoch 1/1 - Loss: 0.7806\n"
     ]
    },
    {
     "name": "stderr",
     "output_type": "stream",
     "text": [
      "Testing: 100%|██████████| 625/625 [00:18<00:00, 33.35it/s]\n"
     ]
    },
    {
     "name": "stdout",
     "output_type": "stream",
     "text": [
      "Test Loss: 0.7800\n"
     ]
    },
    {
     "data": {
      "image/png": "[encoded data removed]",
      "text/plain": [
       "<Figure size 1200x400 with 12 Axes>"
      ]
     },
     "metadata": {},
     "output_type": "display_data"
    }
   ],
   "source": [
    "device = torch.device(\"cuda\" if torch.cuda.is_available() else \"cpu\")\n",
    "\n",
    "vae = VAE(z_dim=64).to(device)\n",
    "\n",
    "siren = SIREN(input_dim=vae.siren_config['input_dim'],\n",
    "            hidden_dim=vae.siren_config['hidden_dim'],\n",
    "            hidden_layers=vae.siren_config['hidden_layers'],\n",
    "            output_dim=vae.siren_config['output_dim']).to(device)\n",
    "\n",
    "optimizer = torch.optim.Adam(vae.parameters(), lr=1e-3)\n",
    "\n",
    "bce_loss = nn.BCELoss()\n",
    "\n",
    "grid = get_mgrid(28, dim=2, num_bands=8).to(device)  \n",
    "\n",
    "num_epochs = 1\n",
    "vae.train()\n",
    "for epoch in range(num_epochs):\n",
    "    train_loss = 0.0\n",
    "    for images, _ in tqdm(train_loader, desc=f\"Epoch {epoch+1}/{num_epochs}\"):\n",
    "        images = images.to(device)   # images shape: (batch, 1, 28, 28)\n",
    "        optimizer.zero_grad()\n",
    "        \n",
    "        weights_vector_batch, mu, logvar = vae(images)\n",
    "        \n",
    "        reconstructions = []\n",
    "        batch_size_local = images.shape[0]\n",
    "        for i in range(batch_size_local):\n",
    "            with torch.no_grad():\n",
    "                siren.set_weights_vector(weights_vector_batch[i])\n",
    "            rec = siren(grid) \n",
    "            rec = rec.view(1, 28, 28) \n",
    "            reconstructions.append(rec)\n",
    "\n",
    "        reconstructions = torch.cat(reconstructions, dim=0)\n",
    "\n",
    "        rec_loss = bce_loss(reconstructions, images.squeeze(1))\n",
    "\n",
    "        kl_loss = -0.5 * torch.mean(1 + logvar - mu.pow(2) - logvar.exp())\n",
    "        \n",
    "        loss = rec_loss + kl_loss\n",
    "        loss.backward()\n",
    "        optimizer.step()\n",
    "        \n",
    "        train_loss += loss.item() * batch_size_local\n",
    "        \n",
    "    train_loss /= len(train_loader.dataset)\n",
    "    print(f\"Epoch {epoch+1}/{num_epochs} - Loss: {train_loss:.4f}\")\n",
    "\n",
    "vae.eval()\n",
    "test_loss = 0.0\n",
    "with torch.no_grad():\n",
    "    for images, _ in tqdm(test_loader, desc=\"Testing\"):\n",
    "        images = images.to(device)\n",
    "        weights_vector_batch, mu, logvar = vae(images)\n",
    "        reconstructions = []\n",
    "        batch_size_local = images.shape[0]\n",
    "        for i in range(batch_size_local):\n",
    "            siren.set_weights_vector(weights_vector_batch[i])\n",
    "            rec = siren(grid)  # output shape: (28*28, 1)\n",
    "            rec = rec.view(1, 28, 28)\n",
    "            reconstructions.append(rec)\n",
    "        reconstructions = torch.cat(reconstructions, dim=0)\n",
    "        rec_loss = bce_loss(reconstructions, images.squeeze(1))\n",
    "        kl_loss = -0.5 * torch.mean(1 + logvar - mu.pow(2) - logvar.exp())\n",
    "        loss = rec_loss + kl_loss\n",
    "        test_loss += loss.item() * batch_size_local\n",
    "    test_loss /= len(test_loader.dataset)\n",
    "print(f\"Test Loss: {test_loss:.4f}\")\n",
    "\n",
    "# Visualize some reconstructed images.\n",
    "import matplotlib.pyplot as plt\n",
    "\n",
    "vae.eval()\n",
    "with torch.no_grad():\n",
    "    images, labels = next(iter(test_loader))\n",
    "    images = images.to(device)\n",
    "    weights_vector_batch, _, _ = vae(images)\n",
    "    reconstructions = []\n",
    "    batch_size_local = images.shape[0]\n",
    "    for i in range(batch_size_local):\n",
    "        siren.set_weights_vector(weights_vector_batch[i])\n",
    "        rec = siren(grid)\n",
    "        rec = rec.view(28, 28)\n",
    "        reconstructions.append(rec.cpu().numpy())\n",
    "\n",
    "num_examples = 6\n",
    "plt.figure(figsize=(12, 4))\n",
    "for i in range(num_examples):\n",
    "\n",
    "    plt.subplot(2, num_examples, i+1)\n",
    "    plt.imshow(images[i].cpu().squeeze(0), cmap=\"gray\")\n",
    "    plt.title(\"Original\")\n",
    "    plt.axis(\"off\")\n",
    "\n",
    "    plt.subplot(2, num_examples, num_examples+i+1)\n",
    "    plt.imshow(reconstructions[i], cmap=\"gray\")\n",
    "    plt.title(\"Reconstruction\")\n",
    "    plt.axis(\"off\")\n",
    "plt.tight_layout()\n",
    "plt.show()"
   ]
  }
 ],
 "metadata": {
  "kernelspec": {
   "display_name": "myenv",
   "language": "python",
   "name": "python3"
  },
  "language_info": {
   "codemirror_mode": {
    "name": "ipython",
    "version": 3
   },
   "file_extension": ".py",
   "mimetype": "text/x-python",
   "name": "python",
   "nbconvert_exporter": "python",
   "pygments_lexer": "ipython3",
   "version": "3.11.4"
  }
 },
 "nbformat": 4,
 "nbformat_minor": 2
}
