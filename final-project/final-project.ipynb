{
 "cells": [
  {
   "cell_type": "markdown",
   "metadata": {},
   "source": [
    "# Final Project"
   ]
  },
  {
   "cell_type": "code",
   "execution_count": 1,
   "metadata": {},
   "outputs": [],
   "source": [
    "\"\"\"\n",
    "Import PyTorch libraries.\n",
    "\"\"\"\n",
    "import torch\n",
    "import torch.nn as nn\n",
    "import torch.nn.functional as F\n",
    "import torchvision\n",
    "from torchvision import datasets, transforms\n",
    "from torchvision.utils import save_image\n",
    "import matplotlib.pyplot as plt\n",
    "import numpy as np\n",
    "import random"
   ]
  },
  {
   "cell_type": "code",
   "execution_count": 2,
   "metadata": {},
   "outputs": [
    {
     "name": "stdout",
     "output_type": "stream",
     "text": [
      "Ankle Boot\n"
     ]
    },
    {
     "data": {
      "image/png": "[encoded data removed]",
      "text/plain": [
       "<Figure size 640x480 with 1 Axes>"
      ]
     },
     "metadata": {},
     "output_type": "display_data"
    }
   ],
   "source": [
    "\"\"\"\n",
    "Define the dataloader for the Fashion MNIST dataset.\n",
    "\"\"\"\n",
    "train_set = torchvision.datasets.FashionMNIST(\"./data\", download=True, transform=\n",
    "                                                transforms.Compose([transforms.ToTensor()]))\n",
    "test_set = torchvision.datasets.FashionMNIST(\"./data\", download=True, train=False, transform=\n",
    "                                               transforms.Compose([transforms.ToTensor()]))\n",
    "train_loader = torch.utils.data.DataLoader(train_set,\n",
    "                                           batch_size=100)\n",
    "test_loader = torch.utils.data.DataLoader(test_set,\n",
    "                                          batch_size=100)\n",
    "def output_label(label):\n",
    "    output_mapping = {\n",
    "                 0: \"T-shirt/Top\",\n",
    "                 1: \"Trouser\",\n",
    "                 2: \"Pullover\",\n",
    "                 3: \"Dress\",\n",
    "                 4: \"Coat\",\n",
    "                 5: \"Sandal\",\n",
    "                 6: \"Shirt\",\n",
    "                 7: \"Sneaker\",\n",
    "                 8: \"Bag\",\n",
    "                 9: \"Ankle Boot\"\n",
    "                 }\n",
    "    input = (label.item() if type(label) == torch.Tensor else label)\n",
    "    return output_mapping[input]\n",
    "image, label = next(iter(train_set))\n",
    "plt.imshow(image.squeeze(), cmap=\"gray\")\n",
    "print(output_label(label))"
   ]
  },
  {
   "cell_type": "code",
   "execution_count": 3,
   "metadata": {},
   "outputs": [],
   "source": [
    "class Sine(nn.Module):\n",
    "    def __init__(self, omega_0=30):\n",
    "        super().__init__()\n",
    "\n",
    "        self.omega_0 = omega_0\n",
    "\n",
    "    def forward(self, x):\n",
    "        return torch.sin(self.omega_0 * x)"
   ]
  },
  {
   "cell_type": "code",
   "execution_count": 4,
   "metadata": {},
   "outputs": [],
   "source": [
    "class SIREN(nn.Module):\n",
    "    def __init__(self, input_dim=2, num_bands=3, hidden_dim=128, hidden_layers=2, output_dim=1, omega_0_initial=30, omega_0=1.0):\n",
    "        super(SIREN, self).__init__()\n",
    "\n",
    "        self.input_dim = input_dim\n",
    "        self.hidden_dim = hidden_dim\n",
    "        self.hidden_layers = hidden_layers\n",
    "        self.output_dim = output_dim\n",
    "        self.omega_0_initial = omega_0_initial\n",
    "        self.omega_0 = omega_0\n",
    "        self.num_bands = num_bands\n",
    "\n",
    "        encoded_dim = self.input_dim + 2 * self.input_dim * self.num_bands\n",
    "        self.encoded_dim = encoded_dim\n",
    "\n",
    "        self.layers = nn.ModuleList()\n",
    "        self.layers.append(nn.Linear(self.encoded_dim, self.hidden_dim))\n",
    "        self.layers.append(Sine(self.omega_0_initial))\n",
    "\n",
    "        for _ in range(hidden_layers):\n",
    "            self.layers.append(nn.Linear(self.hidden_dim, self.hidden_dim))\n",
    "            self.layers.append(Sine(self.omega_0))\n",
    "\n",
    "        self.layers.append(nn.Linear(self.hidden_dim, self.output_dim))\n",
    "        self.sigmoid = nn.Sigmoid()\n",
    "    \n",
    "    def positional_encoding(self, coords):\n",
    "        encoded = [coords]\n",
    "        \n",
    "        for i in range(self.num_bands):\n",
    "            freq = 2.0 ** i\n",
    "            encoded.append(torch.sin(coords * freq * np.pi))\n",
    "            encoded.append(torch.cos(coords * freq * np.pi))\n",
    "        \n",
    "        return torch.cat(encoded, dim=-1)\n",
    "\n",
    "    def forward(self, x):\n",
    "        x = self.positional_encoding(x) \n",
    "        for layer in self.layers:\n",
    "            x = layer(x)\n",
    "        return self.sigmoid(x)"
   ]
  },
  {
   "cell_type": "code",
   "execution_count": 5,
   "metadata": {},
   "outputs": [],
   "source": [
    "class VAE(nn.Module):\n",
    "    def __init__(self, INN_hidden_dim=128, INN_num_bands=3, INN_hidden_layers=2):\n",
    "        super(VAE, self).__init__()\n",
    "\n",
    "        self.encoder = nn.Sequential(\n",
    "            nn.Conv2d(in_channels=1, out_channels=32, kernel_size=3, stride=2, padding=1),\n",
    "            nn.BatchNorm2d(32),\n",
    "            nn.ReLU(), \n",
    "            nn.Conv2d(in_channels=32, out_channels=64, kernel_size=3, stride=2, padding=1),\n",
    "            nn.BatchNorm2d(64),\n",
    "            nn.ReLU(),\n",
    "            nn.Conv2d(in_channels=64, out_channels=128, kernel_size=3, stride=2, padding=1),\n",
    "            nn.BatchNorm2d(128),\n",
    "            nn.ReLU(),\n",
    "            nn.Flatten()\n",
    "        )\n",
    "\n",
    "        self.mu = nn.Linear(4 * 4 * 128, 256)\n",
    "        self.log_variance = nn.Linear(4 * 4 * 128, 256)\n",
    "\n",
    "        self.INN_hidden_dim = INN_hidden_dim\n",
    "        self.INN_hidden_layers = INN_hidden_layers\n",
    "        self.INN_num_bands = INN_num_bands\n",
    "\n",
    "        self.encoded_dim = 2 + 2 * 2 * self.INN_num_bands\n",
    "\n",
    "        input_weights = self.encoded_dim * self.INN_hidden_dim + self.INN_hidden_dim\n",
    "        hidden_weights = self.INN_hidden_layers * (self.INN_hidden_dim * self.INN_hidden_dim + self.INN_hidden_dim)\n",
    "        output_weights = self.INN_hidden_dim * 1 + 1 \n",
    "\n",
    "        self.total_weight = input_weights + hidden_weights + output_weights\n",
    "\n",
    "        self.decoder = nn.Sequential(\n",
    "            nn.Linear(256, 512),\n",
    "            nn.BatchNorm1d(512),\n",
    "            nn.ReLU(),\n",
    "\n",
    "            nn.Linear(512, 1024),\n",
    "            nn.BatchNorm1d(1024),\n",
    "            nn.ReLU(),\n",
    "\n",
    "            nn.Linear(1024, 2048),\n",
    "            nn.BatchNorm1d(2048),\n",
    "            nn.ReLU(),\n",
    "\n",
    "            nn.Linear(2048, self.total_weight)\n",
    "        )\n",
    "\n",
    "    def reparameterize(self, mu, log_variance):\n",
    "        sigma = torch.exp(0.5 * log_variance)\n",
    "        epsilon = torch.randn_like(sigma)\n",
    "        return mu + (sigma * epsilon)\n",
    "    \n",
    "    def forward(self, x):\n",
    "        x = self.encoder(x)\n",
    "        mu = self.mu(x)\n",
    "        log_variance = self.log_variance(x)\n",
    "        z = self.reparameterize(mu, log_variance)\n",
    "        INN_weights = self.decoder(z)\n",
    "        return INN_weights, mu, log_variance"
   ]
  },
  {
   "cell_type": "code",
   "execution_count": null,
   "metadata": {},
   "outputs": [
    {
     "name": "stdout",
     "output_type": "stream",
     "text": [
      "Epoch: [1/1], Train: [0/60000 (0%)], Loss: 11.63387\n",
      "Epoch: [1/1], Train: [5000/60000 (8%)], Loss: 11.54694\n",
      "Epoch: [1/1], Train: [10000/60000 (17%)], Loss: 11.59607\n",
      "Epoch: [1/1], Train: [15000/60000 (25%)], Loss: 11.52189\n",
      "Epoch: [1/1], Train: [20000/60000 (33%)], Loss: 11.52542\n",
      "Epoch: [1/1], Train: [25000/60000 (42%)], Loss: 11.57788\n",
      "Epoch: [1/1], Train: [30000/60000 (50%)], Loss: 11.56169\n",
      "Epoch: [1/1], Train: [35000/60000 (58%)], Loss: 11.41266\n",
      "Epoch: [1/1], Train: [40000/60000 (67%)], Loss: 11.58145\n",
      "Epoch: [1/1], Train: [45000/60000 (75%)], Loss: 11.51840\n",
      "Epoch: [1/1], Train: [50000/60000 (83%)], Loss: 11.57836\n",
      "Epoch: [1/1], Train: [55000/60000 (92%)], Loss: 11.55489\n"
     ]
    }
   ],
   "source": [
    "\"\"\"\n",
    "Initialize Hyperparameters\n",
    "\"\"\"\n",
    "batch_size = 68\n",
    "learning_rate = 0.0001\n",
    "num_epochs = 1\n",
    "image_size = 28\n",
    "\n",
    "\"\"\"\n",
    "Initialize the network and the Adam optimizer\n",
    "\"\"\"\n",
    "device = 'cuda' if torch.cuda.is_available() else 'cpu'\n",
    "vae = VAE()\n",
    "vae = vae.to(device)\n",
    "optimizer = torch.optim.Adam(vae.parameters(), lr=learning_rate)\n",
    "\n",
    "\n",
    "\"\"\"\n",
    "Generate INN weights\n",
    "\"\"\"\n",
    "def get_mgrid(sidelen, dim=2):\n",
    "    '''Generates a flattened grid of (x,y,...) coordinates in a range of -1 to 1.'''\n",
    "    if isinstance(sidelen, int):\n",
    "        sidelen = dim * (sidelen,)\n",
    "\n",
    "    if dim == 2:\n",
    "        pixel_coords = np.stack(np.mgrid[:sidelen[0], :sidelen[1]], axis=-1)[None, ...].astype(np.float32)\n",
    "        pixel_coords[0, :, :, 0] = pixel_coords[0, :, :, 0] / (sidelen[0] - 1)\n",
    "        pixel_coords[0, :, :, 1] = pixel_coords[0, :, :, 1] / (sidelen[1] - 1)\n",
    "    elif dim == 3:\n",
    "        pixel_coords = np.stack(np.mgrid[:sidelen[0], :sidelen[1], :sidelen[2]], axis=-1)[None, ...].astype(np.float32)\n",
    "        pixel_coords[..., 0] = pixel_coords[..., 0] / max(sidelen[0] - 1, 1)\n",
    "        pixel_coords[..., 1] = pixel_coords[..., 1] / (sidelen[1] - 1)\n",
    "        pixel_coords[..., 2] = pixel_coords[..., 2] / (sidelen[2] - 1)\n",
    "    else:\n",
    "        raise NotImplementedError('Not implemented for dim=%d' % dim)\n",
    "\n",
    "    pixel_coords -= 0.5\n",
    "    pixel_coords *= 2.\n",
    "    pixel_coords = torch.Tensor(pixel_coords).view(-1, dim)\n",
    "    return pixel_coords\n",
    "\n",
    "\"\"\"\n",
    "Function to create INN from weights generated by VAE decoder\n",
    "\"\"\"\n",
    "def create_inn_from_weights(weights, INN_hidden_dim=384, INN_hidden_layers=4, INN_num_bands=6, INN_output_dim=1, omega_0_initial=30, omega_0=1.0):    \n",
    "    inn = SIREN(input_dim=2, num_bands=INN_num_bands, hidden_dim=INN_hidden_dim, \n",
    "                hidden_layers=INN_hidden_layers, output_dim=INN_output_dim, \n",
    "                omega_0_initial=omega_0_initial, omega_0=omega_0)\n",
    "    \n",
    "    # Add debugging for encoded_dim\n",
    "    actual_input_dim = inn.layers[0].weight.shape[1]\n",
    "    \n",
    "    #  expected weight sizes\n",
    "    input_params = actual_input_dim * INN_hidden_dim + INN_hidden_dim\n",
    "    hidden_params = INN_hidden_layers * (INN_hidden_dim * INN_hidden_dim + INN_hidden_dim)\n",
    "    output_params = INN_hidden_dim * INN_output_dim + INN_output_dim\n",
    "    total_params = input_params + hidden_params + output_params\n",
    "    \n",
    "    encoded_dim = 2 + 2 * 2 * INN_num_bands\n",
    "    \n",
    "    start_idx = 0\n",
    "    \n",
    "    input_weights = weights[start_idx:start_idx + actual_input_dim * INN_hidden_dim].reshape(INN_hidden_dim, actual_input_dim)\n",
    "    start_idx += actual_input_dim * INN_hidden_dim\n",
    "    input_bias = weights[start_idx:start_idx + INN_hidden_dim]\n",
    "    start_idx += INN_hidden_dim\n",
    "    \n",
    "    with torch.no_grad():\n",
    "        inn.layers[0].weight.copy_(input_weights)\n",
    "        inn.layers[0].bias.copy_(input_bias)\n",
    "    \n",
    "    for i in range(INN_hidden_layers):\n",
    "        hidden_weights = weights[start_idx:start_idx + INN_hidden_dim * INN_hidden_dim].reshape(INN_hidden_dim, INN_hidden_dim)\n",
    "        start_idx += INN_hidden_dim * INN_hidden_dim\n",
    "        hidden_bias = weights[start_idx:start_idx + INN_hidden_dim]\n",
    "        start_idx += INN_hidden_dim\n",
    "        \n",
    "        with torch.no_grad():\n",
    "            inn.layers[2 + 2 * i].weight.copy_(hidden_weights)\n",
    "            inn.layers[2 + 2 * i].bias.copy_(hidden_bias)\n",
    "    \n",
    "    output_weights = weights[start_idx:start_idx + INN_hidden_dim * INN_output_dim].reshape(INN_output_dim, INN_hidden_dim)\n",
    "    start_idx += INN_hidden_dim * INN_output_dim\n",
    "    output_bias = weights[start_idx:start_idx + INN_output_dim]\n",
    "    \n",
    "    with torch.no_grad():\n",
    "        inn.layers[-1].weight.copy_(output_weights)\n",
    "        inn.layers[-1].bias.copy_(output_bias)\n",
    "    \n",
    "    return inn\n",
    "\n",
    "def create_inn_from_weights_batch(weights, INN_hidden_dim=384, INN_hidden_layers=4, INN_num_bands=6, INN_output_dim=1, omega_0_initial=30, omega_0=1.0):\n",
    "    \"\"\"\n",
    "    Create a batch of SIREN networks from a batch of flattened weight vectors\n",
    "    \"\"\"\n",
    "    batch_size = weights.shape[0]\n",
    "    inns = []\n",
    "    for i in range(batch_size):\n",
    "        inn = create_inn_from_weights(\n",
    "            weights[i], \n",
    "            INN_hidden_dim=INN_hidden_dim, \n",
    "            INN_hidden_layers=INN_hidden_layers,\n",
    "            INN_num_bands=INN_num_bands,\n",
    "            INN_output_dim=INN_output_dim, \n",
    "            omega_0_initial=omega_0_initial, \n",
    "            omega_0=omega_0\n",
    "        )\n",
    "        inns.append(inn)\n",
    "    return inns\n",
    "\n",
    "\"\"\"\n",
    "Loss Function for VAE\n",
    "\"\"\"\n",
    "def loss_func(reconstructed_img, img, mu, log_variance, kl_weight=0.01):\n",
    "    reconstruction_loss = F.binary_cross_entropy(reconstructed_img, img, reduction='sum')\n",
    "    kl_divergence_loss = -0.5 * torch.sum(1 + log_variance - mu.pow(2) - log_variance.exp())\n",
    "    return reconstruction_loss + kl_weight * kl_divergence_loss\n",
    "\n",
    "\"\"\"\n",
    "Training the VAE-INN network\n",
    "\"\"\"\n",
    "for epoch in range(num_epochs):\n",
    "    vae.train()\n",
    "    total_loss = 0\n",
    "    \n",
    "    for batch_idx, (img, _) in enumerate(train_loader):\n",
    "        img = img.to(device)\n",
    "        batch_size = img.shape[0]\n",
    "        \n",
    "        optimizer.zero_grad()\n",
    "        \n",
    "        inn_weights, mu, log_variance = vae(img)\n",
    "        \n",
    "        coords = get_mgrid(image_size).to(device)\n",
    "    \n",
    "        inns = create_inn_from_weights_batch(\n",
    "            inn_weights,\n",
    "            INN_hidden_dim=vae.INN_hidden_dim,\n",
    "            INN_hidden_layers=vae.INN_hidden_layers,\n",
    "            INN_num_bands=vae.INN_num_bands\n",
    "        )\n",
    "        \n",
    "        reconstructed_batch = []\n",
    "        for i, inn in enumerate(inns):\n",
    "            inn = inn.to(device)\n",
    "            with torch.no_grad():\n",
    "                pixels = inn(coords) \n",
    "            \n",
    "            reconstructed_image = pixels.reshape(image_size, image_size).unsqueeze(0)\n",
    "            reconstructed_batch.append(reconstructed_image)\n",
    "        \n",
    "        reconstructed_batch = torch.cat(reconstructed_batch, dim=0)\n",
    "        reconstructed_batch = reconstructed_batch.unsqueeze(1)\n",
    "        \n",
    "        loss = loss_func(reconstructed_batch, img, mu, log_variance) / batch_size\n",
    "        \n",
    "        loss.backward()\n",
    "        optimizer.step()\n",
    "        \n",
    "        total_loss += loss.item()\n",
    "        \n",
    "        if batch_idx % 50 == 0:\n",
    "            print('Epoch: [{}/{}], Train: [{}/{} ({:.0f}%)], Loss: {:.5f}'.format(\n",
    "                        epoch + 1, num_epochs,\n",
    "                        batch_idx * len(img), len(train_loader.dataset),\n",
    "                        100. * batch_idx / len(train_loader),\n",
    "                        loss.item() / len(img)\n",
    "                    ))"
   ]
  },
  {
   "cell_type": "code",
   "execution_count": 8,
   "metadata": {},
   "outputs": [
    {
     "data": {
      "image/png": "[encoded data removed]",
      "text/plain": [
       "<Figure size 1000x900 with 9 Axes>"
      ]
     },
     "metadata": {},
     "output_type": "display_data"
    }
   ],
   "source": [
    "\"\"\"\n",
    "The following part takes three images from test loader to feed into the VAE.\n",
    "Shows original image and two different SIREN capabilities.\n",
    "\"\"\"\n",
    "\n",
    "import matplotlib.pyplot as plt\n",
    "import numpy as np\n",
    "\n",
    "vae.eval()\n",
    "with torch.no_grad():\n",
    "    imgs, _ = next(iter(test_loader))\n",
    "    imgs = imgs[:3].to(device)  \n",
    "    fig, ax = plt.subplots(3, 3, figsize=(10, 9))\n",
    "    \n",
    "    inn_weights, mu, log_variance = vae(imgs)\n",
    "    \n",
    "    for i in range(3):\n",
    "        img = imgs[i].cpu().squeeze(0).numpy()\n",
    "        ax[i, 0].imshow(img, cmap='gray')\n",
    "        ax[i, 0].set_title('Original')\n",
    "        ax[i, 0].axis('off')\n",
    "\n",
    "        inn = create_inn_from_weights(\n",
    "            inn_weights[i], \n",
    "            INN_hidden_dim=vae.INN_hidden_dim, \n",
    "            INN_hidden_layers=vae.INN_hidden_layers,\n",
    "            INN_num_bands=vae.INN_num_bands,\n",
    "            INN_output_dim=1,\n",
    "            omega_0_initial=30,\n",
    "            omega_0=1.0\n",
    "        ).to(device)\n",
    "        \n",
    "        standard_coords = get_mgrid(image_size).to(device)\n",
    "        pixels = inn(standard_coords)\n",
    "        standard_image = pixels.reshape(image_size, image_size)\n",
    "        std_img = standard_image.cpu().numpy()\n",
    "        \n",
    "        ax[i, 1].imshow(std_img, cmap='gray')\n",
    "        ax[i, 1].set_title('Standard Resolution')\n",
    "        ax[i, 1].axis('off')\n",
    "        \n",
    "        upsampled_size = image_size * 2\n",
    "        upsampled_coords = get_mgrid(upsampled_size).to(device)\n",
    "        upsampled_pixels = inn(upsampled_coords)\n",
    "        upsampled_image = upsampled_pixels.reshape(upsampled_size, upsampled_size)\n",
    "        up_img = upsampled_image.cpu().numpy()\n",
    "        \n",
    "        ax[i, 2].imshow(up_img, cmap='gray')\n",
    "        ax[i, 2].set_title(f'2x Upsampled ({upsampled_size}x{upsampled_size})')\n",
    "        ax[i, 2].axis('off')\n",
    "    \n",
    "    plt.tight_layout()\n",
    "    plt.savefig('siren_capabilities.png')\n",
    "    plt.show()"
   ]
  },
  {
   "cell_type": "code",
   "execution_count": 46,
   "metadata": {},
   "outputs": [
    {
     "name": "stdout",
     "output_type": "stream",
     "text": [
      "Using device: cpu\n"
     ]
    },
    {
     "name": "stderr",
     "output_type": "stream",
     "text": [
      "Epoch 1/1:   0%|          | 4/3750 [00:00<03:23, 18.41it/s]"
     ]
    },
    {
     "name": "stdout",
     "output_type": "stream",
     "text": [
      "Batch 0/3750: Loss: 0.192342, Recon: 0.192342, KL: 0.000039, Beta: 0.000000\n"
     ]
    },
    {
     "name": "stderr",
     "output_type": "stream",
     "text": [
      "Epoch 1/1:   3%|▎         | 106/3750 [00:04<02:22, 25.54it/s]"
     ]
    },
    {
     "name": "stdout",
     "output_type": "stream",
     "text": [
      "Batch 100/3750: Loss: 0.186560, Recon: 0.186560, KL: 0.000039, Beta: 0.000000\n"
     ]
    },
    {
     "name": "stderr",
     "output_type": "stream",
     "text": [
      "Epoch 1/1:   5%|▌         | 205/3750 [00:08<02:15, 26.13it/s]"
     ]
    },
    {
     "name": "stdout",
     "output_type": "stream",
     "text": [
      "Batch 200/3750: Loss: 0.207305, Recon: 0.207305, KL: 0.000039, Beta: 0.000000\n"
     ]
    },
    {
     "name": "stderr",
     "output_type": "stream",
     "text": [
      "Epoch 1/1:   8%|▊         | 304/3750 [00:12<02:13, 25.77it/s]"
     ]
    },
    {
     "name": "stdout",
     "output_type": "stream",
     "text": [
      "Batch 300/3750: Loss: 0.211130, Recon: 0.211130, KL: 0.000039, Beta: 0.000000\n"
     ]
    },
    {
     "name": "stderr",
     "output_type": "stream",
     "text": [
      "Epoch 1/1:  11%|█         | 406/3750 [00:16<02:09, 25.92it/s]"
     ]
    },
    {
     "name": "stdout",
     "output_type": "stream",
     "text": [
      "Batch 400/3750: Loss: 0.189870, Recon: 0.189870, KL: 0.000039, Beta: 0.000000\n"
     ]
    },
    {
     "name": "stderr",
     "output_type": "stream",
     "text": [
      "Epoch 1/1:  13%|█▎        | 503/3750 [00:20<02:24, 22.51it/s]"
     ]
    },
    {
     "name": "stdout",
     "output_type": "stream",
     "text": [
      "Batch 500/3750: Loss: 0.187532, Recon: 0.187532, KL: 0.000040, Beta: 0.000000\n"
     ]
    },
    {
     "name": "stderr",
     "output_type": "stream",
     "text": [
      "Epoch 1/1:  16%|█▌        | 604/3750 [00:25<02:28, 21.17it/s]"
     ]
    },
    {
     "name": "stdout",
     "output_type": "stream",
     "text": [
      "Batch 600/3750: Loss: 0.188381, Recon: 0.188381, KL: 0.000041, Beta: 0.000000\n"
     ]
    },
    {
     "name": "stderr",
     "output_type": "stream",
     "text": [
      "Epoch 1/1:  19%|█▊        | 703/3750 [00:29<02:05, 24.34it/s]"
     ]
    },
    {
     "name": "stdout",
     "output_type": "stream",
     "text": [
      "Batch 700/3750: Loss: 0.193826, Recon: 0.193826, KL: 0.000038, Beta: 0.000000\n"
     ]
    },
    {
     "name": "stderr",
     "output_type": "stream",
     "text": [
      "Epoch 1/1:  21%|██▏       | 805/3750 [00:33<01:57, 25.10it/s]"
     ]
    },
    {
     "name": "stdout",
     "output_type": "stream",
     "text": [
      "Batch 800/3750: Loss: 0.185275, Recon: 0.185275, KL: 0.000040, Beta: 0.000000\n"
     ]
    },
    {
     "name": "stderr",
     "output_type": "stream",
     "text": [
      "Epoch 1/1:  24%|██▍       | 904/3750 [00:37<01:52, 25.41it/s]"
     ]
    },
    {
     "name": "stdout",
     "output_type": "stream",
     "text": [
      "Batch 900/3750: Loss: 0.198289, Recon: 0.198289, KL: 0.000041, Beta: 0.000000\n"
     ]
    },
    {
     "name": "stderr",
     "output_type": "stream",
     "text": [
      "Epoch 1/1:  27%|██▋       | 1006/3750 [00:41<01:48, 25.23it/s]"
     ]
    },
    {
     "name": "stdout",
     "output_type": "stream",
     "text": [
      "Batch 1000/3750: Loss: 0.198607, Recon: 0.198607, KL: 0.000040, Beta: 0.000000\n"
     ]
    },
    {
     "name": "stderr",
     "output_type": "stream",
     "text": [
      "Epoch 1/1:  29%|██▉       | 1105/3750 [00:45<01:44, 25.41it/s]"
     ]
    },
    {
     "name": "stdout",
     "output_type": "stream",
     "text": [
      "Batch 1100/3750: Loss: 0.204806, Recon: 0.204806, KL: 0.000039, Beta: 0.000000\n"
     ]
    },
    {
     "name": "stderr",
     "output_type": "stream",
     "text": [
      "Epoch 1/1:  32%|███▏      | 1204/3750 [00:49<01:46, 23.91it/s]"
     ]
    },
    {
     "name": "stdout",
     "output_type": "stream",
     "text": [
      "Batch 1200/3750: Loss: 0.195962, Recon: 0.195962, KL: 0.000040, Beta: 0.000000\n"
     ]
    },
    {
     "name": "stderr",
     "output_type": "stream",
     "text": [
      "Epoch 1/1:  35%|███▍      | 1306/3750 [00:53<01:35, 25.46it/s]"
     ]
    },
    {
     "name": "stdout",
     "output_type": "stream",
     "text": [
      "Batch 1300/3750: Loss: 0.199057, Recon: 0.199057, KL: 0.000040, Beta: 0.000000\n"
     ]
    },
    {
     "name": "stderr",
     "output_type": "stream",
     "text": [
      "Epoch 1/1:  37%|███▋      | 1405/3750 [00:57<01:34, 24.91it/s]"
     ]
    },
    {
     "name": "stdout",
     "output_type": "stream",
     "text": [
      "Batch 1400/3750: Loss: 0.206595, Recon: 0.206595, KL: 0.000039, Beta: 0.000000\n"
     ]
    },
    {
     "name": "stderr",
     "output_type": "stream",
     "text": [
      "Epoch 1/1:  40%|████      | 1504/3750 [01:01<01:51, 20.15it/s]"
     ]
    },
    {
     "name": "stdout",
     "output_type": "stream",
     "text": [
      "Batch 1500/3750: Loss: 0.191656, Recon: 0.191656, KL: 0.000039, Beta: 0.000000\n"
     ]
    },
    {
     "name": "stderr",
     "output_type": "stream",
     "text": [
      "Epoch 1/1:  43%|████▎     | 1604/3750 [01:06<01:38, 21.69it/s]"
     ]
    },
    {
     "name": "stdout",
     "output_type": "stream",
     "text": [
      "Batch 1600/3750: Loss: 0.183558, Recon: 0.183558, KL: 0.000039, Beta: 0.000000\n"
     ]
    },
    {
     "name": "stderr",
     "output_type": "stream",
     "text": [
      "Epoch 1/1:  45%|████▌     | 1706/3750 [01:10<01:18, 25.91it/s]"
     ]
    },
    {
     "name": "stdout",
     "output_type": "stream",
     "text": [
      "Batch 1700/3750: Loss: 0.197997, Recon: 0.197997, KL: 0.000039, Beta: 0.000000\n"
     ]
    },
    {
     "name": "stderr",
     "output_type": "stream",
     "text": [
      "Epoch 1/1:  48%|████▊     | 1803/3750 [01:15<01:40, 19.36it/s]"
     ]
    },
    {
     "name": "stdout",
     "output_type": "stream",
     "text": [
      "Batch 1800/3750: Loss: 0.201063, Recon: 0.201063, KL: 0.000040, Beta: 0.000000\n"
     ]
    },
    {
     "name": "stderr",
     "output_type": "stream",
     "text": [
      "Epoch 1/1:  51%|█████     | 1903/3750 [01:19<01:26, 21.30it/s]"
     ]
    },
    {
     "name": "stdout",
     "output_type": "stream",
     "text": [
      "Batch 1900/3750: Loss: 0.209229, Recon: 0.209229, KL: 0.000040, Beta: 0.000000\n"
     ]
    },
    {
     "name": "stderr",
     "output_type": "stream",
     "text": [
      "Epoch 1/1:  53%|█████▎    | 2004/3750 [01:24<01:22, 21.21it/s]"
     ]
    },
    {
     "name": "stdout",
     "output_type": "stream",
     "text": [
      "Batch 2000/3750: Loss: 0.211183, Recon: 0.211183, KL: 0.000040, Beta: 0.000000\n"
     ]
    },
    {
     "name": "stderr",
     "output_type": "stream",
     "text": [
      "Epoch 1/1:  56%|█████▌    | 2106/3750 [01:28<01:02, 26.12it/s]"
     ]
    },
    {
     "name": "stdout",
     "output_type": "stream",
     "text": [
      "Batch 2100/3750: Loss: 0.207180, Recon: 0.207180, KL: 0.000040, Beta: 0.000000\n"
     ]
    },
    {
     "name": "stderr",
     "output_type": "stream",
     "text": [
      "Epoch 1/1:  59%|█████▉    | 2205/3750 [01:32<00:59, 25.79it/s]"
     ]
    },
    {
     "name": "stdout",
     "output_type": "stream",
     "text": [
      "Batch 2200/3750: Loss: 0.200790, Recon: 0.200790, KL: 0.000040, Beta: 0.000000\n"
     ]
    },
    {
     "name": "stderr",
     "output_type": "stream",
     "text": [
      "Epoch 1/1:  61%|██████▏   | 2303/3750 [01:36<01:08, 21.04it/s]"
     ]
    },
    {
     "name": "stdout",
     "output_type": "stream",
     "text": [
      "Batch 2300/3750: Loss: 0.196120, Recon: 0.196120, KL: 0.000040, Beta: 0.000000\n"
     ]
    },
    {
     "name": "stderr",
     "output_type": "stream",
     "text": [
      "Epoch 1/1:  64%|██████▍   | 2405/3750 [01:40<00:52, 25.51it/s]"
     ]
    },
    {
     "name": "stdout",
     "output_type": "stream",
     "text": [
      "Batch 2400/3750: Loss: 0.198100, Recon: 0.198100, KL: 0.000039, Beta: 0.000000\n"
     ]
    },
    {
     "name": "stderr",
     "output_type": "stream",
     "text": [
      "Epoch 1/1:  67%|██████▋   | 2504/3750 [01:44<00:48, 25.96it/s]"
     ]
    },
    {
     "name": "stdout",
     "output_type": "stream",
     "text": [
      "Batch 2500/3750: Loss: 0.203130, Recon: 0.203130, KL: 0.000040, Beta: 0.000000\n"
     ]
    },
    {
     "name": "stderr",
     "output_type": "stream",
     "text": [
      "Epoch 1/1:  69%|██████▉   | 2606/3750 [01:48<00:44, 25.66it/s]"
     ]
    },
    {
     "name": "stdout",
     "output_type": "stream",
     "text": [
      "Batch 2600/3750: Loss: 0.199813, Recon: 0.199813, KL: 0.000040, Beta: 0.000000\n"
     ]
    },
    {
     "name": "stderr",
     "output_type": "stream",
     "text": [
      "Epoch 1/1:  72%|███████▏  | 2705/3750 [01:52<00:40, 25.74it/s]"
     ]
    },
    {
     "name": "stdout",
     "output_type": "stream",
     "text": [
      "Batch 2700/3750: Loss: 0.204457, Recon: 0.204457, KL: 0.000039, Beta: 0.000000\n"
     ]
    },
    {
     "name": "stderr",
     "output_type": "stream",
     "text": [
      "Epoch 1/1:  75%|███████▍  | 2804/3750 [01:56<00:36, 25.88it/s]"
     ]
    },
    {
     "name": "stdout",
     "output_type": "stream",
     "text": [
      "Batch 2800/3750: Loss: 0.195699, Recon: 0.195699, KL: 0.000040, Beta: 0.000000\n"
     ]
    },
    {
     "name": "stderr",
     "output_type": "stream",
     "text": [
      "Epoch 1/1:  77%|███████▋  | 2906/3750 [02:00<00:33, 25.41it/s]"
     ]
    },
    {
     "name": "stdout",
     "output_type": "stream",
     "text": [
      "Batch 2900/3750: Loss: 0.198055, Recon: 0.198055, KL: 0.000040, Beta: 0.000000\n"
     ]
    },
    {
     "name": "stderr",
     "output_type": "stream",
     "text": [
      "Epoch 1/1:  80%|████████  | 3005/3750 [02:04<00:30, 24.28it/s]"
     ]
    },
    {
     "name": "stdout",
     "output_type": "stream",
     "text": [
      "Batch 3000/3750: Loss: 0.185486, Recon: 0.185486, KL: 0.000039, Beta: 0.000000\n"
     ]
    },
    {
     "name": "stderr",
     "output_type": "stream",
     "text": [
      "Epoch 1/1:  83%|████████▎ | 3104/3750 [02:07<00:25, 25.59it/s]"
     ]
    },
    {
     "name": "stdout",
     "output_type": "stream",
     "text": [
      "Batch 3100/3750: Loss: 0.191689, Recon: 0.191689, KL: 0.000041, Beta: 0.000000\n"
     ]
    },
    {
     "name": "stderr",
     "output_type": "stream",
     "text": [
      "Epoch 1/1:  85%|████████▌ | 3206/3750 [02:12<00:22, 24.49it/s]"
     ]
    },
    {
     "name": "stdout",
     "output_type": "stream",
     "text": [
      "Batch 3200/3750: Loss: 0.202564, Recon: 0.202564, KL: 0.000039, Beta: 0.000000\n"
     ]
    },
    {
     "name": "stderr",
     "output_type": "stream",
     "text": [
      "Epoch 1/1:  88%|████████▊ | 3306/3750 [02:17<00:18, 23.51it/s]"
     ]
    },
    {
     "name": "stdout",
     "output_type": "stream",
     "text": [
      "Batch 3300/3750: Loss: 0.193019, Recon: 0.193019, KL: 0.000040, Beta: 0.000000\n"
     ]
    },
    {
     "name": "stderr",
     "output_type": "stream",
     "text": [
      "Epoch 1/1:  91%|█████████ | 3404/3750 [02:22<00:16, 20.49it/s]"
     ]
    },
    {
     "name": "stdout",
     "output_type": "stream",
     "text": [
      "Batch 3400/3750: Loss: 0.205351, Recon: 0.205351, KL: 0.000040, Beta: 0.000000\n"
     ]
    },
    {
     "name": "stderr",
     "output_type": "stream",
     "text": [
      "Epoch 1/1:  93%|█████████▎| 3506/3750 [02:26<00:09, 25.30it/s]"
     ]
    },
    {
     "name": "stdout",
     "output_type": "stream",
     "text": [
      "Batch 3500/3750: Loss: 0.200371, Recon: 0.200371, KL: 0.000038, Beta: 0.000000\n"
     ]
    },
    {
     "name": "stderr",
     "output_type": "stream",
     "text": [
      "Epoch 1/1:  96%|█████████▌| 3605/3750 [02:31<00:05, 24.95it/s]"
     ]
    },
    {
     "name": "stdout",
     "output_type": "stream",
     "text": [
      "Batch 3600/3750: Loss: 0.206159, Recon: 0.206159, KL: 0.000039, Beta: 0.000000\n"
     ]
    },
    {
     "name": "stderr",
     "output_type": "stream",
     "text": [
      "Epoch 1/1:  99%|█████████▉| 3704/3750 [02:35<00:01, 25.27it/s]"
     ]
    },
    {
     "name": "stdout",
     "output_type": "stream",
     "text": [
      "Batch 3700/3750: Loss: 0.198925, Recon: 0.198925, KL: 0.000038, Beta: 0.000000\n"
     ]
    },
    {
     "name": "stderr",
     "output_type": "stream",
     "text": [
      "Epoch 1/1: 100%|██████████| 3750/3750 [02:37<00:00, 23.74it/s]\n"
     ]
    },
    {
     "name": "stdout",
     "output_type": "stream",
     "text": [
      "Epoch [1/1] Loss: 0.198420, Recon: 0.198420, KL: 0.000040, LR: 0.000500\n",
      "Training complete!\n"
     ]
    },
    {
     "data": {
      "image/png": "[encoded data removed]",
      "text/plain": [
       "<Figure size 1600x600 with 24 Axes>"
      ]
     },
     "metadata": {},
     "output_type": "display_data"
    }
   ],
   "source": [
    "import torch\n",
    "import torch.nn as nn\n",
    "import torch.nn.functional as F\n",
    "import torchvision\n",
    "import torchvision.transforms as transforms\n",
    "import numpy as np\n",
    "import matplotlib.pyplot as plt\n",
    "from tqdm import tqdm\n",
    "\n",
    "torch.manual_seed(42)\n",
    "np.random.seed(42)\n",
    "\n",
    "transform = transforms.Compose([transforms.ToTensor()])\n",
    "train_set = torchvision.datasets.FashionMNIST(\"./data\", download=True, transform=transform)\n",
    "test_set = torchvision.datasets.FashionMNIST(\"./data\", download=True, train=False, transform=transform)\n",
    "\n",
    "batch_size = 16  \n",
    "train_loader = torch.utils.data.DataLoader(train_set, batch_size=batch_size, shuffle=True)\n",
    "test_loader = torch.utils.data.DataLoader(test_set, batch_size=batch_size, shuffle=False)\n",
    "\n",
    "class_names = ['T-shirt/top', 'Trouser', 'Pullover', 'Dress', 'Coat',\n",
    "               'Sandal', 'Shirt', 'Sneaker', 'Bag', 'Ankle Boot']\n",
    "\n",
    "def positional_encoding(coords, num_bands=8):\n",
    "    \"\"\"Apply positional encoding to coordinates with multiple frequency bands.\"\"\"\n",
    "    pos_enc = [coords]\n",
    "    for i in range(num_bands):\n",
    "        freq = 2.0 ** i\n",
    "        pos_enc.append(torch.sin(coords * freq * np.pi))\n",
    "        pos_enc.append(torch.cos(coords * freq * np.pi))\n",
    "    return torch.cat(pos_enc, dim=-1)\n",
    "\n",
    "def get_mgrid(sidelen, dim=2, num_bands=8):\n",
    "    '''Generates a flattened grid of (x,y,...) coordinates in a range of -1 to 1.'''\n",
    "    if isinstance(sidelen, int):\n",
    "        sidelen = dim * (sidelen,)\n",
    "    coords = [torch.linspace(-1, 1, s) for s in sidelen]\n",
    "    mesh_coords = torch.meshgrid(*coords, indexing='ij')  \n",
    "    coords = torch.stack(mesh_coords, dim=-1).reshape(-1, dim)\n",
    "    return positional_encoding(coords, num_bands)\n",
    "\n",
    "class SIREN(nn.Module):\n",
    "    def __init__(self, input_dim=2+2*2*8, hidden_dim=256, hidden_layers=3, output_dim=1, first_omega=30.0, hidden_omega=30.0):\n",
    "        super().__init__()\n",
    "        self.input_dim = input_dim\n",
    "        self.hidden_dim = hidden_dim\n",
    "        self.hidden_layers = hidden_layers\n",
    "        self.output_dim = output_dim\n",
    "        self.first_omega = first_omega\n",
    "        self.hidden_omega = hidden_omega\n",
    "\n",
    "        self.first_layer = nn.Linear(input_dim, hidden_dim)\n",
    "        with torch.no_grad():\n",
    "\n",
    "            self.first_layer.weight.uniform_(-1/input_dim, 1/input_dim)\n",
    "            self.first_layer.bias.uniform_(-1/input_dim, 1/input_dim)\n",
    "        \n",
    "        self.hidden_layers_list = nn.ModuleList()\n",
    "        for _ in range(hidden_layers):\n",
    "            layer = nn.Linear(hidden_dim, hidden_dim)\n",
    "            with torch.no_grad():\n",
    "\n",
    "                layer.weight.uniform_(-np.sqrt(6/hidden_dim)/hidden_omega, \n",
    "                                      np.sqrt(6/hidden_dim)/hidden_omega)\n",
    "                layer.bias.uniform_(-np.sqrt(6/hidden_dim)/hidden_omega, \n",
    "                                    np.sqrt(6/hidden_dim)/hidden_omega)\n",
    "            self.hidden_layers_list.append(layer)\n",
    "        \n",
    "        self.output_layer = nn.Linear(hidden_dim, output_dim)\n",
    "        with torch.no_grad():\n",
    "\n",
    "            self.output_layer.weight.uniform_(-np.sqrt(6/hidden_dim)/hidden_omega, \n",
    "                                              np.sqrt(6/hidden_dim)/hidden_omega)\n",
    "            self.output_layer.bias.uniform_(-1, 1)\n",
    "    \n",
    "    def forward(self, x):\n",
    "        x = torch.sin(self.first_omega * self.first_layer(x))\n",
    "        for layer in self.hidden_layers_list:\n",
    "            x = torch.sin(self.hidden_omega * layer(x))\n",
    "\n",
    "        return torch.sigmoid(self.output_layer(x))\n",
    "    \n",
    "    def set_weights_vector(self, weights_vector):\n",
    "        \"\"\"Set all weights from a flattened vector\"\"\"\n",
    "        start_idx = 0\n",
    "        \n",
    "\n",
    "        w_size = self.first_layer.weight.numel()\n",
    "        self.first_layer.weight.data = weights_vector[start_idx:start_idx+w_size].view(self.first_layer.weight.shape)\n",
    "        start_idx += w_size\n",
    "        \n",
    "        b_size = self.first_layer.bias.numel()\n",
    "        self.first_layer.bias.data = weights_vector[start_idx:start_idx+b_size].view(self.first_layer.bias.shape)\n",
    "        start_idx += b_size\n",
    "        \n",
    "\n",
    "        for layer in self.hidden_layers_list:\n",
    "            w_size = layer.weight.numel()\n",
    "            layer.weight.data = weights_vector[start_idx:start_idx+w_size].view(layer.weight.shape)\n",
    "            start_idx += w_size\n",
    "            \n",
    "            b_size = layer.bias.numel()\n",
    "            layer.bias.data = weights_vector[start_idx:start_idx+b_size].view(layer.bias.shape)\n",
    "            start_idx += b_size\n",
    "        \n",
    "\n",
    "        w_size = self.output_layer.weight.numel()\n",
    "        self.output_layer.weight.data = weights_vector[start_idx:start_idx+w_size].view(self.output_layer.weight.shape)\n",
    "        start_idx += w_size\n",
    "        \n",
    "        b_size = self.output_layer.bias.numel()\n",
    "        self.output_layer.bias.data = weights_vector[start_idx:start_idx+b_size].view(self.output_layer.bias.shape)\n",
    "    \n",
    "    @staticmethod\n",
    "    def calc_total_weights(input_dim, hidden_dim, hidden_layers, output_dim):\n",
    "        \"\"\"Calculate the total number of weights in the SIREN\"\"\"\n",
    "        total = input_dim * hidden_dim + hidden_dim\n",
    "        \n",
    "        total += hidden_layers * (hidden_dim * hidden_dim + hidden_dim)\n",
    "        \n",
    "        total += hidden_dim * output_dim + output_dim\n",
    "        \n",
    "        return total\n",
    "\n",
    "class VAE(nn.Module):\n",
    "    def __init__(self, z_dim=64, siren_config=None):\n",
    "        super().__init__()\n",
    "        self.z_dim = z_dim\n",
    "        \n",
    "        # Default SIREN config\n",
    "        self.siren_config = {\n",
    "            'input_dim': 2 + 2*2*8,  \n",
    "            'hidden_dim': 128,       \n",
    "            'hidden_layers': 3,       \n",
    "            'output_dim': 1\n",
    "        }\n",
    "        \n",
    "        # Update config if provided\n",
    "        if siren_config is not None:\n",
    "            self.siren_config.update(siren_config)\n",
    "        \n",
    "        self.encoder = nn.Sequential(\n",
    "            nn.Conv2d(1, 32, 4, stride=2, padding=1),             # 28x28 -> 14x14\n",
    "            nn.LeakyReLU(0.2, inplace=True),\n",
    "            nn.Conv2d(32, 64, 4, stride=2, padding=1),            # 14x14 -> 7x7\n",
    "            nn.LeakyReLU(0.2, inplace=True),\n",
    "            nn.Conv2d(64, 128, 3, stride=1, padding=1),           # 7x7 -> 7x7\n",
    "            nn.LeakyReLU(0.2, inplace=True),\n",
    "            nn.Flatten(),\n",
    "            nn.Linear(128 * 7 * 7, 512),\n",
    "            nn.LeakyReLU(0.2, inplace=True)\n",
    "        )\n",
    "        \n",
    "\n",
    "        self.fc_mu = nn.Linear(512, z_dim)\n",
    "        self.fc_logvar = nn.Linear(512, z_dim)\n",
    "        \n",
    "\n",
    "        total_weights = SIREN.calc_total_weights(\n",
    "            input_dim=self.siren_config['input_dim'],\n",
    "            hidden_dim=self.siren_config['hidden_dim'],\n",
    "            hidden_layers=self.siren_config['hidden_layers'],\n",
    "            output_dim=self.siren_config['output_dim']\n",
    "        )\n",
    "        \n",
    "\n",
    "        self.decoder = nn.Sequential(\n",
    "            nn.Linear(z_dim, 512),\n",
    "            nn.LeakyReLU(0.2, inplace=True),\n",
    "            nn.Linear(512, 1024),\n",
    "            nn.LeakyReLU(0.2, inplace=True),\n",
    "            nn.Linear(1024, total_weights) \n",
    "        )\n",
    "    \n",
    "    def encode(self, x):\n",
    "        h = self.encoder(x)\n",
    "        return self.fc_mu(h), self.fc_logvar(h)\n",
    "    \n",
    "    def reparameterize(self, mu, logvar):\n",
    "        logvar = torch.clamp(logvar, -4, 4)\n",
    "        std = torch.exp(0.5 * logvar)\n",
    "        eps = torch.randn_like(std)\n",
    "        return mu + eps * std\n",
    "    \n",
    "    def decode(self, z):\n",
    "        return self.decoder(z)\n",
    "    \n",
    "    def forward(self, x):\n",
    "        mu, logvar = self.encode(x)\n",
    "        z = self.reparameterize(mu, logvar)\n",
    "        return self.decode(z), mu, logvar\n",
    "\n",
    "\n",
    "def train(num_epochs=10, save_interval=1):\n",
    "    device = torch.device('cuda' if torch.cuda.is_available() else 'cpu')\n",
    "    print(f\"Using device: {device}\")\n",
    "    \n",
    "\n",
    "    num_bands = 8\n",
    "    siren_config = {\n",
    "        'input_dim': 2 + 2*2*num_bands,\n",
    "        'hidden_dim': 128, \n",
    "        'hidden_layers': 3, \n",
    "        'output_dim': 1,\n",
    "    }\n",
    "    \n",
    "\n",
    "    vae = VAE(z_dim=64, siren_config=siren_config).to(device) \n",
    "    siren = SIREN(\n",
    "        input_dim=siren_config['input_dim'],\n",
    "        hidden_dim=siren_config['hidden_dim'],\n",
    "        hidden_layers=siren_config['hidden_layers'],\n",
    "        output_dim=siren_config['output_dim']\n",
    "    ).to(device)\n",
    "    \n",
    "    optimizer = torch.optim.Adam(vae.parameters(), lr=0.0005, betas=(0.9, 0.999))\n",
    "    scheduler = torch.optim.lr_scheduler.StepLR(optimizer, step_size=5, gamma=0.5)\n",
    "    \n",
    "    coords = get_mgrid(28, num_bands=num_bands).to(device)\n",
    "    \n",
    "    example_data = next(iter(test_loader))\n",
    "    example_images = example_data[0][:8].to(device)\n",
    "    \n",
    "    best_loss = float('inf')\n",
    "    patience = 5\n",
    "    patience_counter = 0\n",
    "    \n",
    "    for epoch in range(num_epochs):\n",
    "        vae.train()\n",
    "        total_loss = 0\n",
    "        total_recon_loss = 0\n",
    "        total_kl_loss = 0\n",
    "        \n",
    "        for batch_idx, (images, _) in enumerate(tqdm(train_loader, desc=f\"Epoch {epoch+1}/{num_epochs}\")):\n",
    "            images = images.to(device)\n",
    "            batch_size = images.size(0)\n",
    "            \n",
    "            optimizer.zero_grad()\n",
    "            \n",
    "            siren_weights_batch, mu, logvar = vae(images)\n",
    "            \n",
    "            reconstruction_loss = 0\n",
    "            \n",
    "            reconstructed_images = []\n",
    "            for j in range(batch_size):\n",
    "                siren.set_weights_vector(siren_weights_batch[j])\n",
    "                \n",
    "                reconstructed_image = siren(coords).reshape(1, 1, 28, 28)\n",
    "                reconstructed_images.append(reconstructed_image)\n",
    "            \n",
    "            reconstructed_batch = torch.cat(reconstructed_images, dim=0)\n",
    "            \n",
    "            reconstruction_loss = F.mse_loss(reconstructed_batch, images)\n",
    "            \n",
    "            kl_loss = -0.5 * torch.sum(1 + logvar - mu.pow(2) - logvar.exp())\n",
    "            kl_loss = kl_loss / (batch_size * 28 * 28)  \n",
    "            \n",
    "            beta = 0.0005 * min(1.0, epoch / 5)  \n",
    "            loss = reconstruction_loss + beta * kl_loss\n",
    "            \n",
    "            loss.backward()\n",
    "            torch.nn.utils.clip_grad_norm_(vae.parameters(), max_norm=1.0)\n",
    "            \n",
    "\n",
    "            optimizer.step()\n",
    "            \n",
    "            total_loss += loss.item()\n",
    "            total_recon_loss += reconstruction_loss.item()\n",
    "            total_kl_loss += kl_loss.item()\n",
    "            \n",
    "\n",
    "            if batch_idx % 100 == 0:\n",
    "                print(f\"Batch {batch_idx}/{len(train_loader)}: \"\n",
    "                      f\"Loss: {loss.item():.6f}, \"\n",
    "                      f\"Recon: {reconstruction_loss.item():.6f}, \"\n",
    "                      f\"KL: {kl_loss.item():.6f}, \"\n",
    "                      f\"Beta: {beta:.6f}\")\n",
    "        \n",
    "\n",
    "        scheduler.step()\n",
    "        current_lr = scheduler.get_last_lr()[0]\n",
    "        \n",
    "\n",
    "        avg_loss = total_loss / len(train_loader)\n",
    "        avg_recon = total_recon_loss / len(train_loader)\n",
    "        avg_kl = total_kl_loss / len(train_loader)\n",
    "        print(f\"Epoch [{epoch+1}/{num_epochs}] \"\n",
    "              f\"Loss: {avg_loss:.6f}, \"\n",
    "              f\"Recon: {avg_recon:.6f}, \"\n",
    "              f\"KL: {avg_kl:.6f}, \"\n",
    "              f\"LR: {current_lr:.6f}\")\n",
    "        \n",
    "\n",
    "        if avg_loss < best_loss:\n",
    "            best_loss = avg_loss\n",
    "            patience_counter = 0\n",
    "\n",
    "            torch.save({\n",
    "                'vae_state_dict': vae.state_dict(),\n",
    "                'siren_config': siren_config,\n",
    "                'epoch': epoch,\n",
    "                'loss': avg_loss\n",
    "            }, 'best_vae_siren_model.pt')\n",
    "        else:\n",
    "            patience_counter += 1\n",
    "            if patience_counter >= patience:\n",
    "                print(f\"Early stopping at epoch {epoch+1}\")\n",
    "                break\n",
    "        \n",
    "        if epoch % save_interval == 0:\n",
    "            with torch.no_grad():\n",
    "                vae.eval()\n",
    "                \n",
    "\n",
    "                test_recon_images = []\n",
    "                for i in range(example_images.size(0)):\n",
    "                    # Encode and decode\n",
    "                    mu, logvar = vae.encode(example_images[i:i+1])\n",
    "                    z = vae.reparameterize(mu, logvar)\n",
    "                    siren_weights = vae.decode(z)\n",
    "                    \n",
    "                    # Set weights and get reconstruction\n",
    "                    siren.set_weights_vector(siren_weights.squeeze(0))\n",
    "                    recon_image = siren(coords).reshape(1, 28, 28)\n",
    "                    test_recon_images.append(recon_image)\n",
    "                \n",
    "                # Stack the images\n",
    "                test_recon_images = torch.cat(test_recon_images, dim=0)\n",
    "                \n",
    "                # Generate random samples\n",
    "                z = torch.randn(8, vae.z_dim, device=device)\n",
    "                generated_images = []\n",
    "                for i in range(z.size(0)):\n",
    "                    siren_weights = vae.decode(z[i:i+1])\n",
    "                    siren.set_weights_vector(siren_weights.squeeze(0))\n",
    "                    gen_image = siren(coords).reshape(1, 28, 28)\n",
    "                    generated_images.append(gen_image)\n",
    "                \n",
    "\n",
    "                generated_images = torch.cat(generated_images, dim=0)\n",
    "                \n",
    "\n",
    "                plt.figure(figsize=(12, 8))\n",
    "                \n",
    "\n",
    "                for i in range(8):\n",
    "                    plt.subplot(3, 8, i + 1)\n",
    "                    plt.imshow(example_images[i].cpu().squeeze(), cmap='gray')\n",
    "                    plt.axis('off')\n",
    "                    plt.title(\"Original\")\n",
    "                \n",
    "                for i in range(8):\n",
    "                    plt.subplot(3, 8, i + 9)\n",
    "                    plt.imshow(test_recon_images[i].cpu().squeeze(), cmap='gray')\n",
    "                    plt.axis('off')\n",
    "                    plt.title(\"Reconstructed\")\n",
    "                \n",
    "                # Plot generated images\n",
    "                for i in range(8):\n",
    "                    plt.subplot(3, 8, i + 17)\n",
    "                    plt.imshow(generated_images[i].cpu().squeeze(), cmap='gray')\n",
    "                    plt.axis('off')\n",
    "                    plt.title(\"Generated\")\n",
    "                \n",
    "                plt.suptitle(f\"Epoch {epoch+1}\")\n",
    "                plt.tight_layout()\n",
    "                plt.savefig(f\"vae_siren_epoch_{epoch+1}.png\")\n",
    "                plt.close()\n",
    "    \n",
    "    print(\"Training complete!\")\n",
    "    return vae, siren\n",
    "\n",
    "def evaluate_model(model_path='best_vae_siren_model.pt'):\n",
    "    # Load model\n",
    "    checkpoint = torch.load(model_path)\n",
    "    siren_config = checkpoint['siren_config']\n",
    "    \n",
    "    device = torch.device('cuda' if torch.cuda.is_available() else 'cpu')\n",
    "    \n",
    "    vae = VAE(z_dim=64, siren_config=siren_config).to(device)\n",
    "    vae.load_state_dict(checkpoint['vae_state_dict'])\n",
    "    \n",
    "    siren = SIREN(\n",
    "        input_dim=siren_config['input_dim'],\n",
    "        hidden_dim=siren_config['hidden_dim'],\n",
    "        hidden_layers=siren_config['hidden_layers'],\n",
    "        output_dim=siren_config['output_dim']\n",
    "    ).to(device)\n",
    "    \n",
    "    coords = get_mgrid(28, num_bands=8).to(device)\n",
    "    \n",
    "    example_data = next(iter(test_loader))\n",
    "    test_images = example_data[0][:8].to(device)\n",
    "    test_labels = example_data[1][:8]\n",
    "    \n",
    "    vae.eval()\n",
    "    with torch.no_grad():\n",
    "        reconstructed_images = []\n",
    "        for i in range(test_images.size(0)):\n",
    "            mu, logvar = vae.encode(test_images[i:i+1])\n",
    "            z = vae.reparameterize(mu, logvar)\n",
    "            siren_weights = vae.decode(z)\n",
    "            \n",
    "            siren.set_weights_vector(siren_weights.squeeze(0))\n",
    "            recon_image = siren(coords).reshape(1, 28, 28)\n",
    "            reconstructed_images.append(recon_image)\n",
    "        \n",
    "        reconstructed_images = torch.cat(reconstructed_images, dim=0)\n",
    "        \n",
    "        z = torch.randn(8, vae.z_dim, device=device)\n",
    "        generated_images = []\n",
    "        for i in range(z.size(0)):\n",
    "            siren_weights = vae.decode(z[i:i+1])\n",
    "            siren.set_weights_vector(siren_weights.squeeze(0))\n",
    "            gen_image = siren(coords).reshape(1, 28, 28)\n",
    "            generated_images.append(gen_image)\n",
    "        \n",
    "        generated_images = torch.cat(generated_images, dim=0)\n",
    "    \n",
    "    fig, axs = plt.subplots(3, 8, figsize=(16, 6))\n",
    "    \n",
    "    for i in range(8):\n",
    "        # Original\n",
    "        axs[0, i].imshow(test_images[i].cpu().squeeze(), cmap='gray')\n",
    "        axs[0, i].set_title(f\"{class_names[test_labels[i]]}\")\n",
    "        axs[0, i].axis('off')\n",
    "        \n",
    "        # Reconstructed\n",
    "        axs[1, i].imshow(reconstructed_images[i].cpu().squeeze(), cmap='gray')\n",
    "        axs[1, i].set_title(\"Reconstructed\")\n",
    "        axs[1, i].axis('off')\n",
    "        \n",
    "        # Generated\n",
    "        axs[2, i].imshow(generated_images[i].cpu().squeeze(), cmap='gray')\n",
    "        axs[2, i].set_title(\"Generated\")\n",
    "        axs[2, i].axis('off')\n",
    "    \n",
    "    plt.tight_layout()\n",
    "    plt.savefig(\"evaluation_results.png\")\n",
    "    plt.show()\n",
    "    \n",
    "    return vae, siren\n",
    "\n",
    "if __name__ == \"__main__\":\n",
    "    vae, siren = train(num_epochs=1, save_interval=1)\n",
    "    evaluate_model()"
   ]
  }
 ],
 "metadata": {
  "kernelspec": {
   "display_name": ".venv",
   "language": "python",
   "name": "python3"
  },
  "language_info": {
   "codemirror_mode": {
    "name": "ipython",
    "version": 3
   },
   "file_extension": ".py",
   "mimetype": "text/x-python",
   "name": "python",
   "nbconvert_exporter": "python",
   "pygments_lexer": "ipython3",
   "version": "3.13.2"
  }
 },
 "nbformat": 4,
 "nbformat_minor": 2
}
