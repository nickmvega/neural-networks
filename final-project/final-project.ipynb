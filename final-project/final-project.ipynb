{
 "cells": [
  {
   "cell_type": "markdown",
   "metadata": {},
   "source": [
    "# Final Project"
   ]
  },
  {
   "cell_type": "code",
   "execution_count": 1,
   "metadata": {},
   "outputs": [],
   "source": [
    "\"\"\"\n",
    "Import PyTorch libraries.\n",
    "\"\"\"\n",
    "import torch\n",
    "import torch.nn as nn\n",
    "import torch.nn.functional as F\n",
    "import torchvision\n",
    "from torchvision import datasets, transforms\n",
    "from torchvision.utils import save_image\n",
    "import matplotlib.pyplot as plt\n",
    "import numpy as np\n",
    "import random"
   ]
  },
  {
   "cell_type": "code",
   "execution_count": 2,
   "metadata": {},
   "outputs": [
    {
     "name": "stdout",
     "output_type": "stream",
     "text": [
      "Ankle Boot\n"
     ]
    },
    {
     "data": {
      "image/png": "[encoded data removed]",
      "text/plain": [
       "<Figure size 640x480 with 1 Axes>"
      ]
     },
     "metadata": {},
     "output_type": "display_data"
    }
   ],
   "source": [
    "\"\"\"\n",
    "Define the dataloader for the Fashion MNIST dataset.\n",
    "\"\"\"\n",
    "train_set = torchvision.datasets.FashionMNIST(\"./data\", download=True, transform=\n",
    "                                                transforms.Compose([transforms.ToTensor()]))\n",
    "test_set = torchvision.datasets.FashionMNIST(\"./data\", download=True, train=False, transform=\n",
    "                                               transforms.Compose([transforms.ToTensor()]))\n",
    "train_loader = torch.utils.data.DataLoader(train_set,\n",
    "                                           batch_size=100)\n",
    "test_loader = torch.utils.data.DataLoader(test_set,\n",
    "                                          batch_size=100)\n",
    "def output_label(label):\n",
    "    output_mapping = {\n",
    "                 0: \"T-shirt/Top\",\n",
    "                 1: \"Trouser\",\n",
    "                 2: \"Pullover\",\n",
    "                 3: \"Dress\",\n",
    "                 4: \"Coat\",\n",
    "                 5: \"Sandal\",\n",
    "                 6: \"Shirt\",\n",
    "                 7: \"Sneaker\",\n",
    "                 8: \"Bag\",\n",
    "                 9: \"Ankle Boot\"\n",
    "                 }\n",
    "    input = (label.item() if type(label) == torch.Tensor else label)\n",
    "    return output_mapping[input]\n",
    "image, label = next(iter(train_set))\n",
    "plt.imshow(image.squeeze(), cmap=\"gray\")\n",
    "print(output_label(label))"
   ]
  },
  {
   "cell_type": "code",
   "execution_count": 3,
   "metadata": {},
   "outputs": [],
   "source": [
    "class Sine(nn.Module):\n",
    "    def __init__(self, omega_0=30):\n",
    "        super().__init__()\n",
    "\n",
    "        self.omega_0 = omega_0\n",
    "\n",
    "    def forward(self, x):\n",
    "        return torch.sin(self.omega_0 * x)"
   ]
  },
  {
   "cell_type": "code",
   "execution_count": 4,
   "metadata": {},
   "outputs": [],
   "source": [
    "class SIREN(nn.Module):\n",
    "    def __init__(self, input_dim=2, num_bands=3, hidden_dim=128, hidden_layers=2, output_dim=1, omega_0_initial=30, omega_0=1.0):\n",
    "        super(SIREN, self).__init__()\n",
    "\n",
    "        self.input_dim = input_dim\n",
    "        self.hidden_dim = hidden_dim\n",
    "        self.hidden_layers = hidden_layers\n",
    "        self.output_dim = output_dim\n",
    "        self.omega_0_initial = omega_0_initial\n",
    "        self.omega_0 = omega_0\n",
    "        self.num_bands = num_bands\n",
    "\n",
    "        encoded_dim = self.input_dim + 2 * self.input_dim * self.num_bands\n",
    "        self.encoded_dim = encoded_dim\n",
    "\n",
    "        self.layers = nn.ModuleList()\n",
    "        self.layers.append(nn.Linear(self.encoded_dim, self.hidden_dim))\n",
    "        self.layers.append(Sine(self.omega_0_initial))\n",
    "\n",
    "        for _ in range(hidden_layers):\n",
    "            self.layers.append(nn.Linear(self.hidden_dim, self.hidden_dim))\n",
    "            self.layers.append(Sine(self.omega_0))\n",
    "\n",
    "        self.layers.append(nn.Linear(self.hidden_dim, self.output_dim))\n",
    "        self.sigmoid = nn.Sigmoid()\n",
    "    \n",
    "    def positional_encoding(self, coords):\n",
    "        encoded = [coords]\n",
    "        \n",
    "        for i in range(self.num_bands):\n",
    "            freq = 2.0 ** i\n",
    "            encoded.append(torch.sin(coords * freq * np.pi))\n",
    "            encoded.append(torch.cos(coords * freq * np.pi))\n",
    "        \n",
    "        return torch.cat(encoded, dim=-1)\n",
    "\n",
    "    def forward(self, x):\n",
    "        x = self.positional_encoding(x) \n",
    "        for layer in self.layers:\n",
    "            x = layer(x)\n",
    "        return self.sigmoid(x)"
   ]
  },
  {
   "cell_type": "code",
   "execution_count": 5,
   "metadata": {},
   "outputs": [],
   "source": [
    "class VAE(nn.Module):\n",
    "    def __init__(self, INN_hidden_dim=128, INN_num_bands=3, INN_hidden_layers=2):\n",
    "        super(VAE, self).__init__()\n",
    "\n",
    "        self.encoder = nn.Sequential(\n",
    "            nn.Conv2d(in_channels=1, out_channels=32, kernel_size=3, stride=2, padding=1),\n",
    "            nn.BatchNorm2d(32),\n",
    "            nn.ReLU(), \n",
    "            nn.Conv2d(in_channels=32, out_channels=64, kernel_size=3, stride=2, padding=1),\n",
    "            nn.BatchNorm2d(64),\n",
    "            nn.ReLU(),\n",
    "            nn.Conv2d(in_channels=64, out_channels=128, kernel_size=3, stride=2, padding=1),\n",
    "            nn.BatchNorm2d(128),\n",
    "            nn.ReLU(),\n",
    "            nn.Flatten()\n",
    "        )\n",
    "\n",
    "        self.mu = nn.Linear(4 * 4 * 128, 256)\n",
    "        self.log_variance = nn.Linear(4 * 4 * 128, 256)\n",
    "\n",
    "        self.INN_hidden_dim = INN_hidden_dim\n",
    "        self.INN_hidden_layers = INN_hidden_layers\n",
    "        self.INN_num_bands = INN_num_bands\n",
    "\n",
    "        self.encoded_dim = 2 + 2 * 2 * self.INN_num_bands\n",
    "\n",
    "        input_weights = self.encoded_dim * self.INN_hidden_dim + self.INN_hidden_dim\n",
    "        hidden_weights = self.INN_hidden_layers * (self.INN_hidden_dim * self.INN_hidden_dim + self.INN_hidden_dim)\n",
    "        output_weights = self.INN_hidden_dim * 1 + 1 \n",
    "\n",
    "        self.total_weight = input_weights + hidden_weights + output_weights\n",
    "\n",
    "        self.decoder = nn.Sequential(\n",
    "            nn.Linear(256, 512),\n",
    "            nn.BatchNorm1d(512),\n",
    "            nn.ReLU(),\n",
    "\n",
    "            nn.Linear(512, 1024),\n",
    "            nn.BatchNorm1d(1024),\n",
    "            nn.ReLU(),\n",
    "\n",
    "            nn.Linear(1024, 2048),\n",
    "            nn.BatchNorm1d(2048),\n",
    "            nn.ReLU(),\n",
    "\n",
    "            nn.Linear(2048, self.total_weight)\n",
    "        )\n",
    "\n",
    "    def reparameterize(self, mu, log_variance):\n",
    "        sigma = torch.exp(0.5 * log_variance)\n",
    "        epsilon = torch.randn_like(sigma)\n",
    "        return mu + (sigma * epsilon)\n",
    "    \n",
    "    def forward(self, x):\n",
    "        x = self.encoder(x)\n",
    "        mu = self.mu(x)\n",
    "        log_variance = self.log_variance(x)\n",
    "        z = self.reparameterize(mu, log_variance)\n",
    "        INN_weights = self.decoder(z)\n",
    "        return INN_weights, mu, log_variance"
   ]
  },
  {
   "cell_type": "code",
   "execution_count": 6,
   "metadata": {},
   "outputs": [
    {
     "name": "stdout",
     "output_type": "stream",
     "text": [
      "Epoch: [1/1], Train: [0/60000 (0%)], Loss: 11.61343\n"
     ]
    },
    {
     "ename": "KeyboardInterrupt",
     "evalue": "",
     "output_type": "error",
     "traceback": [
      "\u001b[0;31m---------------------------------------------------------------------------\u001b[0m",
      "\u001b[0;31mKeyboardInterrupt\u001b[0m                         Traceback (most recent call last)",
      "Cell \u001b[0;32mIn[6], line 148\u001b[0m\n\u001b[1;32m    146\u001b[0m inn \u001b[38;5;241m=\u001b[39m inn\u001b[38;5;241m.\u001b[39mto(device)\n\u001b[1;32m    147\u001b[0m \u001b[38;5;28;01mwith\u001b[39;00m torch\u001b[38;5;241m.\u001b[39mno_grad():\n\u001b[0;32m--> 148\u001b[0m     pixels \u001b[38;5;241m=\u001b[39m \u001b[43minn\u001b[49m\u001b[43m(\u001b[49m\u001b[43mcoords\u001b[49m\u001b[43m)\u001b[49m \n\u001b[1;32m    150\u001b[0m reconstructed_image \u001b[38;5;241m=\u001b[39m pixels\u001b[38;5;241m.\u001b[39mreshape(image_size, image_size)\u001b[38;5;241m.\u001b[39munsqueeze(\u001b[38;5;241m0\u001b[39m)\n\u001b[1;32m    151\u001b[0m reconstructed_batch\u001b[38;5;241m.\u001b[39mappend(reconstructed_image)\n",
      "File \u001b[0;32m~/Downloads/neural-networks/.venv/lib/python3.13/site-packages/torch/nn/modules/module.py:1739\u001b[0m, in \u001b[0;36mModule._wrapped_call_impl\u001b[0;34m(self, *args, **kwargs)\u001b[0m\n\u001b[1;32m   1737\u001b[0m     \u001b[38;5;28;01mreturn\u001b[39;00m \u001b[38;5;28mself\u001b[39m\u001b[38;5;241m.\u001b[39m_compiled_call_impl(\u001b[38;5;241m*\u001b[39margs, \u001b[38;5;241m*\u001b[39m\u001b[38;5;241m*\u001b[39mkwargs)  \u001b[38;5;66;03m# type: ignore[misc]\u001b[39;00m\n\u001b[1;32m   1738\u001b[0m \u001b[38;5;28;01melse\u001b[39;00m:\n\u001b[0;32m-> 1739\u001b[0m     \u001b[38;5;28;01mreturn\u001b[39;00m \u001b[38;5;28;43mself\u001b[39;49m\u001b[38;5;241;43m.\u001b[39;49m\u001b[43m_call_impl\u001b[49m\u001b[43m(\u001b[49m\u001b[38;5;241;43m*\u001b[39;49m\u001b[43margs\u001b[49m\u001b[43m,\u001b[49m\u001b[43m \u001b[49m\u001b[38;5;241;43m*\u001b[39;49m\u001b[38;5;241;43m*\u001b[39;49m\u001b[43mkwargs\u001b[49m\u001b[43m)\u001b[49m\n",
      "File \u001b[0;32m~/Downloads/neural-networks/.venv/lib/python3.13/site-packages/torch/nn/modules/module.py:1750\u001b[0m, in \u001b[0;36mModule._call_impl\u001b[0;34m(self, *args, **kwargs)\u001b[0m\n\u001b[1;32m   1745\u001b[0m \u001b[38;5;66;03m# If we don't have any hooks, we want to skip the rest of the logic in\u001b[39;00m\n\u001b[1;32m   1746\u001b[0m \u001b[38;5;66;03m# this function, and just call forward.\u001b[39;00m\n\u001b[1;32m   1747\u001b[0m \u001b[38;5;28;01mif\u001b[39;00m \u001b[38;5;129;01mnot\u001b[39;00m (\u001b[38;5;28mself\u001b[39m\u001b[38;5;241m.\u001b[39m_backward_hooks \u001b[38;5;129;01mor\u001b[39;00m \u001b[38;5;28mself\u001b[39m\u001b[38;5;241m.\u001b[39m_backward_pre_hooks \u001b[38;5;129;01mor\u001b[39;00m \u001b[38;5;28mself\u001b[39m\u001b[38;5;241m.\u001b[39m_forward_hooks \u001b[38;5;129;01mor\u001b[39;00m \u001b[38;5;28mself\u001b[39m\u001b[38;5;241m.\u001b[39m_forward_pre_hooks\n\u001b[1;32m   1748\u001b[0m         \u001b[38;5;129;01mor\u001b[39;00m _global_backward_pre_hooks \u001b[38;5;129;01mor\u001b[39;00m _global_backward_hooks\n\u001b[1;32m   1749\u001b[0m         \u001b[38;5;129;01mor\u001b[39;00m _global_forward_hooks \u001b[38;5;129;01mor\u001b[39;00m _global_forward_pre_hooks):\n\u001b[0;32m-> 1750\u001b[0m     \u001b[38;5;28;01mreturn\u001b[39;00m \u001b[43mforward_call\u001b[49m\u001b[43m(\u001b[49m\u001b[38;5;241;43m*\u001b[39;49m\u001b[43margs\u001b[49m\u001b[43m,\u001b[49m\u001b[43m \u001b[49m\u001b[38;5;241;43m*\u001b[39;49m\u001b[38;5;241;43m*\u001b[39;49m\u001b[43mkwargs\u001b[49m\u001b[43m)\u001b[49m\n\u001b[1;32m   1752\u001b[0m result \u001b[38;5;241m=\u001b[39m \u001b[38;5;28;01mNone\u001b[39;00m\n\u001b[1;32m   1753\u001b[0m called_always_called_hooks \u001b[38;5;241m=\u001b[39m \u001b[38;5;28mset\u001b[39m()\n",
      "Cell \u001b[0;32mIn[4], line 40\u001b[0m, in \u001b[0;36mSIREN.forward\u001b[0;34m(self, x)\u001b[0m\n\u001b[1;32m     38\u001b[0m x \u001b[38;5;241m=\u001b[39m \u001b[38;5;28mself\u001b[39m\u001b[38;5;241m.\u001b[39mpositional_encoding(x) \n\u001b[1;32m     39\u001b[0m \u001b[38;5;28;01mfor\u001b[39;00m layer \u001b[38;5;129;01min\u001b[39;00m \u001b[38;5;28mself\u001b[39m\u001b[38;5;241m.\u001b[39mlayers:\n\u001b[0;32m---> 40\u001b[0m     x \u001b[38;5;241m=\u001b[39m \u001b[43mlayer\u001b[49m\u001b[43m(\u001b[49m\u001b[43mx\u001b[49m\u001b[43m)\u001b[49m\n\u001b[1;32m     41\u001b[0m \u001b[38;5;28;01mreturn\u001b[39;00m \u001b[38;5;28mself\u001b[39m\u001b[38;5;241m.\u001b[39msigmoid(x)\n",
      "File \u001b[0;32m~/Downloads/neural-networks/.venv/lib/python3.13/site-packages/torch/nn/modules/module.py:1739\u001b[0m, in \u001b[0;36mModule._wrapped_call_impl\u001b[0;34m(self, *args, **kwargs)\u001b[0m\n\u001b[1;32m   1737\u001b[0m     \u001b[38;5;28;01mreturn\u001b[39;00m \u001b[38;5;28mself\u001b[39m\u001b[38;5;241m.\u001b[39m_compiled_call_impl(\u001b[38;5;241m*\u001b[39margs, \u001b[38;5;241m*\u001b[39m\u001b[38;5;241m*\u001b[39mkwargs)  \u001b[38;5;66;03m# type: ignore[misc]\u001b[39;00m\n\u001b[1;32m   1738\u001b[0m \u001b[38;5;28;01melse\u001b[39;00m:\n\u001b[0;32m-> 1739\u001b[0m     \u001b[38;5;28;01mreturn\u001b[39;00m \u001b[38;5;28;43mself\u001b[39;49m\u001b[38;5;241;43m.\u001b[39;49m\u001b[43m_call_impl\u001b[49m\u001b[43m(\u001b[49m\u001b[38;5;241;43m*\u001b[39;49m\u001b[43margs\u001b[49m\u001b[43m,\u001b[49m\u001b[43m \u001b[49m\u001b[38;5;241;43m*\u001b[39;49m\u001b[38;5;241;43m*\u001b[39;49m\u001b[43mkwargs\u001b[49m\u001b[43m)\u001b[49m\n",
      "File \u001b[0;32m~/Downloads/neural-networks/.venv/lib/python3.13/site-packages/torch/nn/modules/module.py:1750\u001b[0m, in \u001b[0;36mModule._call_impl\u001b[0;34m(self, *args, **kwargs)\u001b[0m\n\u001b[1;32m   1745\u001b[0m \u001b[38;5;66;03m# If we don't have any hooks, we want to skip the rest of the logic in\u001b[39;00m\n\u001b[1;32m   1746\u001b[0m \u001b[38;5;66;03m# this function, and just call forward.\u001b[39;00m\n\u001b[1;32m   1747\u001b[0m \u001b[38;5;28;01mif\u001b[39;00m \u001b[38;5;129;01mnot\u001b[39;00m (\u001b[38;5;28mself\u001b[39m\u001b[38;5;241m.\u001b[39m_backward_hooks \u001b[38;5;129;01mor\u001b[39;00m \u001b[38;5;28mself\u001b[39m\u001b[38;5;241m.\u001b[39m_backward_pre_hooks \u001b[38;5;129;01mor\u001b[39;00m \u001b[38;5;28mself\u001b[39m\u001b[38;5;241m.\u001b[39m_forward_hooks \u001b[38;5;129;01mor\u001b[39;00m \u001b[38;5;28mself\u001b[39m\u001b[38;5;241m.\u001b[39m_forward_pre_hooks\n\u001b[1;32m   1748\u001b[0m         \u001b[38;5;129;01mor\u001b[39;00m _global_backward_pre_hooks \u001b[38;5;129;01mor\u001b[39;00m _global_backward_hooks\n\u001b[1;32m   1749\u001b[0m         \u001b[38;5;129;01mor\u001b[39;00m _global_forward_hooks \u001b[38;5;129;01mor\u001b[39;00m _global_forward_pre_hooks):\n\u001b[0;32m-> 1750\u001b[0m     \u001b[38;5;28;01mreturn\u001b[39;00m \u001b[43mforward_call\u001b[49m\u001b[43m(\u001b[49m\u001b[38;5;241;43m*\u001b[39;49m\u001b[43margs\u001b[49m\u001b[43m,\u001b[49m\u001b[43m \u001b[49m\u001b[38;5;241;43m*\u001b[39;49m\u001b[38;5;241;43m*\u001b[39;49m\u001b[43mkwargs\u001b[49m\u001b[43m)\u001b[49m\n\u001b[1;32m   1752\u001b[0m result \u001b[38;5;241m=\u001b[39m \u001b[38;5;28;01mNone\u001b[39;00m\n\u001b[1;32m   1753\u001b[0m called_always_called_hooks \u001b[38;5;241m=\u001b[39m \u001b[38;5;28mset\u001b[39m()\n",
      "File \u001b[0;32m~/Downloads/neural-networks/.venv/lib/python3.13/site-packages/torch/nn/modules/linear.py:125\u001b[0m, in \u001b[0;36mLinear.forward\u001b[0;34m(self, input)\u001b[0m\n\u001b[1;32m    124\u001b[0m \u001b[38;5;28;01mdef\u001b[39;00m\u001b[38;5;250m \u001b[39m\u001b[38;5;21mforward\u001b[39m(\u001b[38;5;28mself\u001b[39m, \u001b[38;5;28minput\u001b[39m: Tensor) \u001b[38;5;241m-\u001b[39m\u001b[38;5;241m>\u001b[39m Tensor:\n\u001b[0;32m--> 125\u001b[0m     \u001b[38;5;28;01mreturn\u001b[39;00m \u001b[43mF\u001b[49m\u001b[38;5;241;43m.\u001b[39;49m\u001b[43mlinear\u001b[49m\u001b[43m(\u001b[49m\u001b[38;5;28;43minput\u001b[39;49m\u001b[43m,\u001b[49m\u001b[43m \u001b[49m\u001b[38;5;28;43mself\u001b[39;49m\u001b[38;5;241;43m.\u001b[39;49m\u001b[43mweight\u001b[49m\u001b[43m,\u001b[49m\u001b[43m \u001b[49m\u001b[38;5;28;43mself\u001b[39;49m\u001b[38;5;241;43m.\u001b[39;49m\u001b[43mbias\u001b[49m\u001b[43m)\u001b[49m\n",
      "\u001b[0;31mKeyboardInterrupt\u001b[0m: "
     ]
    }
   ],
   "source": [
    "\"\"\"\n",
    "Initialize Hyperparameters\n",
    "\"\"\"\n",
    "batch_size = 68\n",
    "learning_rate = 0.0001\n",
    "num_epochs = 1\n",
    "image_size = 28\n",
    "\n",
    "\"\"\"\n",
    "Initialize the network and the Adam optimizer\n",
    "\"\"\"\n",
    "device = 'cuda' if torch.cuda.is_available() else 'cpu'\n",
    "vae = VAE()\n",
    "vae = vae.to(device)\n",
    "optimizer = torch.optim.Adam(vae.parameters(), lr=learning_rate)\n",
    "\n",
    "\n",
    "\"\"\"\n",
    "Generate INN weights\n",
    "\"\"\"\n",
    "def get_mgrid(sidelen, dim=2):\n",
    "    '''Generates a flattened grid of (x,y,...) coordinates in a range of -1 to 1.'''\n",
    "    if isinstance(sidelen, int):\n",
    "        sidelen = dim * (sidelen,)\n",
    "\n",
    "    if dim == 2:\n",
    "        pixel_coords = np.stack(np.mgrid[:sidelen[0], :sidelen[1]], axis=-1)[None, ...].astype(np.float32)\n",
    "        pixel_coords[0, :, :, 0] = pixel_coords[0, :, :, 0] / (sidelen[0] - 1)\n",
    "        pixel_coords[0, :, :, 1] = pixel_coords[0, :, :, 1] / (sidelen[1] - 1)\n",
    "    elif dim == 3:\n",
    "        pixel_coords = np.stack(np.mgrid[:sidelen[0], :sidelen[1], :sidelen[2]], axis=-1)[None, ...].astype(np.float32)\n",
    "        pixel_coords[..., 0] = pixel_coords[..., 0] / max(sidelen[0] - 1, 1)\n",
    "        pixel_coords[..., 1] = pixel_coords[..., 1] / (sidelen[1] - 1)\n",
    "        pixel_coords[..., 2] = pixel_coords[..., 2] / (sidelen[2] - 1)\n",
    "    else:\n",
    "        raise NotImplementedError('Not implemented for dim=%d' % dim)\n",
    "\n",
    "    pixel_coords -= 0.5\n",
    "    pixel_coords *= 2.\n",
    "    pixel_coords = torch.Tensor(pixel_coords).view(-1, dim)\n",
    "    return pixel_coords\n",
    "\n",
    "\"\"\"\n",
    "Function to create INN from weights generated by VAE decoder\n",
    "\"\"\"\n",
    "def create_inn_from_weights(weights, INN_hidden_dim=384, INN_hidden_layers=4, INN_num_bands=6, INN_output_dim=1, omega_0_initial=30, omega_0=1.0):    \n",
    "    inn = SIREN(input_dim=2, num_bands=INN_num_bands, hidden_dim=INN_hidden_dim, \n",
    "                hidden_layers=INN_hidden_layers, output_dim=INN_output_dim, \n",
    "                omega_0_initial=omega_0_initial, omega_0=omega_0)\n",
    "    \n",
    "    # Add debugging for encoded_dim\n",
    "    actual_input_dim = inn.layers[0].weight.shape[1]\n",
    "    \n",
    "    #  expected weight sizes\n",
    "    input_params = actual_input_dim * INN_hidden_dim + INN_hidden_dim\n",
    "    hidden_params = INN_hidden_layers * (INN_hidden_dim * INN_hidden_dim + INN_hidden_dim)\n",
    "    output_params = INN_hidden_dim * INN_output_dim + INN_output_dim\n",
    "    total_params = input_params + hidden_params + output_params\n",
    "    \n",
    "    encoded_dim = 2 + 2 * 2 * INN_num_bands\n",
    "    \n",
    "    start_idx = 0\n",
    "    \n",
    "    input_weights = weights[start_idx:start_idx + actual_input_dim * INN_hidden_dim].reshape(INN_hidden_dim, actual_input_dim)\n",
    "    start_idx += actual_input_dim * INN_hidden_dim\n",
    "    input_bias = weights[start_idx:start_idx + INN_hidden_dim]\n",
    "    start_idx += INN_hidden_dim\n",
    "    \n",
    "    with torch.no_grad():\n",
    "        inn.layers[0].weight.copy_(input_weights)\n",
    "        inn.layers[0].bias.copy_(input_bias)\n",
    "    \n",
    "    for i in range(INN_hidden_layers):\n",
    "        hidden_weights = weights[start_idx:start_idx + INN_hidden_dim * INN_hidden_dim].reshape(INN_hidden_dim, INN_hidden_dim)\n",
    "        start_idx += INN_hidden_dim * INN_hidden_dim\n",
    "        hidden_bias = weights[start_idx:start_idx + INN_hidden_dim]\n",
    "        start_idx += INN_hidden_dim\n",
    "        \n",
    "        with torch.no_grad():\n",
    "            inn.layers[2 + 2 * i].weight.copy_(hidden_weights)\n",
    "            inn.layers[2 + 2 * i].bias.copy_(hidden_bias)\n",
    "    \n",
    "    output_weights = weights[start_idx:start_idx + INN_hidden_dim * INN_output_dim].reshape(INN_output_dim, INN_hidden_dim)\n",
    "    start_idx += INN_hidden_dim * INN_output_dim\n",
    "    output_bias = weights[start_idx:start_idx + INN_output_dim]\n",
    "    \n",
    "    with torch.no_grad():\n",
    "        inn.layers[-1].weight.copy_(output_weights)\n",
    "        inn.layers[-1].bias.copy_(output_bias)\n",
    "    \n",
    "    return inn\n",
    "\n",
    "def create_inn_from_weights_batch(weights, INN_hidden_dim=384, INN_hidden_layers=4, INN_num_bands=6, INN_output_dim=1, omega_0_initial=30, omega_0=1.0):\n",
    "    \"\"\"\n",
    "    Create a batch of SIREN networks from a batch of flattened weight vectors\n",
    "    \"\"\"\n",
    "    batch_size = weights.shape[0]\n",
    "    inns = []\n",
    "    for i in range(batch_size):\n",
    "        inn = create_inn_from_weights(\n",
    "            weights[i], \n",
    "            INN_hidden_dim=INN_hidden_dim, \n",
    "            INN_hidden_layers=INN_hidden_layers,\n",
    "            INN_num_bands=INN_num_bands,\n",
    "            INN_output_dim=INN_output_dim, \n",
    "            omega_0_initial=omega_0_initial, \n",
    "            omega_0=omega_0\n",
    "        )\n",
    "        inns.append(inn)\n",
    "    return inns\n",
    "\n",
    "\"\"\"\n",
    "Loss Function for VAE\n",
    "\"\"\"\n",
    "def loss_func(reconstructed_img, img, mu, log_variance, kl_weight=0.01):\n",
    "    reconstruction_loss = F.binary_cross_entropy(reconstructed_img, img, reduction='sum')\n",
    "    kl_divergence_loss = -0.5 * torch.sum(1 + log_variance - mu.pow(2) - log_variance.exp())\n",
    "    return reconstruction_loss + kl_weight * kl_divergence_loss\n",
    "\n",
    "\"\"\"\n",
    "Training the VAE-INN network\n",
    "\"\"\"\n",
    "for epoch in range(num_epochs):\n",
    "    vae.train()\n",
    "    total_loss = 0\n",
    "    \n",
    "    for batch_idx, (img, _) in enumerate(train_loader):\n",
    "        img = img.to(device)\n",
    "        batch_size = img.shape[0]\n",
    "        \n",
    "        optimizer.zero_grad()\n",
    "        \n",
    "        inn_weights, mu, log_variance = vae(img)\n",
    "        \n",
    "        coords = get_mgrid(image_size).to(device)\n",
    "    \n",
    "        inns = create_inn_from_weights_batch(\n",
    "            inn_weights,\n",
    "            INN_hidden_dim=vae.INN_hidden_dim,\n",
    "            INN_hidden_layers=vae.INN_hidden_layers,\n",
    "            INN_num_bands=vae.INN_num_bands\n",
    "        )\n",
    "        \n",
    "        reconstructed_batch = []\n",
    "        for i, inn in enumerate(inns):\n",
    "            inn = inn.to(device)\n",
    "            with torch.no_grad():\n",
    "                pixels = inn(coords) \n",
    "            \n",
    "            reconstructed_image = pixels.reshape(image_size, image_size).unsqueeze(0)\n",
    "            reconstructed_batch.append(reconstructed_image)\n",
    "        \n",
    "        reconstructed_batch = torch.cat(reconstructed_batch, dim=0)\n",
    "        reconstructed_batch = reconstructed_batch.unsqueeze(1)\n",
    "        \n",
    "        loss = loss_func(reconstructed_batch, img, mu, log_variance) / batch_size\n",
    "        \n",
    "        loss.backward()\n",
    "        optimizer.step()\n",
    "        \n",
    "        total_loss += loss.item()\n",
    "        \n",
    "        if batch_idx % 50 == 0:\n",
    "            print('Epoch: [{}/{}], Train: [{}/{} ({:.0f}%)], Loss: {:.5f}'.format(\n",
    "                        epoch + 1, num_epochs,\n",
    "                        batch_idx * len(img), len(train_loader.dataset),\n",
    "                        100. * batch_idx / len(train_loader),\n",
    "                        loss.item() / len(img)\n",
    "                    ))"
   ]
  },
  {
   "cell_type": "code",
   "execution_count": 8,
   "metadata": {},
   "outputs": [
    {
     "data": {
      "image/png": "[encoded data removed]",
      "text/plain": [
       "<Figure size 1000x900 with 9 Axes>"
      ]
     },
     "metadata": {},
     "output_type": "display_data"
    }
   ],
   "source": [
    "\"\"\"\n",
    "The following part takes three images from test loader to feed into the VAE.\n",
    "Shows original image and two different SIREN capabilities.\n",
    "\"\"\"\n",
    "\n",
    "import matplotlib.pyplot as plt\n",
    "import numpy as np\n",
    "\n",
    "vae.eval()\n",
    "with torch.no_grad():\n",
    "    imgs, _ = next(iter(test_loader))\n",
    "    imgs = imgs[:3].to(device)  \n",
    "    fig, ax = plt.subplots(3, 3, figsize=(10, 9))\n",
    "    \n",
    "    inn_weights, mu, log_variance = vae(imgs)\n",
    "    \n",
    "    for i in range(3):\n",
    "        img = imgs[i].cpu().squeeze(0).numpy()\n",
    "        ax[i, 0].imshow(img, cmap='gray')\n",
    "        ax[i, 0].set_title('Original')\n",
    "        ax[i, 0].axis('off')\n",
    "\n",
    "        inn = create_inn_from_weights(\n",
    "            inn_weights[i], \n",
    "            INN_hidden_dim=vae.INN_hidden_dim, \n",
    "            INN_hidden_layers=vae.INN_hidden_layers,\n",
    "            INN_num_bands=vae.INN_num_bands,\n",
    "            INN_output_dim=1,\n",
    "            omega_0_initial=30,\n",
    "            omega_0=1.0\n",
    "        ).to(device)\n",
    "        \n",
    "        standard_coords = get_mgrid(image_size).to(device)\n",
    "        pixels = inn(standard_coords)\n",
    "        standard_image = pixels.reshape(image_size, image_size)\n",
    "        std_img = standard_image.cpu().numpy()\n",
    "        \n",
    "        ax[i, 1].imshow(std_img, cmap='gray')\n",
    "        ax[i, 1].set_title('Standard Resolution')\n",
    "        ax[i, 1].axis('off')\n",
    "        \n",
    "        upsampled_size = image_size * 2\n",
    "        upsampled_coords = get_mgrid(upsampled_size).to(device)\n",
    "        upsampled_pixels = inn(upsampled_coords)\n",
    "        upsampled_image = upsampled_pixels.reshape(upsampled_size, upsampled_size)\n",
    "        up_img = upsampled_image.cpu().numpy()\n",
    "        \n",
    "        ax[i, 2].imshow(up_img, cmap='gray')\n",
    "        ax[i, 2].set_title(f'2x Upsampled ({upsampled_size}x{upsampled_size})')\n",
    "        ax[i, 2].axis('off')\n",
    "    \n",
    "    plt.tight_layout()\n",
    "    plt.savefig('siren_capabilities.png')\n",
    "    plt.show()"
   ]
  },
  {
   "cell_type": "code",
   "execution_count": 2,
   "metadata": {},
   "outputs": [
    {
     "name": "stdout",
     "output_type": "stream",
     "text": [
      "Using device: cpu\n",
      "Coordinate shape: torch.Size([784, 34])\n",
      "Coordinate min/max: -1.0 1.0\n",
      "Encoded coordinate shape: torch.Size([784, 34])\n"
     ]
    },
    {
     "name": "stderr",
     "output_type": "stream",
     "text": [
      "Epoch 1/1:   0%|          | 2/3750 [00:00<05:07, 12.20it/s]"
     ]
    },
    {
     "name": "stdout",
     "output_type": "stream",
     "text": [
      "Batch 0/3750: Loss: 0.161701, Recon: 0.161701\n"
     ]
    },
    {
     "name": "stderr",
     "output_type": "stream",
     "text": [
      "Epoch 1/1:   3%|▎         | 102/3750 [00:08<05:18, 11.44it/s]"
     ]
    },
    {
     "name": "stdout",
     "output_type": "stream",
     "text": [
      "Batch 100/3750: Loss: 0.150019, Recon: 0.150019\n"
     ]
    },
    {
     "name": "stderr",
     "output_type": "stream",
     "text": [
      "Epoch 1/1:   5%|▌         | 203/3750 [00:16<03:10, 18.58it/s]"
     ]
    },
    {
     "name": "stdout",
     "output_type": "stream",
     "text": [
      "Batch 200/3750: Loss: 0.173555, Recon: 0.173555\n"
     ]
    },
    {
     "name": "stderr",
     "output_type": "stream",
     "text": [
      "Epoch 1/1:   8%|▊         | 304/3750 [00:21<02:48, 20.51it/s]"
     ]
    },
    {
     "name": "stdout",
     "output_type": "stream",
     "text": [
      "Batch 300/3750: Loss: 0.176901, Recon: 0.176901\n"
     ]
    },
    {
     "name": "stderr",
     "output_type": "stream",
     "text": [
      "Epoch 1/1:  11%|█         | 403/3750 [00:26<02:39, 21.03it/s]"
     ]
    },
    {
     "name": "stdout",
     "output_type": "stream",
     "text": [
      "Batch 400/3750: Loss: 0.158308, Recon: 0.158308\n"
     ]
    },
    {
     "name": "stderr",
     "output_type": "stream",
     "text": [
      "Epoch 1/1:  13%|█▎        | 505/3750 [00:31<02:34, 20.96it/s]"
     ]
    },
    {
     "name": "stdout",
     "output_type": "stream",
     "text": [
      "Batch 500/3750: Loss: 0.157883, Recon: 0.157883\n"
     ]
    },
    {
     "name": "stderr",
     "output_type": "stream",
     "text": [
      "Epoch 1/1:  16%|█▌        | 604/3750 [00:35<02:37, 20.02it/s]"
     ]
    },
    {
     "name": "stdout",
     "output_type": "stream",
     "text": [
      "Batch 600/3750: Loss: 0.156225, Recon: 0.156225\n"
     ]
    },
    {
     "name": "stderr",
     "output_type": "stream",
     "text": [
      "Epoch 1/1:  19%|█▊        | 702/3750 [00:40<02:30, 20.24it/s]"
     ]
    },
    {
     "name": "stdout",
     "output_type": "stream",
     "text": [
      "Batch 700/3750: Loss: 0.160167, Recon: 0.160167\n"
     ]
    },
    {
     "name": "stderr",
     "output_type": "stream",
     "text": [
      "Epoch 1/1:  21%|██▏       | 805/3750 [00:45<02:36, 18.79it/s]"
     ]
    },
    {
     "name": "stdout",
     "output_type": "stream",
     "text": [
      "Batch 800/3750: Loss: 0.153816, Recon: 0.153816\n"
     ]
    },
    {
     "name": "stderr",
     "output_type": "stream",
     "text": [
      "Epoch 1/1:  24%|██▍       | 904/3750 [00:52<02:57, 16.00it/s]"
     ]
    },
    {
     "name": "stdout",
     "output_type": "stream",
     "text": [
      "Batch 900/3750: Loss: 0.168452, Recon: 0.168452\n"
     ]
    },
    {
     "name": "stderr",
     "output_type": "stream",
     "text": [
      "Epoch 1/1:  27%|██▋       | 1003/3750 [00:57<02:09, 21.25it/s]"
     ]
    },
    {
     "name": "stdout",
     "output_type": "stream",
     "text": [
      "Batch 1000/3750: Loss: 0.163996, Recon: 0.163996\n"
     ]
    },
    {
     "name": "stderr",
     "output_type": "stream",
     "text": [
      "Epoch 1/1:  29%|██▉       | 1104/3750 [01:03<02:35, 16.98it/s]"
     ]
    },
    {
     "name": "stdout",
     "output_type": "stream",
     "text": [
      "Batch 1100/3750: Loss: 0.169841, Recon: 0.169841\n"
     ]
    },
    {
     "name": "stderr",
     "output_type": "stream",
     "text": [
      "Epoch 1/1:  32%|███▏      | 1203/3750 [01:09<02:26, 17.34it/s]"
     ]
    },
    {
     "name": "stdout",
     "output_type": "stream",
     "text": [
      "Batch 1200/3750: Loss: 0.161970, Recon: 0.161970\n"
     ]
    },
    {
     "name": "stderr",
     "output_type": "stream",
     "text": [
      "Epoch 1/1:  35%|███▍      | 1303/3750 [01:14<02:17, 17.79it/s]"
     ]
    },
    {
     "name": "stdout",
     "output_type": "stream",
     "text": [
      "Batch 1300/3750: Loss: 0.165253, Recon: 0.165253\n"
     ]
    },
    {
     "name": "stderr",
     "output_type": "stream",
     "text": [
      "Epoch 1/1:  37%|███▋      | 1405/3750 [01:19<01:49, 21.44it/s]"
     ]
    },
    {
     "name": "stdout",
     "output_type": "stream",
     "text": [
      "Batch 1400/3750: Loss: 0.171792, Recon: 0.171792\n"
     ]
    },
    {
     "name": "stderr",
     "output_type": "stream",
     "text": [
      "Epoch 1/1:  40%|████      | 1504/3750 [01:24<01:47, 20.83it/s]"
     ]
    },
    {
     "name": "stdout",
     "output_type": "stream",
     "text": [
      "Batch 1500/3750: Loss: 0.156772, Recon: 0.156772\n"
     ]
    },
    {
     "name": "stderr",
     "output_type": "stream",
     "text": [
      "Epoch 1/1:  43%|████▎     | 1604/3750 [01:29<01:48, 19.86it/s]"
     ]
    },
    {
     "name": "stdout",
     "output_type": "stream",
     "text": [
      "Batch 1600/3750: Loss: 0.151292, Recon: 0.151292\n"
     ]
    },
    {
     "name": "stderr",
     "output_type": "stream",
     "text": [
      "Epoch 1/1:  45%|████▌     | 1703/3750 [01:35<01:49, 18.73it/s]"
     ]
    },
    {
     "name": "stdout",
     "output_type": "stream",
     "text": [
      "Batch 1700/3750: Loss: 0.166345, Recon: 0.166345\n"
     ]
    },
    {
     "name": "stderr",
     "output_type": "stream",
     "text": [
      "Epoch 1/1:  48%|████▊     | 1805/3750 [01:40<01:35, 20.36it/s]"
     ]
    },
    {
     "name": "stdout",
     "output_type": "stream",
     "text": [
      "Batch 1800/3750: Loss: 0.166865, Recon: 0.166865\n"
     ]
    },
    {
     "name": "stderr",
     "output_type": "stream",
     "text": [
      "Epoch 1/1:  51%|█████     | 1903/3750 [01:44<01:28, 20.96it/s]"
     ]
    },
    {
     "name": "stdout",
     "output_type": "stream",
     "text": [
      "Batch 1900/3750: Loss: 0.174835, Recon: 0.174835\n"
     ]
    },
    {
     "name": "stderr",
     "output_type": "stream",
     "text": [
      "Epoch 1/1:  53%|█████▎    | 2004/3750 [01:49<01:22, 21.27it/s]"
     ]
    },
    {
     "name": "stdout",
     "output_type": "stream",
     "text": [
      "Batch 2000/3750: Loss: 0.179913, Recon: 0.179913\n"
     ]
    },
    {
     "name": "stderr",
     "output_type": "stream",
     "text": [
      "Epoch 1/1:  56%|█████▌    | 2105/3750 [01:54<01:21, 20.19it/s]"
     ]
    },
    {
     "name": "stdout",
     "output_type": "stream",
     "text": [
      "Batch 2100/3750: Loss: 0.169694, Recon: 0.169694\n"
     ]
    },
    {
     "name": "stderr",
     "output_type": "stream",
     "text": [
      "Epoch 1/1:  59%|█████▉    | 2205/3750 [01:59<01:14, 20.68it/s]"
     ]
    },
    {
     "name": "stdout",
     "output_type": "stream",
     "text": [
      "Batch 2200/3750: Loss: 0.169520, Recon: 0.169520\n"
     ]
    },
    {
     "name": "stderr",
     "output_type": "stream",
     "text": [
      "Epoch 1/1:  61%|██████▏   | 2304/3750 [02:04<01:09, 20.88it/s]"
     ]
    },
    {
     "name": "stdout",
     "output_type": "stream",
     "text": [
      "Batch 2300/3750: Loss: 0.165718, Recon: 0.165718\n"
     ]
    },
    {
     "name": "stderr",
     "output_type": "stream",
     "text": [
      "Epoch 1/1:  64%|██████▍   | 2403/3750 [02:09<01:05, 20.70it/s]"
     ]
    },
    {
     "name": "stdout",
     "output_type": "stream",
     "text": [
      "Batch 2400/3750: Loss: 0.167273, Recon: 0.167273\n"
     ]
    },
    {
     "name": "stderr",
     "output_type": "stream",
     "text": [
      "Epoch 1/1:  67%|██████▋   | 2505/3750 [02:14<00:58, 21.23it/s]"
     ]
    },
    {
     "name": "stdout",
     "output_type": "stream",
     "text": [
      "Batch 2500/3750: Loss: 0.168533, Recon: 0.168533\n"
     ]
    },
    {
     "name": "stderr",
     "output_type": "stream",
     "text": [
      "Epoch 1/1:  69%|██████▉   | 2604/3750 [02:18<00:54, 21.13it/s]"
     ]
    },
    {
     "name": "stdout",
     "output_type": "stream",
     "text": [
      "Batch 2600/3750: Loss: 0.165044, Recon: 0.165044\n"
     ]
    },
    {
     "name": "stderr",
     "output_type": "stream",
     "text": [
      "Epoch 1/1:  72%|███████▏  | 2703/3750 [02:23<00:49, 21.35it/s]"
     ]
    },
    {
     "name": "stdout",
     "output_type": "stream",
     "text": [
      "Batch 2700/3750: Loss: 0.173134, Recon: 0.173134\n"
     ]
    },
    {
     "name": "stderr",
     "output_type": "stream",
     "text": [
      "Epoch 1/1:  75%|███████▍  | 2805/3750 [02:28<00:47, 20.07it/s]"
     ]
    },
    {
     "name": "stdout",
     "output_type": "stream",
     "text": [
      "Batch 2800/3750: Loss: 0.164641, Recon: 0.164641\n"
     ]
    },
    {
     "name": "stderr",
     "output_type": "stream",
     "text": [
      "Epoch 1/1:  77%|███████▋  | 2903/3750 [02:33<00:41, 20.26it/s]"
     ]
    },
    {
     "name": "stdout",
     "output_type": "stream",
     "text": [
      "Batch 2900/3750: Loss: 0.166172, Recon: 0.166172\n"
     ]
    },
    {
     "name": "stderr",
     "output_type": "stream",
     "text": [
      "Epoch 1/1:  80%|████████  | 3004/3750 [02:38<00:35, 21.21it/s]"
     ]
    },
    {
     "name": "stdout",
     "output_type": "stream",
     "text": [
      "Batch 3000/3750: Loss: 0.152275, Recon: 0.152275\n"
     ]
    },
    {
     "name": "stderr",
     "output_type": "stream",
     "text": [
      "Epoch 1/1:  83%|████████▎ | 3103/3750 [02:43<00:30, 21.01it/s]"
     ]
    },
    {
     "name": "stdout",
     "output_type": "stream",
     "text": [
      "Batch 3100/3750: Loss: 0.157655, Recon: 0.157655\n"
     ]
    },
    {
     "name": "stderr",
     "output_type": "stream",
     "text": [
      "Epoch 1/1:  85%|████████▌ | 3205/3750 [02:48<00:25, 21.20it/s]"
     ]
    },
    {
     "name": "stdout",
     "output_type": "stream",
     "text": [
      "Batch 3200/3750: Loss: 0.171302, Recon: 0.171302\n"
     ]
    },
    {
     "name": "stderr",
     "output_type": "stream",
     "text": [
      "Epoch 1/1:  88%|████████▊ | 3304/3750 [02:53<00:21, 20.71it/s]"
     ]
    },
    {
     "name": "stdout",
     "output_type": "stream",
     "text": [
      "Batch 3300/3750: Loss: 0.160283, Recon: 0.160283\n"
     ]
    },
    {
     "name": "stderr",
     "output_type": "stream",
     "text": [
      "Epoch 1/1:  91%|█████████ | 3404/3750 [02:57<00:17, 20.25it/s]"
     ]
    },
    {
     "name": "stdout",
     "output_type": "stream",
     "text": [
      "Batch 3400/3750: Loss: 0.173895, Recon: 0.173895\n"
     ]
    },
    {
     "name": "stderr",
     "output_type": "stream",
     "text": [
      "Epoch 1/1:  93%|█████████▎| 3505/3750 [03:03<00:12, 20.30it/s]"
     ]
    },
    {
     "name": "stdout",
     "output_type": "stream",
     "text": [
      "Batch 3500/3750: Loss: 0.167728, Recon: 0.167728\n"
     ]
    },
    {
     "name": "stderr",
     "output_type": "stream",
     "text": [
      "Epoch 1/1:  96%|█████████▌| 3603/3750 [03:09<00:07, 20.23it/s]"
     ]
    },
    {
     "name": "stdout",
     "output_type": "stream",
     "text": [
      "Batch 3600/3750: Loss: 0.170103, Recon: 0.170103\n"
     ]
    },
    {
     "name": "stderr",
     "output_type": "stream",
     "text": [
      "Epoch 1/1:  99%|█████████▉| 3704/3750 [03:15<00:02, 20.48it/s]"
     ]
    },
    {
     "name": "stdout",
     "output_type": "stream",
     "text": [
      "Batch 3700/3750: Loss: 0.167345, Recon: 0.167345\n"
     ]
    },
    {
     "name": "stderr",
     "output_type": "stream",
     "text": [
      "Epoch 1/1: 100%|██████████| 3750/3750 [03:17<00:00, 18.99it/s]\n"
     ]
    },
    {
     "name": "stdout",
     "output_type": "stream",
     "text": [
      "Epoch [1/1] Loss: 0.164933, Recon: 0.164933, \n",
      "Training complete!\n"
     ]
    },
    {
     "data": {
      "image/png": "[encoded data removed]",
      "text/plain": [
       "<Figure size 1600x600 with 24 Axes>"
      ]
     },
     "metadata": {},
     "output_type": "display_data"
    }
   ],
   "source": [
    "import torch\n",
    "import torch.nn as nn\n",
    "import torch.nn.functional as F\n",
    "import torchvision\n",
    "import torchvision.transforms as transforms\n",
    "import numpy as np\n",
    "import matplotlib.pyplot as plt\n",
    "from tqdm import tqdm\n",
    "\n",
    "torch.manual_seed(42)\n",
    "np.random.seed(42)\n",
    "\n",
    "transform = transforms.Compose([transforms.ToTensor()])\n",
    "train_set = torchvision.datasets.FashionMNIST(\"./data\", download=True, transform=transform)\n",
    "test_set = torchvision.datasets.FashionMNIST(\"./data\", download=True, train=False, transform=transform)\n",
    "\n",
    "batch_size = 16  \n",
    "train_loader = torch.utils.data.DataLoader(train_set, batch_size=batch_size, shuffle=True)\n",
    "test_loader = torch.utils.data.DataLoader(test_set, batch_size=batch_size, shuffle=False)\n",
    "\n",
    "class_names = ['T-shirt/top', 'Trouser', 'Pullover', 'Dress', 'Coat',\n",
    "               'Sandal', 'Shirt', 'Sneaker', 'Bag', 'Ankle Boot']\n",
    "\n",
    "def positional_encoding(coords, num_bands=8):\n",
    "    \"\"\"Apply positional encoding to coordinates with multiple frequency bands.\"\"\"\n",
    "    pos_enc = [coords]\n",
    "    for i in range(num_bands):\n",
    "        freq = 2.0 ** i\n",
    "        pos_enc.append(torch.sin(coords * freq * np.pi))\n",
    "        pos_enc.append(torch.cos(coords * freq * np.pi))\n",
    "    return torch.cat(pos_enc, dim=-1)\n",
    "\n",
    "def get_mgrid(sidelen, dim=2, num_bands=8):\n",
    "    '''Generates a flattened grid of (x,y,...) coordinates in a range of -1 to 1.'''\n",
    "    if isinstance(sidelen, int):\n",
    "        sidelen = dim * (sidelen,)\n",
    "    coords = [torch.linspace(-1, 1, s) for s in sidelen]\n",
    "    mesh_coords = torch.meshgrid(*coords, indexing='ij')  \n",
    "    coords = torch.stack(mesh_coords, dim=-1).reshape(-1, dim)\n",
    "    return positional_encoding(coords, num_bands)\n",
    "\n",
    "class SIREN(nn.Module):\n",
    "    def __init__(self, input_dim=2+2*2*8, hidden_dim=256, hidden_layers=3, output_dim=1, first_omega=1.0, hidden_omega=10.0):\n",
    "        super().__init__()\n",
    "        self.input_dim = input_dim\n",
    "        self.hidden_dim = hidden_dim\n",
    "        self.hidden_layers = hidden_layers\n",
    "        self.output_dim = output_dim\n",
    "        self.first_omega = first_omega\n",
    "        self.hidden_omega = hidden_omega\n",
    "\n",
    "        self.first_layer = nn.Linear(input_dim, hidden_dim)\n",
    "        with torch.no_grad():\n",
    "\n",
    "            self.first_layer.weight.uniform_(-1/input_dim, 1/input_dim)\n",
    "            self.first_layer.bias.uniform_(-1/input_dim, 1/input_dim)\n",
    "        \n",
    "        self.hidden_layers_list = nn.ModuleList()\n",
    "        for _ in range(hidden_layers):\n",
    "            layer = nn.Linear(hidden_dim, hidden_dim)\n",
    "            with torch.no_grad():\n",
    "\n",
    "                layer.weight.uniform_(-np.sqrt(6/hidden_dim)/hidden_omega, \n",
    "                                      np.sqrt(6/hidden_dim)/hidden_omega)\n",
    "                layer.bias.uniform_(-np.sqrt(6/hidden_dim)/hidden_omega, \n",
    "                                    np.sqrt(6/hidden_dim)/hidden_omega)\n",
    "            self.hidden_layers_list.append(layer)\n",
    "        \n",
    "        self.output_layer = nn.Linear(hidden_dim, output_dim)\n",
    "        with torch.no_grad():\n",
    "\n",
    "            self.output_layer.weight.uniform_(-np.sqrt(6/hidden_dim)/hidden_omega, \n",
    "                                              np.sqrt(6/hidden_dim)/hidden_omega)\n",
    "            self.output_layer.bias.uniform_(-1, 1)\n",
    "    \n",
    "    def forward(self, x):\n",
    "        x = torch.sin(self.first_omega * self.first_layer(x))\n",
    "        for layer in self.hidden_layers_list:\n",
    "            x = torch.sin(self.hidden_omega * layer(x))\n",
    "\n",
    "        return torch.sigmoid(self.output_layer(x))\n",
    "    \n",
    "    def set_weights_vector(self, weights_vector):\n",
    "        \"\"\"Set all weights from a flattened vector\"\"\"\n",
    "        start_idx = 0\n",
    "        \n",
    "\n",
    "        w_size = self.first_layer.weight.numel()\n",
    "        self.first_layer.weight.data = weights_vector[start_idx:start_idx+w_size].view(self.first_layer.weight.shape)\n",
    "        start_idx += w_size\n",
    "        \n",
    "        b_size = self.first_layer.bias.numel()\n",
    "        self.first_layer.bias.data = weights_vector[start_idx:start_idx+b_size].view(self.first_layer.bias.shape)\n",
    "        start_idx += b_size\n",
    "        \n",
    "\n",
    "        for layer in self.hidden_layers_list:\n",
    "            w_size = layer.weight.numel()\n",
    "            layer.weight.data = weights_vector[start_idx:start_idx+w_size].view(layer.weight.shape)\n",
    "            start_idx += w_size\n",
    "            \n",
    "            b_size = layer.bias.numel()\n",
    "            layer.bias.data = weights_vector[start_idx:start_idx+b_size].view(layer.bias.shape)\n",
    "            start_idx += b_size\n",
    "        \n",
    "\n",
    "        w_size = self.output_layer.weight.numel()\n",
    "        self.output_layer.weight.data = weights_vector[start_idx:start_idx+w_size].view(self.output_layer.weight.shape)\n",
    "        start_idx += w_size\n",
    "        \n",
    "        b_size = self.output_layer.bias.numel()\n",
    "        self.output_layer.bias.data = weights_vector[start_idx:start_idx+b_size].view(self.output_layer.bias.shape)\n",
    "    \n",
    "    @staticmethod\n",
    "    def calc_total_weights(input_dim, hidden_dim, hidden_layers, output_dim):\n",
    "        \"\"\"Calculate the total number of weights in the SIREN\"\"\"\n",
    "        total = input_dim * hidden_dim + hidden_dim\n",
    "        \n",
    "        total += hidden_layers * (hidden_dim * hidden_dim + hidden_dim)\n",
    "        \n",
    "        total += hidden_dim * output_dim + output_dim\n",
    "        \n",
    "        return total\n",
    "\n",
    "class VAE(nn.Module):\n",
    "    def __init__(self, z_dim=64, siren_config=None):\n",
    "        super().__init__()\n",
    "        self.z_dim = z_dim\n",
    "        \n",
    "        # Default SIREN config\n",
    "        self.siren_config = {\n",
    "            'input_dim': 2 + 2*2*8,  \n",
    "            'hidden_dim': 128,       \n",
    "            'hidden_layers': 3,       \n",
    "            'output_dim': 1\n",
    "        }\n",
    "        \n",
    "        # Update config if provided\n",
    "        if siren_config is not None:\n",
    "            self.siren_config.update(siren_config)\n",
    "        \n",
    "        self.encoder = nn.Sequential(\n",
    "            nn.Conv2d(1, 32, 4, stride=2, padding=1),             # 28x28 -> 14x14\n",
    "            nn.LeakyReLU(0.2, inplace=True),\n",
    "            nn.Conv2d(32, 64, 4, stride=2, padding=1),            # 14x14 -> 7x7\n",
    "            nn.LeakyReLU(0.2, inplace=True),\n",
    "            nn.Conv2d(64, 128, 3, stride=1, padding=1),           # 7x7 -> 7x7\n",
    "            nn.LeakyReLU(0.2, inplace=True),\n",
    "            nn.Flatten(),\n",
    "            nn.Linear(128 * 7 * 7, 512),\n",
    "            nn.LeakyReLU(0.2, inplace=True)\n",
    "        )\n",
    "        \n",
    "\n",
    "        self.fc_mu = nn.Linear(512, z_dim)\n",
    "        self.fc_logvar = nn.Linear(512, z_dim)\n",
    "        \n",
    "\n",
    "        total_weights = SIREN.calc_total_weights(\n",
    "            input_dim=self.siren_config['input_dim'],\n",
    "            hidden_dim=self.siren_config['hidden_dim'],\n",
    "            hidden_layers=self.siren_config['hidden_layers'],\n",
    "            output_dim=self.siren_config['output_dim']\n",
    "        )\n",
    "        \n",
    "\n",
    "        self.decoder = nn.Sequential(\n",
    "            nn.Linear(z_dim, 512),\n",
    "            nn.LeakyReLU(0.2, inplace=True),\n",
    "            nn.Linear(512, 1024),\n",
    "            nn.LeakyReLU(0.2, inplace=True),\n",
    "            nn.Linear(1024, total_weights) \n",
    "        )\n",
    "    \n",
    "    def encode(self, x):\n",
    "        h = self.encoder(x)\n",
    "        return self.fc_mu(h), self.fc_logvar(h)\n",
    "    \n",
    "    def reparameterize(self, mu, logvar):\n",
    "        logvar = torch.clamp(logvar, -4, 4)\n",
    "        std = torch.exp(0.5 * logvar)\n",
    "        eps = torch.randn_like(std)\n",
    "        return mu + eps * std\n",
    "    \n",
    "    # Modify your VAE's decode method\n",
    "    def decode(self, z):\n",
    "        raw_weights = self.decoder(z)\n",
    "        \n",
    "        # Split and scale weights for different SIREN layers\n",
    "        weights_list = []\n",
    "        start_idx = 0\n",
    "        \n",
    "        # First layer weights - needs uniform(-1/in_dim, 1/in_dim)\n",
    "        in_dim = self.siren_config['input_dim']\n",
    "        first_w_size = in_dim * self.siren_config['hidden_dim']\n",
    "        first_b_size = self.siren_config['hidden_dim']\n",
    "        \n",
    "        first_w = raw_weights[:, start_idx:start_idx+first_w_size].view(-1, self.siren_config['hidden_dim'], in_dim)\n",
    "        start_idx += first_w_size\n",
    "        first_w = torch.tanh(first_w) * (1.0/in_dim)  # Scale to proper range\n",
    "        weights_list.append(first_w.reshape(-1, first_w_size))\n",
    "        \n",
    "        first_b = raw_weights[:, start_idx:start_idx+first_b_size]\n",
    "        start_idx += first_b_size\n",
    "        first_b = torch.tanh(first_b) * (1.0/in_dim)  # Scale to proper range\n",
    "        weights_list.append(first_b)\n",
    "        \n",
    "        # Hidden layers - needs scaled by sqrt(6/hidden_dim)/omega\n",
    "        hidden_dim = self.siren_config['hidden_dim']\n",
    "        hidden_omega = 30.0\n",
    "        scale_factor = np.sqrt(6/hidden_dim)/hidden_omega\n",
    "        \n",
    "        for _ in range(self.siren_config['hidden_layers']):\n",
    "            hidden_w_size = hidden_dim * hidden_dim\n",
    "            hidden_w = raw_weights[:, start_idx:start_idx+hidden_w_size].view(-1, hidden_dim, hidden_dim)\n",
    "            start_idx += hidden_w_size\n",
    "            hidden_w = torch.tanh(hidden_w) * scale_factor\n",
    "            weights_list.append(hidden_w.reshape(-1, hidden_w_size))\n",
    "            \n",
    "            hidden_b_size = hidden_dim\n",
    "            hidden_b = raw_weights[:, start_idx:start_idx+hidden_b_size]\n",
    "            start_idx += hidden_b_size\n",
    "            hidden_b = torch.tanh(hidden_b) * scale_factor\n",
    "            weights_list.append(hidden_b)\n",
    "        \n",
    "        # Output layer\n",
    "        out_dim = self.siren_config['output_dim']\n",
    "        out_w_size = hidden_dim * out_dim\n",
    "        out_w = raw_weights[:, start_idx:start_idx+out_w_size].view(-1, out_dim, hidden_dim)\n",
    "        start_idx += out_w_size\n",
    "        out_w = torch.tanh(out_w) * scale_factor\n",
    "        weights_list.append(out_w.reshape(-1, out_w_size))\n",
    "        \n",
    "        out_b_size = out_dim\n",
    "        out_b = raw_weights[:, start_idx:start_idx+out_b_size]\n",
    "        out_b = torch.tanh(out_b)  # Range (-1, 1) is fine for output bias\n",
    "        weights_list.append(out_b)\n",
    "        \n",
    "        # Concatenate all scaled weights\n",
    "        return torch.cat(weights_list, dim=1)\n",
    "    \n",
    "    def forward(self, x):\n",
    "        mu, logvar = self.encode(x)\n",
    "        z = self.reparameterize(mu, logvar)\n",
    "        return self.decode(z), mu, logvar\n",
    "\n",
    "\n",
    "def train(num_epochs=10, save_interval=1):\n",
    "    device = torch.device('cuda' if torch.cuda.is_available() else 'cpu')\n",
    "    print(f\"Using device: {device}\")\n",
    "    \n",
    "\n",
    "    num_bands = 8\n",
    "    siren_config = {\n",
    "        'input_dim': 2 + 2*2*num_bands,\n",
    "        'hidden_dim': 128, \n",
    "        'hidden_layers': 3, \n",
    "        'output_dim': 1,\n",
    "    }\n",
    "    \n",
    "\n",
    "    vae = VAE(z_dim=64, siren_config=siren_config).to(device) \n",
    "    siren = SIREN(\n",
    "        input_dim=siren_config['input_dim'],\n",
    "        hidden_dim=siren_config['hidden_dim'],\n",
    "        hidden_layers=siren_config['hidden_layers'],\n",
    "        output_dim=siren_config['output_dim']\n",
    "    ).to(device)\n",
    "    \n",
    "    optimizer = torch.optim.Adam(vae.parameters(), lr=0.0005)\n",
    "    \n",
    "    coords = get_mgrid(28, num_bands=num_bands).to(device)\n",
    "\n",
    "    with torch.no_grad():\n",
    "        print(\"Coordinate shape:\", coords.shape)\n",
    "        print(\"Coordinate min/max:\", coords[:, 0].min().item(), coords[:, 0].max().item())\n",
    "        print(\"Encoded coordinate shape:\", coords.shape)\n",
    "        \n",
    "        # Visualize the coordinate grid to make sure it's correct\n",
    "        coord_grid = coords[:, :2].reshape(28, 28, 2)\n",
    "        plt.figure(figsize=(10, 5))\n",
    "        plt.subplot(1, 2, 1)\n",
    "        plt.imshow(coord_grid[:, :, 0].cpu())\n",
    "        plt.title(\"X coordinates\")\n",
    "        plt.subplot(1, 2, 2)\n",
    "        plt.imshow(coord_grid[:, :, 1].cpu())\n",
    "        plt.title(\"Y coordinates\")\n",
    "        plt.savefig(\"coordinate_grid.png\")\n",
    "        plt.close()\n",
    "    \n",
    "    example_data = next(iter(test_loader))\n",
    "    example_images = example_data[0][:8].to(device)\n",
    "    \n",
    "    best_loss = float('inf')\n",
    "    patience = 5\n",
    "    patience_counter = 0\n",
    "    \n",
    "    for epoch in range(num_epochs):\n",
    "        vae.train()\n",
    "        total_loss = 0\n",
    "        total_recon_loss = 0\n",
    "        total_kl_loss = 0\n",
    "        \n",
    "        for batch_idx, (images, _) in enumerate(tqdm(train_loader, desc=f\"Epoch {epoch+1}/{num_epochs}\")):\n",
    "            images = images.to(device)\n",
    "            batch_size = images.size(0)\n",
    "            \n",
    "            optimizer.zero_grad()\n",
    "            \n",
    "            siren_weights_batch, mu, logvar = vae(images)\n",
    "            \n",
    "            reconstruction_loss = 0\n",
    "            \n",
    "            reconstructed_images = []\n",
    "            for j in range(batch_size):\n",
    "                siren.set_weights_vector(siren_weights_batch[j])\n",
    "                \n",
    "                reconstructed_image = siren(coords).reshape(1, 1, 28, 28)\n",
    "                reconstructed_images.append(reconstructed_image)\n",
    "            \n",
    "            reconstructed_batch = torch.cat(reconstructed_images, dim=0)\n",
    "            \n",
    "            reconstruction_loss = F.mse_loss(reconstructed_batch, images)\n",
    "            \n",
    "            loss = reconstruction_loss\n",
    "            \n",
    "            loss.backward()\n",
    "            torch.nn.utils.clip_grad_norm_(vae.parameters(), max_norm=1.0)\n",
    "            \n",
    "\n",
    "            optimizer.step()\n",
    "            \n",
    "            total_loss += loss.item()\n",
    "            total_recon_loss += reconstruction_loss.item()\n",
    "            \n",
    "\n",
    "            if batch_idx % 100 == 0:\n",
    "                print(f\"Batch {batch_idx}/{len(train_loader)}: \"\n",
    "                      f\"Loss: {loss.item():.6f}, \"\n",
    "                      f\"Recon: {reconstruction_loss.item():.6f}\")\n",
    "        \n",
    "\n",
    "        avg_loss = total_loss / len(train_loader)\n",
    "        avg_recon = total_recon_loss / len(train_loader)\n",
    "        print(f\"Epoch [{epoch+1}/{num_epochs}] \"\n",
    "              f\"Loss: {avg_loss:.6f}, \"\n",
    "              f\"Recon: {avg_recon:.6f}, \")\n",
    "        \n",
    "\n",
    "        if avg_loss < best_loss:\n",
    "            best_loss = avg_loss\n",
    "            patience_counter = 0\n",
    "\n",
    "            torch.save({\n",
    "                'vae_state_dict': vae.state_dict(),\n",
    "                'siren_config': siren_config,\n",
    "                'epoch': epoch,\n",
    "                'loss': avg_loss\n",
    "            }, 'best_vae_siren_model.pt')\n",
    "        else:\n",
    "            patience_counter += 1\n",
    "            if patience_counter >= patience:\n",
    "                print(f\"Early stopping at epoch {epoch+1}\")\n",
    "                break\n",
    "        \n",
    "        if epoch % save_interval == 0:\n",
    "            with torch.no_grad():\n",
    "                vae.eval()\n",
    "                \n",
    "\n",
    "                test_recon_images = []\n",
    "                for i in range(example_images.size(0)):\n",
    "                    # Encode and decode\n",
    "                    mu, logvar = vae.encode(example_images[i:i+1])\n",
    "                    z = vae.reparameterize(mu, logvar)\n",
    "                    siren_weights = vae.decode(z)\n",
    "                    \n",
    "                    # Set weights and get reconstruction\n",
    "                    siren.set_weights_vector(siren_weights.squeeze(0))\n",
    "                    recon_image = siren(coords).reshape(1, 28, 28)\n",
    "                    test_recon_images.append(recon_image)\n",
    "                \n",
    "                # Stack the images\n",
    "                test_recon_images = torch.cat(test_recon_images, dim=0)\n",
    "                \n",
    "                # Generate random samples\n",
    "                z = torch.randn(8, vae.z_dim, device=device)\n",
    "                generated_images = []\n",
    "                for i in range(z.size(0)):\n",
    "                    siren_weights = vae.decode(z[i:i+1])\n",
    "                    siren.set_weights_vector(siren_weights.squeeze(0))\n",
    "                    gen_image = siren(coords).reshape(1, 28, 28)\n",
    "                    generated_images.append(gen_image)\n",
    "                \n",
    "\n",
    "                generated_images = torch.cat(generated_images, dim=0)\n",
    "                \n",
    "\n",
    "                plt.figure(figsize=(12, 8))\n",
    "                \n",
    "\n",
    "                for i in range(8):\n",
    "                    plt.subplot(3, 8, i + 1)\n",
    "                    plt.imshow(example_images[i].cpu().squeeze(), cmap='gray')\n",
    "                    plt.axis('off')\n",
    "                    plt.title(\"Original\")\n",
    "                \n",
    "                for i in range(8):\n",
    "                    plt.subplot(3, 8, i + 9)\n",
    "                    plt.imshow(test_recon_images[i].cpu().squeeze(), cmap='gray')\n",
    "                    plt.axis('off')\n",
    "                    plt.title(\"Reconstructed\")\n",
    "                \n",
    "                # Plot generated images\n",
    "                for i in range(8):\n",
    "                    plt.subplot(3, 8, i + 17)\n",
    "                    plt.imshow(generated_images[i].cpu().squeeze(), cmap='gray')\n",
    "                    plt.axis('off')\n",
    "                    plt.title(\"Generated\")\n",
    "                \n",
    "                plt.suptitle(f\"Epoch {epoch+1}\")\n",
    "                plt.tight_layout()\n",
    "                plt.savefig(f\"vae_siren_epoch_{epoch+1}.png\")\n",
    "                plt.close()\n",
    "    \n",
    "    print(\"Training complete!\")\n",
    "    return vae, siren\n",
    "\n",
    "def evaluate_model(model_path='best_vae_siren_model.pt'):\n",
    "    # Load model\n",
    "    checkpoint = torch.load(model_path)\n",
    "    siren_config = checkpoint['siren_config']\n",
    "    \n",
    "    device = torch.device('cuda' if torch.cuda.is_available() else 'cpu')\n",
    "    \n",
    "    vae = VAE(z_dim=64, siren_config=siren_config).to(device)\n",
    "    vae.load_state_dict(checkpoint['vae_state_dict'])\n",
    "    \n",
    "    siren = SIREN(\n",
    "        input_dim=siren_config['input_dim'],\n",
    "        hidden_dim=siren_config['hidden_dim'],\n",
    "        hidden_layers=siren_config['hidden_layers'],\n",
    "        output_dim=siren_config['output_dim']\n",
    "    ).to(device)\n",
    "    \n",
    "    coords = get_mgrid(28, num_bands=8).to(device)\n",
    "    \n",
    "    example_data = next(iter(test_loader))\n",
    "    test_images = example_data[0][:8].to(device)\n",
    "    test_labels = example_data[1][:8]\n",
    "    \n",
    "    vae.eval()\n",
    "    with torch.no_grad():\n",
    "        reconstructed_images = []\n",
    "        for i in range(test_images.size(0)):\n",
    "            mu, logvar = vae.encode(test_images[i:i+1])\n",
    "            z = vae.reparameterize(mu, logvar)\n",
    "            siren_weights = vae.decode(z)\n",
    "            \n",
    "            siren.set_weights_vector(siren_weights.squeeze(0))\n",
    "            recon_image = siren(coords).reshape(1, 28, 28)\n",
    "            reconstructed_images.append(recon_image)\n",
    "        \n",
    "        reconstructed_images = torch.cat(reconstructed_images, dim=0)\n",
    "        \n",
    "        z = torch.randn(8, vae.z_dim, device=device)\n",
    "        generated_images = []\n",
    "        for i in range(z.size(0)):\n",
    "            siren_weights = vae.decode(z[i:i+1])\n",
    "            siren.set_weights_vector(siren_weights.squeeze(0))\n",
    "            gen_image = siren(coords).reshape(1, 28, 28)\n",
    "            generated_images.append(gen_image)\n",
    "        \n",
    "        generated_images = torch.cat(generated_images, dim=0)\n",
    "    \n",
    "    fig, axs = plt.subplots(3, 8, figsize=(16, 6))\n",
    "    \n",
    "    for i in range(8):\n",
    "        # Original\n",
    "        axs[0, i].imshow(test_images[i].cpu().squeeze(), cmap='gray')\n",
    "        axs[0, i].set_title(f\"{class_names[test_labels[i]]}\")\n",
    "        axs[0, i].axis('off')\n",
    "        \n",
    "        # Reconstructed\n",
    "        axs[1, i].imshow(reconstructed_images[i].cpu().squeeze(), cmap='gray')\n",
    "        axs[1, i].set_title(\"Reconstructed\")\n",
    "        axs[1, i].axis('off')\n",
    "        \n",
    "        # Generated\n",
    "        axs[2, i].imshow(generated_images[i].cpu().squeeze(), cmap='gray')\n",
    "        axs[2, i].set_title(\"Generated\")\n",
    "        axs[2, i].axis('off')\n",
    "    \n",
    "    plt.tight_layout()\n",
    "    plt.savefig(\"evaluation_results.png\")\n",
    "    plt.show()\n",
    "    \n",
    "    return vae, siren\n",
    "\n",
    "if __name__ == \"__main__\":\n",
    "    vae, siren = train(num_epochs=1, save_interval=1)\n",
    "    evaluate_model()"
   ]
  },
  {
   "cell_type": "code",
   "execution_count": 20,
   "metadata": {},
   "outputs": [
    {
     "name": "stdout",
     "output_type": "stream",
     "text": [
      "Using device: cpu\n",
      "Step 1: Fitting SIRENs to images...\n",
      "Using device: cpu\n",
      "Total SIREN weights: 54145\n",
      "Fitting first SIREN...\n",
      "Epoch 100/1000, Loss: 0.042416\n",
      "Epoch 200/1000, Loss: 0.019771\n",
      "Epoch 300/1000, Loss: 0.009299\n",
      "Epoch 400/1000, Loss: 0.005159\n",
      "Epoch 500/1000, Loss: 0.003239\n",
      "Epoch 600/1000, Loss: 0.001936\n",
      "Epoch 700/1000, Loss: 0.001197\n",
      "Epoch 800/1000, Loss: 0.000819\n",
      "Epoch 900/1000, Loss: 0.000599\n",
      "Epoch 1000/1000, Loss: 0.000459\n"
     ]
    },
    {
     "name": "stderr",
     "output_type": "stream",
     "text": [
      "Fitting SIRENs: 100%|██████████| 100/100 [01:43<00:00,  1.04s/it]"
     ]
    },
    {
     "name": "stdout",
     "output_type": "stream",
     "text": [
      "Collected weights for 100 SIRENs, shape: torch.Size([100, 54145])\n",
      "Visualizing some fitted SIRENs...\n"
     ]
    },
    {
     "name": "stderr",
     "output_type": "stream",
     "text": [
      "\n"
     ]
    },
    {
     "data": {
      "image/png": "[encoded data removed]",
      "text/plain": [
       "<Figure size 1500x300 with 5 Axes>"
      ]
     },
     "metadata": {},
     "output_type": "display_data"
    },
    {
     "name": "stdout",
     "output_type": "stream",
     "text": [
      "Step 2: Training diffusion model on SIREN weights...\n"
     ]
    },
    {
     "name": "stderr",
     "output_type": "stream",
     "text": [
      "Epoch 1/100: 100%|██████████| 1/1 [00:00<00:00,  2.02it/s]\n"
     ]
    },
    {
     "name": "stdout",
     "output_type": "stream",
     "text": [
      "Batch 0/1: Loss: 0.333628\n"
     ]
    },
    {
     "name": "stderr",
     "output_type": "stream",
     "text": [
      "Epoch 2/100: 100%|██████████| 1/1 [00:00<00:00,  4.05it/s]\n"
     ]
    },
    {
     "name": "stdout",
     "output_type": "stream",
     "text": [
      "Batch 0/1: Loss: 0.302307\n"
     ]
    },
    {
     "name": "stderr",
     "output_type": "stream",
     "text": [
      "Epoch 3/100: 100%|██████████| 1/1 [00:00<00:00,  4.70it/s]\n"
     ]
    },
    {
     "name": "stdout",
     "output_type": "stream",
     "text": [
      "Batch 0/1: Loss: 0.271315\n"
     ]
    },
    {
     "name": "stderr",
     "output_type": "stream",
     "text": [
      "Epoch 4/100: 100%|██████████| 1/1 [00:00<00:00,  4.37it/s]\n"
     ]
    },
    {
     "name": "stdout",
     "output_type": "stream",
     "text": [
      "Batch 0/1: Loss: 0.240441\n"
     ]
    },
    {
     "name": "stderr",
     "output_type": "stream",
     "text": [
      "Epoch 5/100: 100%|██████████| 1/1 [00:00<00:00,  4.73it/s]\n"
     ]
    },
    {
     "name": "stdout",
     "output_type": "stream",
     "text": [
      "Batch 0/1: Loss: 0.211930\n"
     ]
    },
    {
     "name": "stderr",
     "output_type": "stream",
     "text": [
      "Epoch 6/100: 100%|██████████| 1/1 [00:00<00:00,  4.57it/s]\n"
     ]
    },
    {
     "name": "stdout",
     "output_type": "stream",
     "text": [
      "Batch 0/1: Loss: 0.186598\n"
     ]
    },
    {
     "name": "stderr",
     "output_type": "stream",
     "text": [
      "Epoch 7/100: 100%|██████████| 1/1 [00:00<00:00,  4.62it/s]\n"
     ]
    },
    {
     "name": "stdout",
     "output_type": "stream",
     "text": [
      "Batch 0/1: Loss: 0.162950\n"
     ]
    },
    {
     "name": "stderr",
     "output_type": "stream",
     "text": [
      "Epoch 8/100: 100%|██████████| 1/1 [00:00<00:00,  4.50it/s]\n"
     ]
    },
    {
     "name": "stdout",
     "output_type": "stream",
     "text": [
      "Batch 0/1: Loss: 0.142061\n"
     ]
    },
    {
     "name": "stderr",
     "output_type": "stream",
     "text": [
      "Epoch 9/100: 100%|██████████| 1/1 [00:00<00:00,  4.07it/s]\n"
     ]
    },
    {
     "name": "stdout",
     "output_type": "stream",
     "text": [
      "Batch 0/1: Loss: 0.123057\n"
     ]
    },
    {
     "name": "stderr",
     "output_type": "stream",
     "text": [
      "Epoch 10/100: 100%|██████████| 1/1 [00:00<00:00,  4.82it/s]\n"
     ]
    },
    {
     "name": "stdout",
     "output_type": "stream",
     "text": [
      "Batch 0/1: Loss: 0.106438\n"
     ]
    },
    {
     "name": "stderr",
     "output_type": "stream",
     "text": [
      "Epoch 11/100: 100%|██████████| 1/1 [00:00<00:00,  4.79it/s]\n"
     ]
    },
    {
     "name": "stdout",
     "output_type": "stream",
     "text": [
      "Batch 0/1: Loss: 0.092278\n"
     ]
    },
    {
     "name": "stderr",
     "output_type": "stream",
     "text": [
      "Epoch 12/100: 100%|██████████| 1/1 [00:00<00:00,  4.71it/s]\n"
     ]
    },
    {
     "name": "stdout",
     "output_type": "stream",
     "text": [
      "Batch 0/1: Loss: 0.080170\n"
     ]
    },
    {
     "name": "stderr",
     "output_type": "stream",
     "text": [
      "Epoch 13/100: 100%|██████████| 1/1 [00:00<00:00,  4.70it/s]\n"
     ]
    },
    {
     "name": "stdout",
     "output_type": "stream",
     "text": [
      "Batch 0/1: Loss: 0.070617\n"
     ]
    },
    {
     "name": "stderr",
     "output_type": "stream",
     "text": [
      "Epoch 14/100: 100%|██████████| 1/1 [00:00<00:00,  4.87it/s]\n"
     ]
    },
    {
     "name": "stdout",
     "output_type": "stream",
     "text": [
      "Batch 0/1: Loss: 0.061648\n"
     ]
    },
    {
     "name": "stderr",
     "output_type": "stream",
     "text": [
      "Epoch 15/100: 100%|██████████| 1/1 [00:00<00:00,  4.75it/s]\n"
     ]
    },
    {
     "name": "stdout",
     "output_type": "stream",
     "text": [
      "Batch 0/1: Loss: 0.053893\n"
     ]
    },
    {
     "name": "stderr",
     "output_type": "stream",
     "text": [
      "Epoch 16/100: 100%|██████████| 1/1 [00:00<00:00,  4.68it/s]\n"
     ]
    },
    {
     "name": "stdout",
     "output_type": "stream",
     "text": [
      "Batch 0/1: Loss: 0.047373\n"
     ]
    },
    {
     "name": "stderr",
     "output_type": "stream",
     "text": [
      "Epoch 17/100: 100%|██████████| 1/1 [00:00<00:00,  4.79it/s]\n"
     ]
    },
    {
     "name": "stdout",
     "output_type": "stream",
     "text": [
      "Batch 0/1: Loss: 0.042154\n"
     ]
    },
    {
     "name": "stderr",
     "output_type": "stream",
     "text": [
      "Epoch 18/100: 100%|██████████| 1/1 [00:00<00:00,  4.56it/s]\n"
     ]
    },
    {
     "name": "stdout",
     "output_type": "stream",
     "text": [
      "Batch 0/1: Loss: 0.038044\n"
     ]
    },
    {
     "name": "stderr",
     "output_type": "stream",
     "text": [
      "Epoch 19/100: 100%|██████████| 1/1 [00:00<00:00,  4.64it/s]\n"
     ]
    },
    {
     "name": "stdout",
     "output_type": "stream",
     "text": [
      "Batch 0/1: Loss: 0.034202\n"
     ]
    },
    {
     "name": "stderr",
     "output_type": "stream",
     "text": [
      "Epoch 20/100: 100%|██████████| 1/1 [00:00<00:00,  4.23it/s]\n"
     ]
    },
    {
     "name": "stdout",
     "output_type": "stream",
     "text": [
      "Batch 0/1: Loss: 0.030850\n"
     ]
    },
    {
     "name": "stderr",
     "output_type": "stream",
     "text": [
      "Epoch 21/100: 100%|██████████| 1/1 [00:00<00:00,  4.76it/s]\n"
     ]
    },
    {
     "name": "stdout",
     "output_type": "stream",
     "text": [
      "Batch 0/1: Loss: 0.029233\n"
     ]
    },
    {
     "name": "stderr",
     "output_type": "stream",
     "text": [
      "Epoch 22/100: 100%|██████████| 1/1 [00:00<00:00,  4.65it/s]\n"
     ]
    },
    {
     "name": "stdout",
     "output_type": "stream",
     "text": [
      "Batch 0/1: Loss: 0.026568\n"
     ]
    },
    {
     "name": "stderr",
     "output_type": "stream",
     "text": [
      "Epoch 23/100: 100%|██████████| 1/1 [00:00<00:00,  4.67it/s]\n"
     ]
    },
    {
     "name": "stdout",
     "output_type": "stream",
     "text": [
      "Batch 0/1: Loss: 0.024948\n"
     ]
    },
    {
     "name": "stderr",
     "output_type": "stream",
     "text": [
      "Epoch 24/100: 100%|██████████| 1/1 [00:00<00:00,  4.53it/s]\n"
     ]
    },
    {
     "name": "stdout",
     "output_type": "stream",
     "text": [
      "Batch 0/1: Loss: 0.023412\n"
     ]
    },
    {
     "name": "stderr",
     "output_type": "stream",
     "text": [
      "Epoch 25/100: 100%|██████████| 1/1 [00:00<00:00,  4.75it/s]\n"
     ]
    },
    {
     "name": "stdout",
     "output_type": "stream",
     "text": [
      "Batch 0/1: Loss: 0.021947\n"
     ]
    },
    {
     "name": "stderr",
     "output_type": "stream",
     "text": [
      "Epoch 26/100: 100%|██████████| 1/1 [00:00<00:00,  4.72it/s]\n"
     ]
    },
    {
     "name": "stdout",
     "output_type": "stream",
     "text": [
      "Batch 0/1: Loss: 0.020572\n"
     ]
    },
    {
     "name": "stderr",
     "output_type": "stream",
     "text": [
      "Epoch 27/100: 100%|██████████| 1/1 [00:00<00:00,  4.65it/s]\n"
     ]
    },
    {
     "name": "stdout",
     "output_type": "stream",
     "text": [
      "Batch 0/1: Loss: 0.019387\n"
     ]
    },
    {
     "name": "stderr",
     "output_type": "stream",
     "text": [
      "Epoch 28/100: 100%|██████████| 1/1 [00:00<00:00,  4.60it/s]\n"
     ]
    },
    {
     "name": "stdout",
     "output_type": "stream",
     "text": [
      "Batch 0/1: Loss: 0.018756\n"
     ]
    },
    {
     "name": "stderr",
     "output_type": "stream",
     "text": [
      "Epoch 29/100: 100%|██████████| 1/1 [00:00<00:00,  4.84it/s]\n"
     ]
    },
    {
     "name": "stdout",
     "output_type": "stream",
     "text": [
      "Batch 0/1: Loss: 0.017888\n"
     ]
    },
    {
     "name": "stderr",
     "output_type": "stream",
     "text": [
      "Epoch 30/100: 100%|██████████| 1/1 [00:00<00:00,  4.84it/s]\n"
     ]
    },
    {
     "name": "stdout",
     "output_type": "stream",
     "text": [
      "Batch 0/1: Loss: 0.017274\n"
     ]
    },
    {
     "name": "stderr",
     "output_type": "stream",
     "text": [
      "Epoch 31/100: 100%|██████████| 1/1 [00:00<00:00,  4.41it/s]\n"
     ]
    },
    {
     "name": "stdout",
     "output_type": "stream",
     "text": [
      "Batch 0/1: Loss: 0.016343\n"
     ]
    },
    {
     "name": "stderr",
     "output_type": "stream",
     "text": [
      "Epoch 32/100: 100%|██████████| 1/1 [00:00<00:00,  4.61it/s]\n"
     ]
    },
    {
     "name": "stdout",
     "output_type": "stream",
     "text": [
      "Batch 0/1: Loss: 0.015602\n"
     ]
    },
    {
     "name": "stderr",
     "output_type": "stream",
     "text": [
      "Epoch 33/100: 100%|██████████| 1/1 [00:00<00:00,  4.65it/s]\n"
     ]
    },
    {
     "name": "stdout",
     "output_type": "stream",
     "text": [
      "Batch 0/1: Loss: 0.015140\n"
     ]
    },
    {
     "name": "stderr",
     "output_type": "stream",
     "text": [
      "Epoch 34/100: 100%|██████████| 1/1 [00:00<00:00,  4.58it/s]\n"
     ]
    },
    {
     "name": "stdout",
     "output_type": "stream",
     "text": [
      "Batch 0/1: Loss: 0.014564\n"
     ]
    },
    {
     "name": "stderr",
     "output_type": "stream",
     "text": [
      "Epoch 35/100: 100%|██████████| 1/1 [00:00<00:00,  4.71it/s]\n"
     ]
    },
    {
     "name": "stdout",
     "output_type": "stream",
     "text": [
      "Batch 0/1: Loss: 0.014071\n"
     ]
    },
    {
     "name": "stderr",
     "output_type": "stream",
     "text": [
      "Epoch 36/100: 100%|██████████| 1/1 [00:00<00:00,  4.56it/s]\n"
     ]
    },
    {
     "name": "stdout",
     "output_type": "stream",
     "text": [
      "Batch 0/1: Loss: 0.013580\n"
     ]
    },
    {
     "name": "stderr",
     "output_type": "stream",
     "text": [
      "Epoch 37/100: 100%|██████████| 1/1 [00:00<00:00,  4.44it/s]\n"
     ]
    },
    {
     "name": "stdout",
     "output_type": "stream",
     "text": [
      "Batch 0/1: Loss: 0.013194\n"
     ]
    },
    {
     "name": "stderr",
     "output_type": "stream",
     "text": [
      "Epoch 38/100: 100%|██████████| 1/1 [00:00<00:00,  4.42it/s]\n"
     ]
    },
    {
     "name": "stdout",
     "output_type": "stream",
     "text": [
      "Batch 0/1: Loss: 0.012701\n"
     ]
    },
    {
     "name": "stderr",
     "output_type": "stream",
     "text": [
      "Epoch 39/100: 100%|██████████| 1/1 [00:00<00:00,  4.78it/s]\n"
     ]
    },
    {
     "name": "stdout",
     "output_type": "stream",
     "text": [
      "Batch 0/1: Loss: 0.012477\n"
     ]
    },
    {
     "name": "stderr",
     "output_type": "stream",
     "text": [
      "Epoch 40/100: 100%|██████████| 1/1 [00:00<00:00,  4.74it/s]\n"
     ]
    },
    {
     "name": "stdout",
     "output_type": "stream",
     "text": [
      "Batch 0/1: Loss: 0.012069\n"
     ]
    },
    {
     "name": "stderr",
     "output_type": "stream",
     "text": [
      "Epoch 41/100: 100%|██████████| 1/1 [00:00<00:00,  4.43it/s]\n"
     ]
    },
    {
     "name": "stdout",
     "output_type": "stream",
     "text": [
      "Batch 0/1: Loss: 0.011634\n"
     ]
    },
    {
     "name": "stderr",
     "output_type": "stream",
     "text": [
      "Epoch 42/100: 100%|██████████| 1/1 [00:00<00:00,  4.55it/s]\n"
     ]
    },
    {
     "name": "stdout",
     "output_type": "stream",
     "text": [
      "Batch 0/1: Loss: 0.011488\n"
     ]
    },
    {
     "name": "stderr",
     "output_type": "stream",
     "text": [
      "Epoch 43/100: 100%|██████████| 1/1 [00:00<00:00,  4.77it/s]\n"
     ]
    },
    {
     "name": "stdout",
     "output_type": "stream",
     "text": [
      "Batch 0/1: Loss: 0.011214\n"
     ]
    },
    {
     "name": "stderr",
     "output_type": "stream",
     "text": [
      "Epoch 44/100: 100%|██████████| 1/1 [00:00<00:00,  4.67it/s]\n"
     ]
    },
    {
     "name": "stdout",
     "output_type": "stream",
     "text": [
      "Batch 0/1: Loss: 0.010917\n"
     ]
    },
    {
     "name": "stderr",
     "output_type": "stream",
     "text": [
      "Epoch 45/100: 100%|██████████| 1/1 [00:00<00:00,  4.74it/s]\n"
     ]
    },
    {
     "name": "stdout",
     "output_type": "stream",
     "text": [
      "Batch 0/1: Loss: 0.010851\n"
     ]
    },
    {
     "name": "stderr",
     "output_type": "stream",
     "text": [
      "Epoch 46/100: 100%|██████████| 1/1 [00:00<00:00,  4.73it/s]\n"
     ]
    },
    {
     "name": "stdout",
     "output_type": "stream",
     "text": [
      "Batch 0/1: Loss: 0.010461\n"
     ]
    },
    {
     "name": "stderr",
     "output_type": "stream",
     "text": [
      "Epoch 47/100: 100%|██████████| 1/1 [00:00<00:00,  4.80it/s]\n"
     ]
    },
    {
     "name": "stdout",
     "output_type": "stream",
     "text": [
      "Batch 0/1: Loss: 0.010447\n"
     ]
    },
    {
     "name": "stderr",
     "output_type": "stream",
     "text": [
      "Epoch 48/100: 100%|██████████| 1/1 [00:00<00:00,  4.57it/s]\n"
     ]
    },
    {
     "name": "stdout",
     "output_type": "stream",
     "text": [
      "Batch 0/1: Loss: 0.010296\n"
     ]
    },
    {
     "name": "stderr",
     "output_type": "stream",
     "text": [
      "Epoch 49/100: 100%|██████████| 1/1 [00:00<00:00,  4.78it/s]\n"
     ]
    },
    {
     "name": "stdout",
     "output_type": "stream",
     "text": [
      "Batch 0/1: Loss: 0.009985\n"
     ]
    },
    {
     "name": "stderr",
     "output_type": "stream",
     "text": [
      "Epoch 50/100: 100%|██████████| 1/1 [00:00<00:00,  4.82it/s]\n"
     ]
    },
    {
     "name": "stdout",
     "output_type": "stream",
     "text": [
      "Batch 0/1: Loss: 0.009765\n"
     ]
    },
    {
     "name": "stderr",
     "output_type": "stream",
     "text": [
      "Epoch 51/100: 100%|██████████| 1/1 [00:00<00:00,  4.82it/s]\n"
     ]
    },
    {
     "name": "stdout",
     "output_type": "stream",
     "text": [
      "Batch 0/1: Loss: 0.009779\n"
     ]
    },
    {
     "name": "stderr",
     "output_type": "stream",
     "text": [
      "Epoch 52/100: 100%|██████████| 1/1 [00:00<00:00,  4.59it/s]\n"
     ]
    },
    {
     "name": "stdout",
     "output_type": "stream",
     "text": [
      "Batch 0/1: Loss: 0.009692\n"
     ]
    },
    {
     "name": "stderr",
     "output_type": "stream",
     "text": [
      "Epoch 53/100: 100%|██████████| 1/1 [00:00<00:00,  4.60it/s]\n"
     ]
    },
    {
     "name": "stdout",
     "output_type": "stream",
     "text": [
      "Batch 0/1: Loss: 0.009590\n"
     ]
    },
    {
     "name": "stderr",
     "output_type": "stream",
     "text": [
      "Epoch 54/100: 100%|██████████| 1/1 [00:00<00:00,  4.61it/s]\n"
     ]
    },
    {
     "name": "stdout",
     "output_type": "stream",
     "text": [
      "Batch 0/1: Loss: 0.009470\n"
     ]
    },
    {
     "name": "stderr",
     "output_type": "stream",
     "text": [
      "Epoch 55/100: 100%|██████████| 1/1 [00:00<00:00,  4.66it/s]\n"
     ]
    },
    {
     "name": "stdout",
     "output_type": "stream",
     "text": [
      "Batch 0/1: Loss: 0.009245\n"
     ]
    },
    {
     "name": "stderr",
     "output_type": "stream",
     "text": [
      "Epoch 56/100: 100%|██████████| 1/1 [00:00<00:00,  4.60it/s]\n"
     ]
    },
    {
     "name": "stdout",
     "output_type": "stream",
     "text": [
      "Batch 0/1: Loss: 0.009089\n"
     ]
    },
    {
     "name": "stderr",
     "output_type": "stream",
     "text": [
      "Epoch 57/100: 100%|██████████| 1/1 [00:00<00:00,  4.72it/s]\n"
     ]
    },
    {
     "name": "stdout",
     "output_type": "stream",
     "text": [
      "Batch 0/1: Loss: 0.008936\n"
     ]
    },
    {
     "name": "stderr",
     "output_type": "stream",
     "text": [
      "Epoch 58/100: 100%|██████████| 1/1 [00:00<00:00,  4.67it/s]\n"
     ]
    },
    {
     "name": "stdout",
     "output_type": "stream",
     "text": [
      "Batch 0/1: Loss: 0.008865\n"
     ]
    },
    {
     "name": "stderr",
     "output_type": "stream",
     "text": [
      "Epoch 59/100: 100%|██████████| 1/1 [00:00<00:00,  4.62it/s]\n"
     ]
    },
    {
     "name": "stdout",
     "output_type": "stream",
     "text": [
      "Batch 0/1: Loss: 0.008790\n"
     ]
    },
    {
     "name": "stderr",
     "output_type": "stream",
     "text": [
      "Epoch 60/100: 100%|██████████| 1/1 [00:00<00:00,  4.74it/s]\n"
     ]
    },
    {
     "name": "stdout",
     "output_type": "stream",
     "text": [
      "Batch 0/1: Loss: 0.008834\n"
     ]
    },
    {
     "name": "stderr",
     "output_type": "stream",
     "text": [
      "Epoch 61/100: 100%|██████████| 1/1 [00:00<00:00,  4.47it/s]\n"
     ]
    },
    {
     "name": "stdout",
     "output_type": "stream",
     "text": [
      "Batch 0/1: Loss: 0.008519\n"
     ]
    },
    {
     "name": "stderr",
     "output_type": "stream",
     "text": [
      "Epoch 62/100: 100%|██████████| 1/1 [00:00<00:00,  4.73it/s]\n"
     ]
    },
    {
     "name": "stdout",
     "output_type": "stream",
     "text": [
      "Batch 0/1: Loss: 0.008646\n"
     ]
    },
    {
     "name": "stderr",
     "output_type": "stream",
     "text": [
      "Epoch 63/100: 100%|██████████| 1/1 [00:00<00:00,  4.86it/s]\n"
     ]
    },
    {
     "name": "stdout",
     "output_type": "stream",
     "text": [
      "Batch 0/1: Loss: 0.008534\n"
     ]
    },
    {
     "name": "stderr",
     "output_type": "stream",
     "text": [
      "Epoch 64/100: 100%|██████████| 1/1 [00:00<00:00,  4.71it/s]\n"
     ]
    },
    {
     "name": "stdout",
     "output_type": "stream",
     "text": [
      "Batch 0/1: Loss: 0.008572\n"
     ]
    },
    {
     "name": "stderr",
     "output_type": "stream",
     "text": [
      "Epoch 65/100: 100%|██████████| 1/1 [00:00<00:00,  4.68it/s]\n"
     ]
    },
    {
     "name": "stdout",
     "output_type": "stream",
     "text": [
      "Batch 0/1: Loss: 0.008449\n"
     ]
    },
    {
     "name": "stderr",
     "output_type": "stream",
     "text": [
      "Epoch 66/100: 100%|██████████| 1/1 [00:00<00:00,  4.86it/s]\n"
     ]
    },
    {
     "name": "stdout",
     "output_type": "stream",
     "text": [
      "Batch 0/1: Loss: 0.008272\n"
     ]
    },
    {
     "name": "stderr",
     "output_type": "stream",
     "text": [
      "Epoch 67/100: 100%|██████████| 1/1 [00:00<00:00,  4.76it/s]\n"
     ]
    },
    {
     "name": "stdout",
     "output_type": "stream",
     "text": [
      "Batch 0/1: Loss: 0.008253\n"
     ]
    },
    {
     "name": "stderr",
     "output_type": "stream",
     "text": [
      "Epoch 68/100: 100%|██████████| 1/1 [00:00<00:00,  4.65it/s]\n"
     ]
    },
    {
     "name": "stdout",
     "output_type": "stream",
     "text": [
      "Batch 0/1: Loss: 0.008332\n"
     ]
    },
    {
     "name": "stderr",
     "output_type": "stream",
     "text": [
      "Epoch 69/100: 100%|██████████| 1/1 [00:00<00:00,  4.73it/s]\n"
     ]
    },
    {
     "name": "stdout",
     "output_type": "stream",
     "text": [
      "Batch 0/1: Loss: 0.008201\n"
     ]
    },
    {
     "name": "stderr",
     "output_type": "stream",
     "text": [
      "Epoch 70/100: 100%|██████████| 1/1 [00:00<00:00,  4.52it/s]\n"
     ]
    },
    {
     "name": "stdout",
     "output_type": "stream",
     "text": [
      "Batch 0/1: Loss: 0.008032\n"
     ]
    },
    {
     "name": "stderr",
     "output_type": "stream",
     "text": [
      "Epoch 71/100: 100%|██████████| 1/1 [00:00<00:00,  4.57it/s]\n"
     ]
    },
    {
     "name": "stdout",
     "output_type": "stream",
     "text": [
      "Batch 0/1: Loss: 0.008171\n"
     ]
    },
    {
     "name": "stderr",
     "output_type": "stream",
     "text": [
      "Epoch 72/100: 100%|██████████| 1/1 [00:00<00:00,  4.38it/s]\n"
     ]
    },
    {
     "name": "stdout",
     "output_type": "stream",
     "text": [
      "Batch 0/1: Loss: 0.008108\n"
     ]
    },
    {
     "name": "stderr",
     "output_type": "stream",
     "text": [
      "Epoch 73/100: 100%|██████████| 1/1 [00:00<00:00,  4.70it/s]\n"
     ]
    },
    {
     "name": "stdout",
     "output_type": "stream",
     "text": [
      "Batch 0/1: Loss: 0.008100\n"
     ]
    },
    {
     "name": "stderr",
     "output_type": "stream",
     "text": [
      "Epoch 74/100: 100%|██████████| 1/1 [00:00<00:00,  4.72it/s]\n"
     ]
    },
    {
     "name": "stdout",
     "output_type": "stream",
     "text": [
      "Batch 0/1: Loss: 0.007874\n"
     ]
    },
    {
     "name": "stderr",
     "output_type": "stream",
     "text": [
      "Epoch 75/100: 100%|██████████| 1/1 [00:00<00:00,  4.71it/s]\n"
     ]
    },
    {
     "name": "stdout",
     "output_type": "stream",
     "text": [
      "Batch 0/1: Loss: 0.007949\n"
     ]
    },
    {
     "name": "stderr",
     "output_type": "stream",
     "text": [
      "Epoch 76/100: 100%|██████████| 1/1 [00:00<00:00,  4.77it/s]\n"
     ]
    },
    {
     "name": "stdout",
     "output_type": "stream",
     "text": [
      "Batch 0/1: Loss: 0.007858\n"
     ]
    },
    {
     "name": "stderr",
     "output_type": "stream",
     "text": [
      "Epoch 77/100: 100%|██████████| 1/1 [00:00<00:00,  4.70it/s]\n"
     ]
    },
    {
     "name": "stdout",
     "output_type": "stream",
     "text": [
      "Batch 0/1: Loss: 0.008010\n"
     ]
    },
    {
     "name": "stderr",
     "output_type": "stream",
     "text": [
      "Epoch 78/100: 100%|██████████| 1/1 [00:00<00:00,  4.72it/s]\n"
     ]
    },
    {
     "name": "stdout",
     "output_type": "stream",
     "text": [
      "Batch 0/1: Loss: 0.007697\n"
     ]
    },
    {
     "name": "stderr",
     "output_type": "stream",
     "text": [
      "Epoch 79/100: 100%|██████████| 1/1 [00:00<00:00,  4.66it/s]\n"
     ]
    },
    {
     "name": "stdout",
     "output_type": "stream",
     "text": [
      "Batch 0/1: Loss: 0.007763\n"
     ]
    },
    {
     "name": "stderr",
     "output_type": "stream",
     "text": [
      "Epoch 80/100: 100%|██████████| 1/1 [00:00<00:00,  4.62it/s]\n"
     ]
    },
    {
     "name": "stdout",
     "output_type": "stream",
     "text": [
      "Batch 0/1: Loss: 0.007799\n"
     ]
    },
    {
     "name": "stderr",
     "output_type": "stream",
     "text": [
      "Epoch 81/100: 100%|██████████| 1/1 [00:00<00:00,  4.22it/s]\n"
     ]
    },
    {
     "name": "stdout",
     "output_type": "stream",
     "text": [
      "Batch 0/1: Loss: 0.007652\n"
     ]
    },
    {
     "name": "stderr",
     "output_type": "stream",
     "text": [
      "Epoch 82/100: 100%|██████████| 1/1 [00:00<00:00,  4.65it/s]\n"
     ]
    },
    {
     "name": "stdout",
     "output_type": "stream",
     "text": [
      "Batch 0/1: Loss: 0.007620\n"
     ]
    },
    {
     "name": "stderr",
     "output_type": "stream",
     "text": [
      "Epoch 83/100: 100%|██████████| 1/1 [00:00<00:00,  4.71it/s]\n"
     ]
    },
    {
     "name": "stdout",
     "output_type": "stream",
     "text": [
      "Batch 0/1: Loss: 0.007571\n"
     ]
    },
    {
     "name": "stderr",
     "output_type": "stream",
     "text": [
      "Epoch 84/100: 100%|██████████| 1/1 [00:00<00:00,  4.69it/s]\n"
     ]
    },
    {
     "name": "stdout",
     "output_type": "stream",
     "text": [
      "Batch 0/1: Loss: 0.007696\n"
     ]
    },
    {
     "name": "stderr",
     "output_type": "stream",
     "text": [
      "Epoch 85/100: 100%|██████████| 1/1 [00:00<00:00,  4.72it/s]\n"
     ]
    },
    {
     "name": "stdout",
     "output_type": "stream",
     "text": [
      "Batch 0/1: Loss: 0.007505\n"
     ]
    },
    {
     "name": "stderr",
     "output_type": "stream",
     "text": [
      "Epoch 86/100: 100%|██████████| 1/1 [00:00<00:00,  4.70it/s]\n"
     ]
    },
    {
     "name": "stdout",
     "output_type": "stream",
     "text": [
      "Batch 0/1: Loss: 0.007554\n"
     ]
    },
    {
     "name": "stderr",
     "output_type": "stream",
     "text": [
      "Epoch 87/100: 100%|██████████| 1/1 [00:00<00:00,  4.78it/s]\n"
     ]
    },
    {
     "name": "stdout",
     "output_type": "stream",
     "text": [
      "Batch 0/1: Loss: 0.007489\n"
     ]
    },
    {
     "name": "stderr",
     "output_type": "stream",
     "text": [
      "Epoch 88/100: 100%|██████████| 1/1 [00:00<00:00,  4.66it/s]\n"
     ]
    },
    {
     "name": "stdout",
     "output_type": "stream",
     "text": [
      "Batch 0/1: Loss: 0.007507\n"
     ]
    },
    {
     "name": "stderr",
     "output_type": "stream",
     "text": [
      "Epoch 89/100: 100%|██████████| 1/1 [00:00<00:00,  4.61it/s]\n"
     ]
    },
    {
     "name": "stdout",
     "output_type": "stream",
     "text": [
      "Batch 0/1: Loss: 0.007421\n"
     ]
    },
    {
     "name": "stderr",
     "output_type": "stream",
     "text": [
      "Epoch 90/100: 100%|██████████| 1/1 [00:00<00:00,  4.66it/s]\n"
     ]
    },
    {
     "name": "stdout",
     "output_type": "stream",
     "text": [
      "Batch 0/1: Loss: 0.007537\n"
     ]
    },
    {
     "name": "stderr",
     "output_type": "stream",
     "text": [
      "Epoch 91/100: 100%|██████████| 1/1 [00:00<00:00,  4.64it/s]\n"
     ]
    },
    {
     "name": "stdout",
     "output_type": "stream",
     "text": [
      "Batch 0/1: Loss: 0.007453\n"
     ]
    },
    {
     "name": "stderr",
     "output_type": "stream",
     "text": [
      "Epoch 92/100: 100%|██████████| 1/1 [00:00<00:00,  3.12it/s]\n"
     ]
    },
    {
     "name": "stdout",
     "output_type": "stream",
     "text": [
      "Batch 0/1: Loss: 0.007442\n"
     ]
    },
    {
     "name": "stderr",
     "output_type": "stream",
     "text": [
      "Epoch 93/100: 100%|██████████| 1/1 [00:00<00:00,  4.48it/s]\n"
     ]
    },
    {
     "name": "stdout",
     "output_type": "stream",
     "text": [
      "Batch 0/1: Loss: 0.007449\n"
     ]
    },
    {
     "name": "stderr",
     "output_type": "stream",
     "text": [
      "Epoch 94/100: 100%|██████████| 1/1 [00:00<00:00,  4.52it/s]\n"
     ]
    },
    {
     "name": "stdout",
     "output_type": "stream",
     "text": [
      "Batch 0/1: Loss: 0.007282\n"
     ]
    },
    {
     "name": "stderr",
     "output_type": "stream",
     "text": [
      "Epoch 95/100: 100%|██████████| 1/1 [00:00<00:00,  4.65it/s]\n"
     ]
    },
    {
     "name": "stdout",
     "output_type": "stream",
     "text": [
      "Batch 0/1: Loss: 0.007273\n"
     ]
    },
    {
     "name": "stderr",
     "output_type": "stream",
     "text": [
      "Epoch 96/100: 100%|██████████| 1/1 [00:00<00:00,  4.50it/s]\n"
     ]
    },
    {
     "name": "stdout",
     "output_type": "stream",
     "text": [
      "Batch 0/1: Loss: 0.007252\n"
     ]
    },
    {
     "name": "stderr",
     "output_type": "stream",
     "text": [
      "Epoch 97/100: 100%|██████████| 1/1 [00:00<00:00,  4.72it/s]\n"
     ]
    },
    {
     "name": "stdout",
     "output_type": "stream",
     "text": [
      "Batch 0/1: Loss: 0.007170\n"
     ]
    },
    {
     "name": "stderr",
     "output_type": "stream",
     "text": [
      "Epoch 98/100: 100%|██████████| 1/1 [00:00<00:00,  4.68it/s]\n"
     ]
    },
    {
     "name": "stdout",
     "output_type": "stream",
     "text": [
      "Batch 0/1: Loss: 0.007170\n"
     ]
    },
    {
     "name": "stderr",
     "output_type": "stream",
     "text": [
      "Epoch 99/100: 100%|██████████| 1/1 [00:00<00:00,  4.66it/s]\n"
     ]
    },
    {
     "name": "stdout",
     "output_type": "stream",
     "text": [
      "Batch 0/1: Loss: 0.007183\n"
     ]
    },
    {
     "name": "stderr",
     "output_type": "stream",
     "text": [
      "Epoch 100/100: 100%|██████████| 1/1 [00:00<00:00,  4.71it/s]\n"
     ]
    },
    {
     "name": "stdout",
     "output_type": "stream",
     "text": [
      "Batch 0/1: Loss: 0.007145\n",
      "Step 3: Generating samples...\n",
      "Generating 5 samples...\n"
     ]
    },
    {
     "name": "stderr",
     "output_type": "stream",
     "text": [
      "Sampling: 100%|██████████| 100/100 [00:01<00:00, 56.04it/s]\n"
     ]
    },
    {
     "data": {
      "image/png": "[encoded data removed]",
      "text/plain": [
       "<Figure size 1500x300 with 5 Axes>"
      ]
     },
     "metadata": {},
     "output_type": "display_data"
    }
   ],
   "source": [
    "import torch\n",
    "import torch.nn as nn\n",
    "import torch.nn.functional as F\n",
    "import torchvision\n",
    "import torchvision.transforms as transforms\n",
    "import numpy as np\n",
    "import matplotlib.pyplot as plt\n",
    "from tqdm import tqdm\n",
    "\n",
    "torch.manual_seed(42)\n",
    "np.random.seed(42)\n",
    "\n",
    "# Data Loading\n",
    "transform = transforms.Compose([transforms.ToTensor()])\n",
    "train_set = torchvision.datasets.FashionMNIST(\"./data\", download=True, transform=transform)\n",
    "test_set = torchvision.datasets.FashionMNIST(\"./data\", download=True, train=False, transform=transform)\n",
    "\n",
    "batch_size = 16  \n",
    "train_loader = torch.utils.data.DataLoader(train_set, batch_size=batch_size, shuffle=True)\n",
    "test_loader = torch.utils.data.DataLoader(test_set, batch_size=batch_size, shuffle=False)\n",
    "\n",
    "class_names = ['T-shirt/top', 'Trouser', 'Pullover', 'Dress', 'Coat',\n",
    "               'Sandal', 'Shirt', 'Sneaker', 'Bag', 'Ankle Boot']\n",
    "\n",
    "# Positional encoding functions\n",
    "def positional_encoding(coords, num_bands=8):\n",
    "    \"\"\"Apply positional encoding to coordinates with multiple frequency bands.\"\"\"\n",
    "    pos_enc = [coords]\n",
    "    for i in range(num_bands):\n",
    "        freq = 2.0 ** i\n",
    "        pos_enc.append(torch.sin(coords * freq * np.pi))\n",
    "        pos_enc.append(torch.cos(coords * freq * np.pi))\n",
    "    return torch.cat(pos_enc, dim=-1)\n",
    "\n",
    "def get_mgrid(sidelen, dim=2, num_bands=8):\n",
    "    '''Generates a flattened grid of (x,y,...) coordinates in a range of -1 to 1.'''\n",
    "    if isinstance(sidelen, int):\n",
    "        sidelen = dim * (sidelen,)\n",
    "    coords = [torch.linspace(-1, 1, s) for s in sidelen]\n",
    "    mesh_coords = torch.meshgrid(*coords, indexing='ij')  \n",
    "    coords = torch.stack(mesh_coords, dim=-1).reshape(-1, dim)\n",
    "    return positional_encoding(coords, num_bands)\n",
    "\n",
    "# SIREN Model\n",
    "class SIREN(nn.Module):\n",
    "    def __init__(self, input_dim=2+2*2*8, hidden_dim=256, hidden_layers=3, output_dim=1, first_omega=1.0, hidden_omega=10.0):\n",
    "        super().__init__()\n",
    "        self.input_dim = input_dim\n",
    "        self.hidden_dim = hidden_dim\n",
    "        self.hidden_layers = hidden_layers\n",
    "        self.output_dim = output_dim\n",
    "        self.first_omega = first_omega\n",
    "        self.hidden_omega = hidden_omega\n",
    "\n",
    "        self.first_layer = nn.Linear(input_dim, hidden_dim)\n",
    "        with torch.no_grad():\n",
    "            self.first_layer.weight.uniform_(-1/input_dim, 1/input_dim)\n",
    "            self.first_layer.bias.uniform_(-1/input_dim, 1/input_dim)\n",
    "        \n",
    "        self.hidden_layers_list = nn.ModuleList()\n",
    "        for _ in range(hidden_layers):\n",
    "            layer = nn.Linear(hidden_dim, hidden_dim)\n",
    "            with torch.no_grad():\n",
    "                layer.weight.uniform_(-np.sqrt(6/hidden_dim)/hidden_omega, \n",
    "                                      np.sqrt(6/hidden_dim)/hidden_omega)\n",
    "                layer.bias.uniform_(-np.sqrt(6/hidden_dim)/hidden_omega, \n",
    "                                    np.sqrt(6/hidden_dim)/hidden_omega)\n",
    "            self.hidden_layers_list.append(layer)\n",
    "        \n",
    "        self.output_layer = nn.Linear(hidden_dim, output_dim)\n",
    "        with torch.no_grad():\n",
    "            self.output_layer.weight.uniform_(-np.sqrt(6/hidden_dim)/hidden_omega, \n",
    "                                              np.sqrt(6/hidden_dim)/hidden_omega)\n",
    "            self.output_layer.bias.uniform_(-1, 1)\n",
    "    \n",
    "    def forward(self, x):\n",
    "        x = torch.sin(self.first_omega * self.first_layer(x))\n",
    "        for layer in self.hidden_layers_list:\n",
    "            x = torch.sin(self.hidden_omega * layer(x))\n",
    "\n",
    "        return torch.sigmoid(self.output_layer(x))\n",
    "    \n",
    "    def set_weights_vector(self, weights_vector):\n",
    "        \"\"\"Set all weights from a flattened vector\"\"\"\n",
    "        start_idx = 0\n",
    "        \n",
    "        w_size = self.first_layer.weight.numel()\n",
    "        self.first_layer.weight.data = weights_vector[start_idx:start_idx+w_size].view(self.first_layer.weight.shape)\n",
    "        start_idx += w_size\n",
    "        \n",
    "        b_size = self.first_layer.bias.numel()\n",
    "        self.first_layer.bias.data = weights_vector[start_idx:start_idx+b_size].view(self.first_layer.bias.shape)\n",
    "        start_idx += b_size\n",
    "        \n",
    "        for layer in self.hidden_layers_list:\n",
    "            w_size = layer.weight.numel()\n",
    "            layer.weight.data = weights_vector[start_idx:start_idx+w_size].view(layer.weight.shape)\n",
    "            start_idx += w_size\n",
    "            \n",
    "            b_size = layer.bias.numel()\n",
    "            layer.bias.data = weights_vector[start_idx:start_idx+b_size].view(layer.bias.shape)\n",
    "            start_idx += b_size\n",
    "        \n",
    "        w_size = self.output_layer.weight.numel()\n",
    "        self.output_layer.weight.data = weights_vector[start_idx:start_idx+w_size].view(self.output_layer.weight.shape)\n",
    "        start_idx += w_size\n",
    "        \n",
    "        b_size = self.output_layer.bias.numel()\n",
    "        self.output_layer.bias.data = weights_vector[start_idx:start_idx+b_size].view(self.output_layer.bias.shape)\n",
    "    \n",
    "    @staticmethod\n",
    "    def calc_total_weights(input_dim, hidden_dim, hidden_layers, output_dim):\n",
    "        \"\"\"Calculate the total number of weights in the SIREN\"\"\"\n",
    "        total = input_dim * hidden_dim + hidden_dim  # First layer\n",
    "        total += hidden_layers * (hidden_dim * hidden_dim + hidden_dim)  # Hidden layers\n",
    "        total += hidden_dim * output_dim + output_dim  # Output layer\n",
    "        return total\n",
    "\n",
    "    def get_weights_vector(self):\n",
    "        \"\"\"Get all weights as a flattened vector\"\"\"\n",
    "        weights = []\n",
    "        weights.append(self.first_layer.weight.data.flatten())\n",
    "        weights.append(self.first_layer.bias.data.flatten())\n",
    "        \n",
    "        for layer in self.hidden_layers_list:\n",
    "            weights.append(layer.weight.data.flatten())\n",
    "            weights.append(layer.bias.data.flatten())\n",
    "        \n",
    "        weights.append(self.output_layer.weight.data.flatten())\n",
    "        weights.append(self.output_layer.bias.data.flatten())\n",
    "        \n",
    "        return torch.cat(weights, dim=0)\n",
    "\n",
    "# Time embedding for diffusion model\n",
    "class SinusoidalPositionEmbeddings(nn.Module):\n",
    "    def __init__(self, dim):\n",
    "        super().__init__()\n",
    "        self.dim = dim\n",
    "\n",
    "    def forward(self, time):\n",
    "        device = time.device\n",
    "        half_dim = self.dim // 2\n",
    "        embeddings = np.log(10000) / (half_dim - 1)\n",
    "        embeddings = torch.exp(torch.arange(half_dim, device=device) * -embeddings)\n",
    "        embeddings = time[:, None] * embeddings[None, :]\n",
    "        embeddings = torch.cat((torch.sin(embeddings), torch.cos(embeddings)), dim=-1)\n",
    "        return embeddings\n",
    "\n",
    "# Modified Diffusion model - Transformer-based following HyperDiffusion approach\n",
    "class TransformerDiffusion(nn.Module):\n",
    "    def __init__(self, weight_dim, n_heads=8, n_layers=6, hidden_dim=512, dropout=0.1):\n",
    "        super().__init__()\n",
    "        self.hidden_dim = hidden_dim\n",
    "        \n",
    "        # Time embedding\n",
    "        self.time_dim = hidden_dim\n",
    "        self.time_mlp = nn.Sequential(\n",
    "            SinusoidalPositionEmbeddings(hidden_dim),\n",
    "            nn.Linear(hidden_dim, hidden_dim),\n",
    "            nn.GELU(),\n",
    "            nn.Linear(hidden_dim, hidden_dim)\n",
    "        )\n",
    "        \n",
    "        # Input projection\n",
    "        self.input_projection = nn.Linear(weight_dim, hidden_dim)\n",
    "        \n",
    "        # Position encoding\n",
    "        self.pos_embedding = nn.Parameter(torch.randn(1, 1, hidden_dim))\n",
    "        \n",
    "        # Transformer encoder\n",
    "        encoder_layer = nn.TransformerEncoderLayer(\n",
    "            d_model=hidden_dim, \n",
    "            nhead=n_heads, \n",
    "            dim_feedforward=hidden_dim*4,\n",
    "            dropout=dropout,\n",
    "            activation='gelu',\n",
    "            batch_first=True\n",
    "        )\n",
    "        self.transformer = nn.TransformerEncoder(encoder_layer, n_layers)\n",
    "        \n",
    "        # Output projection\n",
    "        self.output_projection = nn.Linear(hidden_dim, weight_dim)\n",
    "    \n",
    "    def forward(self, x, timestep):\n",
    "        # Get time embedding and reshape it\n",
    "        time_emb = self.time_mlp(timestep)  # [batch_size, hidden_dim]\n",
    "        time_emb = time_emb.unsqueeze(1)   # [batch_size, 1, hidden_dim]\n",
    "        \n",
    "        # Project input weights to hidden dimension\n",
    "        x = self.input_projection(x).unsqueeze(1)  # [batch_size, 1, hidden_dim]\n",
    "        \n",
    "        # Add time embedding and positional encoding\n",
    "        x = x + time_emb + self.pos_embedding\n",
    "        \n",
    "        # Pass through transformer\n",
    "        x = self.transformer(x)\n",
    "        \n",
    "        # Project back to weight space\n",
    "        return self.output_projection(x.squeeze(1))\n",
    "\n",
    "class DiffusionModel:\n",
    "    def __init__(self, model, total_weights, device, beta_start=1e-4, beta_end=0.02, timesteps=1000):\n",
    "        self.model = model\n",
    "        self.total_weights = total_weights\n",
    "        self.device = device\n",
    "        self.timesteps = timesteps\n",
    "        \n",
    "        # Define beta schedule\n",
    "        self.betas = torch.linspace(beta_start, beta_end, timesteps).to(device)\n",
    "        self.alphas = 1. - self.betas\n",
    "        self.alphas_cumprod = torch.cumprod(self.alphas, dim=0)\n",
    "        self.alphas_cumprod_prev = F.pad(self.alphas_cumprod[:-1], (1, 0), value=1.0)\n",
    "        \n",
    "        # Calculations for diffusion q(x_t | x_{t-1})\n",
    "        self.sqrt_alphas_cumprod = torch.sqrt(self.alphas_cumprod)\n",
    "        self.sqrt_one_minus_alphas_cumprod = torch.sqrt(1. - self.alphas_cumprod)\n",
    "        \n",
    "        # Calculations for posterior q(x_{t-1} | x_t, x_0)\n",
    "        self.posterior_variance = self.betas * (1. - self.alphas_cumprod_prev) / (1. - self.alphas_cumprod)\n",
    "        self.posterior_mean_coef1 = self.betas * torch.sqrt(self.alphas_cumprod_prev) / (1. - self.alphas_cumprod)\n",
    "        self.posterior_mean_coef2 = (1. - self.alphas_cumprod_prev) * torch.sqrt(self.alphas) / (1. - self.alphas_cumprod)\n",
    "    \n",
    "    def q_sample(self, x_start, t, noise=None):\n",
    "        \"\"\"Forward diffusion process: q(x_t | x_0)\"\"\"\n",
    "        if noise is None:\n",
    "            noise = torch.randn_like(x_start)\n",
    "            \n",
    "        sqrt_alphas_cumprod_t = self.sqrt_alphas_cumprod[t].reshape(-1, 1)\n",
    "        sqrt_one_minus_alphas_cumprod_t = self.sqrt_one_minus_alphas_cumprod[t].reshape(-1, 1)\n",
    "        \n",
    "        return sqrt_alphas_cumprod_t * x_start + sqrt_one_minus_alphas_cumprod_t * noise\n",
    "    \n",
    "    def p_losses(self, x_start, t, noise=None):\n",
    "        \"\"\"Training loss for diffusion model\"\"\"\n",
    "        if noise is None:\n",
    "            noise = torch.randn_like(x_start)\n",
    "            \n",
    "        # Get noisy weights at timestep t\n",
    "        x_noisy = self.q_sample(x_start, t, noise)\n",
    "        \n",
    "        # Predict the denoised weights directly\n",
    "        pred_x0 = self.model(x_noisy, t)\n",
    "        \n",
    "        # Loss is MSE between true weights and predicted denoised weights\n",
    "        loss = F.mse_loss(pred_x0, x_start)\n",
    "        \n",
    "        return loss\n",
    "    \n",
    "    def p_sample(self, x, t, t_index):\n",
    "        \"\"\"Sample from p(x_{t-1} | x_t) - single step denoising\"\"\"\n",
    "        with torch.no_grad():\n",
    "            # Predict denoised weights\n",
    "            pred_x0 = self.model(x, t)\n",
    "            \n",
    "            # Calculate posterior mean\n",
    "            alpha_t = self.alphas_cumprod[t_index]\n",
    "            alpha_t_prev = self.alphas_cumprod_prev[t_index]\n",
    "            \n",
    "            beta_t = 1 - alpha_t / alpha_t_prev\n",
    "            \n",
    "            # Equation for posterior mean calculation\n",
    "            pred_mean = (alpha_t_prev ** 0.5) * ((x - (1 - alpha_t) ** 0.5 * pred_x0) / (alpha_t ** 0.5)) + \\\n",
    "                       ((1 - alpha_t_prev) ** 0.5) * pred_x0\n",
    "            \n",
    "            # Add noise if t > 0, otherwise just return mean\n",
    "            if t_index > 0:\n",
    "                noise = torch.randn_like(x)\n",
    "                return pred_mean + (beta_t ** 0.5) * noise\n",
    "            else:\n",
    "                return pred_mean\n",
    "    \n",
    "    @torch.no_grad()\n",
    "    def p_sample_loop(self, shape):\n",
    "        \"\"\"Generate samples from the model using DDPM sampling\"\"\"\n",
    "        device = self.device\n",
    "        b = shape[0]\n",
    "        \n",
    "        # Start from pure noise\n",
    "        img = torch.randn(shape, device=device)\n",
    "        \n",
    "        for i in tqdm(reversed(range(0, self.timesteps)), desc='Sampling', total=self.timesteps):\n",
    "            t = torch.full((b,), i, device=device, dtype=torch.long)\n",
    "            img = self.p_sample(img, t, i)\n",
    "            \n",
    "        return img\n",
    "\n",
    "    @torch.no_grad()\n",
    "    def generate_sample(self, batch_size=1):\n",
    "        \"\"\"Generate new SIREN weights\"\"\"\n",
    "        return self.p_sample_loop((batch_size, self.total_weights))\n",
    "\n",
    "# Step 1: Optimize SIRENs for individual images\n",
    "def fit_sirens_to_images(num_images=1000, num_epochs=50, save_path=None):\n",
    "    device = torch.device('cuda' if torch.cuda.is_available() else 'cpu')\n",
    "    print(f\"Using device: {device}\")\n",
    "    \n",
    "    # SIREN configuration\n",
    "    num_bands = 8\n",
    "    siren_config = {\n",
    "        'input_dim': 2 + 2*2*num_bands,\n",
    "        'hidden_dim': 128, \n",
    "        'hidden_layers': 3, \n",
    "        'output_dim': 1,\n",
    "    }\n",
    "    \n",
    "    # Calculate total weights\n",
    "    total_weights = SIREN.calc_total_weights(\n",
    "        input_dim=siren_config['input_dim'],\n",
    "        hidden_dim=siren_config['hidden_dim'],\n",
    "        hidden_layers=siren_config['hidden_layers'],\n",
    "        output_dim=siren_config['output_dim']\n",
    "    )\n",
    "    print(f\"Total SIREN weights: {total_weights}\")\n",
    "    \n",
    "    # Coordinate grid\n",
    "    coords = get_mgrid(28, num_bands=num_bands).to(device)\n",
    "    \n",
    "    # Create a loader for the subset of images\n",
    "    subset_indices = list(range(min(num_images, len(train_set))))\n",
    "    subset = torch.utils.data.Subset(train_set, subset_indices)\n",
    "    loader = torch.utils.data.DataLoader(subset, batch_size=1, shuffle=False)\n",
    "    \n",
    "    # Initialize first SIREN\n",
    "    first_siren = SIREN(\n",
    "        input_dim=siren_config['input_dim'],\n",
    "        hidden_dim=siren_config['hidden_dim'],\n",
    "        hidden_layers=siren_config['hidden_layers'],\n",
    "        output_dim=siren_config['output_dim']\n",
    "    ).to(device)\n",
    "    \n",
    "    # First image to fit\n",
    "    first_image, _ = next(iter(loader))\n",
    "    first_image = first_image.to(device)\n",
    "    \n",
    "    # Fit first SIREN\n",
    "    print(\"Fitting first SIREN...\")\n",
    "    optimizer = torch.optim.Adam(first_siren.parameters(), lr=1e-4)\n",
    "    target = first_image.view(-1, 1)\n",
    "    \n",
    "    for epoch in range(num_epochs):\n",
    "        optimizer.zero_grad()\n",
    "        pred = first_siren(coords)\n",
    "        loss = F.mse_loss(pred, target)\n",
    "        loss.backward()\n",
    "        optimizer.step()\n",
    "        \n",
    "        if (epoch + 1) % 100 == 0:\n",
    "            print(f\"Epoch {epoch+1}/{num_epochs}, Loss: {loss.item():.6f}\")\n",
    "    \n",
    "    # Get the optimized weights of the first SIREN\n",
    "    init_weights = first_siren.state_dict()\n",
    "    \n",
    "    # Storage for all SIREN weights\n",
    "    all_weights = []\n",
    "    all_weights.append(first_siren.get_weights_vector())\n",
    "    \n",
    "    # Now fit SIRENs for all other images\n",
    "    for idx, (image, _) in enumerate(tqdm(loader, desc=\"Fitting SIRENs\")):\n",
    "        if idx == 0:  # Skip the first image as we already fit it\n",
    "            continue\n",
    "            \n",
    "        image = image.to(device)\n",
    "        target = image.view(-1, 1)\n",
    "        \n",
    "        # Create a new SIREN and initialize with the first SIREN's weights\n",
    "        siren = SIREN(\n",
    "            input_dim=siren_config['input_dim'],\n",
    "            hidden_dim=siren_config['hidden_dim'],\n",
    "            hidden_layers=siren_config['hidden_layers'],\n",
    "            output_dim=siren_config['output_dim']\n",
    "        ).to(device)\n",
    "        siren.load_state_dict(init_weights)\n",
    "        \n",
    "        # Fit to current image\n",
    "        optimizer = torch.optim.Adam(siren.parameters(), lr=1e-4)\n",
    "        \n",
    "        for epoch in range(num_epochs):\n",
    "            optimizer.zero_grad()\n",
    "            pred = siren(coords)\n",
    "            loss = F.mse_loss(pred, target)\n",
    "            loss.backward()\n",
    "            optimizer.step()\n",
    "        \n",
    "        # Store the weights\n",
    "        all_weights.append(siren.get_weights_vector())\n",
    "    \n",
    "    all_weights = torch.stack(all_weights)\n",
    "    print(f\"Collected weights for {len(all_weights)} SIRENs, shape: {all_weights.shape}\")\n",
    "    \n",
    "    # Save weights if path provided\n",
    "    if save_path:\n",
    "        torch.save(all_weights, save_path)\n",
    "        print(f\"Saved weights to {save_path}\")\n",
    "    \n",
    "    return all_weights, siren_config, total_weights\n",
    "\n",
    "# Step 2: Train diffusion model on SIREN weights\n",
    "def train_diffusion(siren_weights, total_weights, num_epochs=100, batch_size=32):\n",
    "    device = torch.device('cuda' if torch.cuda.is_available() else 'cpu')\n",
    "    \n",
    "    # Create dataset from SIREN weights\n",
    "    weight_dataset = torch.utils.data.TensorDataset(siren_weights)\n",
    "    weight_loader = torch.utils.data.DataLoader(weight_dataset, batch_size=batch_size, shuffle=True)\n",
    "    \n",
    "    # Create diffusion model\n",
    "    model = TransformerDiffusion(weight_dim=total_weights).to(device)\n",
    "    diffusion = DiffusionModel(model, total_weights, device, timesteps=500)\n",
    "    \n",
    "    # Optimizer\n",
    "    optimizer = torch.optim.Adam(model.parameters(), lr=1e-4)\n",
    "    \n",
    "    # Training loop\n",
    "    for epoch in range(num_epochs):\n",
    "        total_loss = 0\n",
    "        \n",
    "        for batch_idx, (weights_batch,) in enumerate(tqdm(weight_loader, desc=f\"Epoch {epoch+1}/{num_epochs}\")):\n",
    "            weights_batch = weights_batch.to(device)\n",
    "            batch_size = weights_batch.size(0)\n",
    "            \n",
    "            optimizer.zero_grad()\n",
    "            \n",
    "            # Sample random timesteps\n",
    "            t = torch.randint(0, diffusion.timesteps, (batch_size,), device=device).long()\n",
    "            \n",
    "            loss = diffusion.p_losses(weights_batch, t)\n",
    "            \n",
    "            loss.backward()\n",
    "            torch.nn.utils.clip_grad_norm_(model.parameters(), max_norm=1.0)\n",
    "            optimizer.step()\n",
    "            \n",
    "            total_loss += loss.item()\n",
    "            \n",
    "            if batch_idx % 100 == 0:\n",
    "                print(f\"Batch {batch_idx}/{len(weight_loader)}: Loss: {loss.item():.6f}\")\n",
    "    \n",
    "    return diffusion\n",
    "\n",
    "def evaluate_diffusion(diffusion, siren_config, coords, num_samples=5, timesteps=None):\n",
    "    device = torch.device('cuda' if torch.cuda.is_available() else 'cpu')\n",
    "    \n",
    "    # Temporarily adjust timesteps if specified\n",
    "    original_timesteps = None\n",
    "    if timesteps is not None:\n",
    "        original_timesteps = diffusion.timesteps\n",
    "        diffusion.timesteps = timesteps\n",
    "    \n",
    "    # Generate samples\n",
    "    print(f\"Generating {num_samples} samples...\")\n",
    "    generated_weights = diffusion.generate_sample(num_samples)\n",
    "    \n",
    "    # Restore original timesteps if changed\n",
    "    if original_timesteps is not None:\n",
    "        diffusion.timesteps = original_timesteps\n",
    "    \n",
    "    # Create SIRENs with generated weights\n",
    "    generated_sirens = []\n",
    "    for i in range(num_samples):\n",
    "        siren = SIREN(\n",
    "            input_dim=siren_config['input_dim'],\n",
    "            hidden_dim=siren_config['hidden_dim'],\n",
    "            hidden_layers=siren_config['hidden_layers'],\n",
    "            output_dim=siren_config['output_dim']\n",
    "        ).to(device)\n",
    "        siren.set_weights_vector(generated_weights[i])\n",
    "        generated_sirens.append(siren)\n",
    "    \n",
    "    # Render images\n",
    "    with torch.no_grad():\n",
    "        generated_images = []\n",
    "        for siren in generated_sirens:\n",
    "            img = siren(coords).reshape(28, 28).cpu()\n",
    "            generated_images.append(img)\n",
    "    \n",
    "    # Display the generated images\n",
    "    fig, axes = plt.subplots(1, num_samples, figsize=(15, 3))\n",
    "    for i, img in enumerate(generated_images):\n",
    "        axes[i].imshow(img, cmap='gray')\n",
    "        axes[i].axis('off')\n",
    "        axes[i].set_title(f\"Sample {i+1}\")\n",
    "    \n",
    "    plt.tight_layout()\n",
    "    plt.show()\n",
    "    \n",
    "    return generated_sirens, generated_images\n",
    "\n",
    "def run_hyperdiffusion(num_images=100, siren_epochs=200, diffusion_epochs=1, batch_size=4):\n",
    "    device = torch.device('cuda' if torch.cuda.is_available() else 'cpu')\n",
    "    print(f\"Using device: {device}\")\n",
    "    \n",
    "    print(\"Step 1: Fitting SIRENs to images...\")\n",
    "    siren_weights, siren_config, total_weights = fit_sirens_to_images(\n",
    "        num_images=num_images, \n",
    "        num_epochs=siren_epochs\n",
    "    )\n",
    "    \n",
    "    coords = get_mgrid(28, num_bands=8).to(device)\n",
    "    \n",
    "    # Visualize a few fitted SIRENs to check quality\n",
    "    with torch.no_grad():\n",
    "        print(\"Visualizing some fitted SIRENs...\")\n",
    "        fig, axes = plt.subplots(1, 5, figsize=(15, 3))\n",
    "        for i in range(5):\n",
    "            if i < len(siren_weights):\n",
    "                # Create SIREN with these weights\n",
    "                siren = SIREN(\n",
    "                    input_dim=siren_config['input_dim'],\n",
    "                    hidden_dim=siren_config['hidden_dim'],\n",
    "                    hidden_layers=siren_config['hidden_layers'],\n",
    "                    output_dim=siren_config['output_dim']\n",
    "                ).to(device)\n",
    "                siren.set_weights_vector(siren_weights[i])\n",
    "                \n",
    "                # Generate image\n",
    "                img = siren(coords).reshape(28, 28).cpu()\n",
    "                axes[i].imshow(img, cmap='gray')\n",
    "                axes[i].set_title(f\"SIREN {i+1}\")\n",
    "                axes[i].axis('off')\n",
    "        plt.show()\n",
    "    \n",
    "    print(\"Step 2: Training diffusion model on SIREN weights...\")\n",
    "    diffusion = train_diffusion(\n",
    "        siren_weights, \n",
    "        total_weights, \n",
    "        num_epochs=diffusion_epochs, \n",
    "        batch_size=batch_size\n",
    "    )\n",
    "    \n",
    "    print(\"Step 3: Generating samples...\")\n",
    "    generated_sirens, generated_images = evaluate_diffusion(\n",
    "        diffusion, \n",
    "        siren_config, \n",
    "        coords,\n",
    "        num_samples=5,\n",
    "        timesteps=100  # Reduced timesteps for faster sampling\n",
    "    )\n",
    "    \n",
    "    return diffusion, siren_config, coords, generated_sirens, generated_images\n",
    "\n",
    "if __name__ == \"__main__\":\n",
    "    run_hyperdiffusion(num_images=100, siren_epochs=1000, diffusion_epochs=100, batch_size=100)"
   ]
  }
 ],
 "metadata": {
  "kernelspec": {
   "display_name": ".venv",
   "language": "python",
   "name": "python3"
  },
  "language_info": {
   "codemirror_mode": {
    "name": "ipython",
    "version": 3
   },
   "file_extension": ".py",
   "mimetype": "text/x-python",
   "name": "python",
   "nbconvert_exporter": "python",
   "pygments_lexer": "ipython3",
   "version": "3.13.2"
  }
 },
 "nbformat": 4,
 "nbformat_minor": 2
}
