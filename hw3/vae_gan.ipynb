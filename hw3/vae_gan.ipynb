{
  "cells": [
    {
      "cell_type": "markdown",
      "id": "yMVpeg_oM4DM",
      "metadata": {
        "id": "yMVpeg_oM4DM"
      },
      "source": [
        "### Generating Images with VAEs and GANs\n",
        "- In this assignment, you will implement two models: a Variational Auto Encoder (VAE) and a Generative Adversarial Network (GAN), each for the task of image generation.\n",
        "- You will train these models on Fashion-MNIST, a dataset containing grayscale images of shoes, clothes, hats, etc.\n",
        "- For each task, we only provide abstract instructions.  You have the freedom to implement the model from scratch and customize helper functions for your convenience.\n",
        "- We will primarily grade your work based on the quality of generated images by visualization.\n",
        "- GAN models may need longer training time to produce high quality images. If you need to accelerate your experiment, please consider using Google's Colab which provides free GPU or TPU runtime.\n",
        "- So that compute does not become a bottleneck during development, you may want to start with smaller and/or simpler models, verify that training is making progress (i.e., generation quality is improving), and then focus on design changes to further improve quality.\n",
        "\n",
        "\n"
      ]
    },
    {
      "cell_type": "markdown",
      "id": "YZsMK9JgRIqh",
      "metadata": {
        "id": "YZsMK9JgRIqh"
      },
      "source": [
        "### Variational Auto-Encoder (VAE)\n",
        "- A VAE is an image generation model following the design of an auto-encoder, consisting of an encoder and a decoder trained by minimizing the reconstruction error.  Unlike conventional autoencoders, VAEs parameterize the latent space with a prior distribution, thereby providing a statistical interpretation of the reconstruction process.\n",
        "- A VAE model optimizes the Evidence Lower Bound (ELBO) as follows:\n",
        "$$\\log p_{\\theta}(x) \\geq E_{q_{\\phi}(z|x)}[\\log p_{\\theta}(x|z)] - D_{KL}\\left(q_{\\phi}\\left(z|x\\right)|| p\\left(z\\right)\\right)$$\n",
        "where $q_{\\phi}, p_{\\theta}$ are instantiated as encoder and decoder, respectively. $p(z)$ is the prior distribution, which is usually chosen as the Normal distribution $\\mathcal{N}(0,1)$.\n",
        "- After training the VAE, you are expected to generate two diversified samples (function provided), which should hold similar content as the input."
      ]
    },
    {
      "cell_type": "code",
      "execution_count": 171,
      "id": "7f9385ef-2ca2-4ce5-b3ac-fbe408f41228",
      "metadata": {
        "id": "7f9385ef-2ca2-4ce5-b3ac-fbe408f41228"
      },
      "outputs": [],
      "source": [
        "\"\"\"\n",
        "Import PyTorch libraries.\n",
        "\"\"\"\n",
        "import torch\n",
        "import torch.nn as nn\n",
        "import torch.nn.functional as F\n",
        "import torchvision\n",
        "from torchvision import datasets, transforms\n",
        "from torchvision.utils import save_image\n",
        "import matplotlib.pyplot as plt\n",
        "import numpy as np\n",
        "import random"
      ]
    },
    {
      "cell_type": "code",
      "execution_count": 172,
      "id": "d2b0e966-68da-400e-b1a9-46fa321cf074",
      "metadata": {
        "id": "d2b0e966-68da-400e-b1a9-46fa321cf074"
      },
      "outputs": [],
      "source": [
        "\"\"\"\n",
        "Enable CUDA if the GPU is available\n",
        "\"\"\"\n",
        "if torch.cuda.is_available():\n",
        "  device = torch.device('cuda')\n",
        "else:\n",
        "  device = torch.device('cpu')"
      ]
    },
    {
      "cell_type": "code",
      "execution_count": 173,
      "id": "b11bc436-585b-45c0-8991-c4b3ffeeebe4",
      "metadata": {
        "id": "b11bc436-585b-45c0-8991-c4b3ffeeebe4"
      },
      "outputs": [
        {
          "name": "stdout",
          "output_type": "stream",
          "text": [
            "Ankle Boot\n"
          ]
        },
        {
          "data": {
            "image/png": "[encoded data removed]",
            "text/plain": [
              "<Figure size 640x480 with 1 Axes>"
            ]
          },
          "metadata": {},
          "output_type": "display_data"
        }
      ],
      "source": [
        "\"\"\"\n",
        "Define the dataloader for the Fashion MNIST dataset.\n",
        "\"\"\"\n",
        "train_set = torchvision.datasets.FashionMNIST(\"./data\", download=True, transform=\n",
        "                                                transforms.Compose([transforms.ToTensor()]))\n",
        "test_set = torchvision.datasets.FashionMNIST(\"./data\", download=True, train=False, transform=\n",
        "                                               transforms.Compose([transforms.ToTensor()]))\n",
        "train_loader = torch.utils.data.DataLoader(train_set,\n",
        "                                           batch_size=100)\n",
        "test_loader = torch.utils.data.DataLoader(test_set,\n",
        "                                          batch_size=100)\n",
        "def output_label(label):\n",
        "    output_mapping = {\n",
        "                 0: \"T-shirt/Top\",\n",
        "                 1: \"Trouser\",\n",
        "                 2: \"Pullover\",\n",
        "                 3: \"Dress\",\n",
        "                 4: \"Coat\",\n",
        "                 5: \"Sandal\",\n",
        "                 6: \"Shirt\",\n",
        "                 7: \"Sneaker\",\n",
        "                 8: \"Bag\",\n",
        "                 9: \"Ankle Boot\"\n",
        "                 }\n",
        "    input = (label.item() if type(label) == torch.Tensor else label)\n",
        "    return output_mapping[input]\n",
        "image, label = next(iter(train_set))\n",
        "plt.imshow(image.squeeze(), cmap=\"gray\")\n",
        "print(output_label(label))"
      ]
    },
    {
      "cell_type": "markdown",
      "id": "ehyMZ6AP7jZy",
      "metadata": {
        "id": "ehyMZ6AP7jZy"
      },
      "source": [
        "#### Define VAE Model (TODO) [15 points]\n",
        "\n",
        "\n",
        "- Suggestion: define an encoder, decoder, and reparameterization module.\n",
        "- The reparameterization module should allow us to produce a sample from a conditional distribution (given predicted mean and covariance) in a manner that is suitable for training via backprop.  See discussion of the univariant Gaussian case in Section 2.4 of \"Auto-Encoding Variational Bayes\".\n",
        "- Implement the forward pass of the VAE model."
      ]
    },
    {
      "cell_type": "code",
      "execution_count": 177,
      "id": "41e71014-1411-457a-8f97-7392c7bf30ab",
      "metadata": {
        "id": "41e71014-1411-457a-8f97-7392c7bf30ab"
      },
      "outputs": [],
      "source": [
        "\"\"\"\n",
        "A Convolutional Variational Autoencoder\n",
        "\"\"\"\n",
        "\"\"\"YOUR CODE HERE\"\"\"\n",
        "class VAE(nn.Module):\n",
        "    def __init__(self):\n",
        "        super(VAE, self).__init__()\n",
        "\n",
        "        self.encoder = nn.Sequential(\n",
        "            nn.Conv2d(in_channels=1, out_channels=32, kernel_size=3, stride=2, padding=1),\n",
        "            nn.ReLU(), \n",
        "            nn.Conv2d(in_channels=32, out_channels=64, kernel_size=3, stride=2, padding=1),\n",
        "            nn.ReLU(),\n",
        "            nn.Conv2d(in_channels=64, out_channels=128, kernel_size=3, stride=2, padding=1),\n",
        "            nn.ReLU(),\n",
        "            nn.Flatten()\n",
        "        )\n",
        "\n",
        "        self.mu = nn.Linear(128 * 4 * 4 , 2)\n",
        "        self.log_variance = nn.Linear(128 * 4 * 4 , 2)\n",
        "\n",
        "        self.fc = nn.Linear(2, 128 * 4 * 4)\n",
        "\n",
        "        self.decoder = nn.Sequential(\n",
        "            nn.Unflatten(1, (128, 4, 4)),\n",
        "            nn.ConvTranspose2d(128, 64, kernel_size=4, stride=2, padding=1),  \n",
        "            nn.ReLU(),\n",
        "            nn.ConvTranspose2d(64, 32, kernel_size=4, stride=2, padding=1),  \n",
        "            nn.ReLU(),\n",
        "            nn.ConvTranspose2d(32, 1, kernel_size=4, stride=2, padding=1),   \n",
        "            nn.Sigmoid()\n",
        "        )\n",
        "\n",
        "    def reparameterize(self, mu, log_variance):\n",
        "        # z = μ + σε\n",
        "        sigma = torch.exp(0.5 * log_variance)\n",
        "        epsilon = torch.randn_like(sigma)r\n",
        "        return mu + (sigma * epsilon)\n",
        "\n",
        "    def forward(self, x):\n",
        "        x = self.encoder(x)\n",
        "\n",
        "        mu = self.mu(x)\n",
        "        log_variance = self.log_variance(x)\n",
        "\n",
        "        z = self.reparameterize(mu, log_variance)\n",
        "\n",
        "        z = self.fc(z)\n",
        "        z = self.decoder(x)\n",
        "\n",
        "        #cut 32,32 to 28,28\n",
        "        z = z[:, :, 2:-2, 2:-2]\n",
        "\n",
        "        return z, mu, log_variance"
      ]
    },
    {
      "cell_type": "markdown",
      "id": "9Jr2Ui_e8aOX",
      "metadata": {
        "id": "9Jr2Ui_e8aOX"
      },
      "source": [
        "#### Complete the Training Loop (TODO) [15 points]\n",
        "- Implement the complete training loop for the VAE model."
      ]
    },
    {
      "cell_type": "code",
      "execution_count": 180,
      "id": "6cdf6b8b-bea6-466f-a6d1-9da6590eba11",
      "metadata": {
        "colab": {
          "background_save": true
        },
        "id": "6cdf6b8b-bea6-466f-a6d1-9da6590eba11"
      },
      "outputs": [
        {
          "name": "stdout",
          "output_type": "stream",
          "text": [
            "Epoch: [1/20], Train: [0/60000 (0%)], Loss: 55207.24609\n",
            "Epoch: [1/20], Train: [10000/60000 (17%)], Loss: 27933.93945\n",
            "Epoch: [1/20], Train: [20000/60000 (33%)], Loss: 28906.98242\n",
            "Epoch: [1/20], Train: [30000/60000 (50%)], Loss: 26506.65820\n",
            "Epoch: [1/20], Train: [40000/60000 (67%)], Loss: 27226.41211\n",
            "Epoch: [1/20], Train: [50000/60000 (83%)], Loss: 27843.05859\n",
            "Epoch: [2/20], Train: [0/60000 (0%)], Loss: 26647.68555\n",
            "Epoch: [2/20], Train: [10000/60000 (17%)], Loss: 26664.84570\n",
            "Epoch: [2/20], Train: [20000/60000 (33%)], Loss: 27571.63477\n",
            "Epoch: [2/20], Train: [30000/60000 (50%)], Loss: 25728.80273\n",
            "Epoch: [2/20], Train: [40000/60000 (67%)], Loss: 26371.69336\n",
            "Epoch: [2/20], Train: [50000/60000 (83%)], Loss: 27057.22266\n",
            "Epoch: [3/20], Train: [0/60000 (0%)], Loss: 26209.54688\n",
            "Epoch: [3/20], Train: [10000/60000 (17%)], Loss: 26184.09766\n",
            "Epoch: [3/20], Train: [20000/60000 (33%)], Loss: 27291.83203\n",
            "Epoch: [3/20], Train: [30000/60000 (50%)], Loss: 25326.36133\n",
            "Epoch: [3/20], Train: [40000/60000 (67%)], Loss: 26037.87109\n",
            "Epoch: [3/20], Train: [50000/60000 (83%)], Loss: 26962.60742\n",
            "Epoch: [4/20], Train: [0/60000 (0%)], Loss: 25956.62305\n",
            "Epoch: [4/20], Train: [10000/60000 (17%)], Loss: 26118.25977\n",
            "Epoch: [4/20], Train: [20000/60000 (33%)], Loss: 27033.39844\n",
            "Epoch: [4/20], Train: [30000/60000 (50%)], Loss: 25162.41016\n",
            "Epoch: [4/20], Train: [40000/60000 (67%)], Loss: 25758.57422\n",
            "Epoch: [4/20], Train: [50000/60000 (83%)], Loss: 26915.43555\n",
            "Epoch: [5/20], Train: [0/60000 (0%)], Loss: 25759.89453\n",
            "Epoch: [5/20], Train: [10000/60000 (17%)], Loss: 25807.43164\n",
            "Epoch: [5/20], Train: [20000/60000 (33%)], Loss: 26889.78516\n",
            "Epoch: [5/20], Train: [30000/60000 (50%)], Loss: 25020.86133\n",
            "Epoch: [5/20], Train: [40000/60000 (67%)], Loss: 25661.96680\n",
            "Epoch: [5/20], Train: [50000/60000 (83%)], Loss: 26594.38086\n",
            "Epoch: [6/20], Train: [0/60000 (0%)], Loss: 25707.41797\n",
            "Epoch: [6/20], Train: [10000/60000 (17%)], Loss: 25721.33203\n",
            "Epoch: [6/20], Train: [20000/60000 (33%)], Loss: 26741.62109\n",
            "Epoch: [6/20], Train: [30000/60000 (50%)], Loss: 24934.04688\n",
            "Epoch: [6/20], Train: [40000/60000 (67%)], Loss: 25541.19141\n",
            "Epoch: [6/20], Train: [50000/60000 (83%)], Loss: 26467.29883\n",
            "Epoch: [7/20], Train: [0/60000 (0%)], Loss: 25763.24219\n",
            "Epoch: [7/20], Train: [10000/60000 (17%)], Loss: 25692.85547\n",
            "Epoch: [7/20], Train: [20000/60000 (33%)], Loss: 26712.04688\n",
            "Epoch: [7/20], Train: [30000/60000 (50%)], Loss: 24945.63672\n",
            "Epoch: [7/20], Train: [40000/60000 (67%)], Loss: 25375.10742\n",
            "Epoch: [7/20], Train: [50000/60000 (83%)], Loss: 26481.09180\n",
            "Epoch: [8/20], Train: [0/60000 (0%)], Loss: 25495.95508\n",
            "Epoch: [8/20], Train: [10000/60000 (17%)], Loss: 25519.95703\n",
            "Epoch: [8/20], Train: [20000/60000 (33%)], Loss: 26590.76172\n",
            "Epoch: [8/20], Train: [30000/60000 (50%)], Loss: 24797.81250\n",
            "Epoch: [8/20], Train: [40000/60000 (67%)], Loss: 25452.85156\n",
            "Epoch: [8/20], Train: [50000/60000 (83%)], Loss: 26425.06250\n",
            "Epoch: [9/20], Train: [0/60000 (0%)], Loss: 25674.21289\n",
            "Epoch: [9/20], Train: [10000/60000 (17%)], Loss: 25504.87305\n",
            "Epoch: [9/20], Train: [20000/60000 (33%)], Loss: 26632.29102\n",
            "Epoch: [9/20], Train: [30000/60000 (50%)], Loss: 24788.62500\n",
            "Epoch: [9/20], Train: [40000/60000 (67%)], Loss: 25345.95898\n",
            "Epoch: [9/20], Train: [50000/60000 (83%)], Loss: 26419.80469\n",
            "Epoch: [10/20], Train: [0/60000 (0%)], Loss: 25619.25586\n",
            "Epoch: [10/20], Train: [10000/60000 (17%)], Loss: 25450.42578\n",
            "Epoch: [10/20], Train: [20000/60000 (33%)], Loss: 26473.84961\n",
            "Epoch: [10/20], Train: [30000/60000 (50%)], Loss: 24683.19922\n",
            "Epoch: [10/20], Train: [40000/60000 (67%)], Loss: 25302.09766\n",
            "Epoch: [10/20], Train: [50000/60000 (83%)], Loss: 26374.99805\n",
            "Epoch: [11/20], Train: [0/60000 (0%)], Loss: 25502.62695\n",
            "Epoch: [11/20], Train: [10000/60000 (17%)], Loss: 25415.27930\n",
            "Epoch: [11/20], Train: [20000/60000 (33%)], Loss: 26543.24023\n",
            "Epoch: [11/20], Train: [30000/60000 (50%)], Loss: 24606.91602\n",
            "Epoch: [11/20], Train: [40000/60000 (67%)], Loss: 25176.49805\n",
            "Epoch: [11/20], Train: [50000/60000 (83%)], Loss: 26331.38477\n",
            "Epoch: [12/20], Train: [0/60000 (0%)], Loss: 25666.94922\n",
            "Epoch: [12/20], Train: [10000/60000 (17%)], Loss: 25239.57422\n",
            "Epoch: [12/20], Train: [20000/60000 (33%)], Loss: 26457.73828\n",
            "Epoch: [12/20], Train: [30000/60000 (50%)], Loss: 24536.37109\n",
            "Epoch: [12/20], Train: [40000/60000 (67%)], Loss: 25130.75000\n",
            "Epoch: [12/20], Train: [50000/60000 (83%)], Loss: 26390.35742\n",
            "Epoch: [13/20], Train: [0/60000 (0%)], Loss: 25376.19531\n",
            "Epoch: [13/20], Train: [10000/60000 (17%)], Loss: 25410.37305\n",
            "Epoch: [13/20], Train: [20000/60000 (33%)], Loss: 26339.97461\n",
            "Epoch: [13/20], Train: [30000/60000 (50%)], Loss: 24544.66992\n",
            "Epoch: [13/20], Train: [40000/60000 (67%)], Loss: 25154.95703\n",
            "Epoch: [13/20], Train: [50000/60000 (83%)], Loss: 26276.53516\n",
            "Epoch: [14/20], Train: [0/60000 (0%)], Loss: 25297.50586\n",
            "Epoch: [14/20], Train: [10000/60000 (17%)], Loss: 25018.52344\n",
            "Epoch: [14/20], Train: [20000/60000 (33%)], Loss: 26397.45898\n",
            "Epoch: [14/20], Train: [30000/60000 (50%)], Loss: 24464.91016\n",
            "Epoch: [14/20], Train: [40000/60000 (67%)], Loss: 25137.36328\n",
            "Epoch: [14/20], Train: [50000/60000 (83%)], Loss: 26275.64844\n",
            "Epoch: [15/20], Train: [0/60000 (0%)], Loss: 25139.05469\n",
            "Epoch: [15/20], Train: [10000/60000 (17%)], Loss: 25027.05078\n",
            "Epoch: [15/20], Train: [20000/60000 (33%)], Loss: 26300.41406\n",
            "Epoch: [15/20], Train: [30000/60000 (50%)], Loss: 24447.60156\n",
            "Epoch: [15/20], Train: [40000/60000 (67%)], Loss: 25042.93555\n",
            "Epoch: [15/20], Train: [50000/60000 (83%)], Loss: 26211.83984\n",
            "Epoch: [16/20], Train: [0/60000 (0%)], Loss: 25484.72852\n",
            "Epoch: [16/20], Train: [10000/60000 (17%)], Loss: 24988.66016\n",
            "Epoch: [16/20], Train: [20000/60000 (33%)], Loss: 26241.53320\n",
            "Epoch: [16/20], Train: [30000/60000 (50%)], Loss: 24469.84766\n",
            "Epoch: [16/20], Train: [40000/60000 (67%)], Loss: 25011.10352\n",
            "Epoch: [16/20], Train: [50000/60000 (83%)], Loss: 26282.86523\n",
            "Epoch: [17/20], Train: [0/60000 (0%)], Loss: 25320.54492\n",
            "Epoch: [17/20], Train: [10000/60000 (17%)], Loss: 25131.10156\n",
            "Epoch: [17/20], Train: [20000/60000 (33%)], Loss: 26220.13672\n",
            "Epoch: [17/20], Train: [30000/60000 (50%)], Loss: 24360.69141\n",
            "Epoch: [17/20], Train: [40000/60000 (67%)], Loss: 25129.44727\n",
            "Epoch: [17/20], Train: [50000/60000 (83%)], Loss: 26230.62305\n",
            "Epoch: [18/20], Train: [0/60000 (0%)], Loss: 25299.10742\n",
            "Epoch: [18/20], Train: [10000/60000 (17%)], Loss: 24883.11328\n",
            "Epoch: [18/20], Train: [20000/60000 (33%)], Loss: 26489.06836\n",
            "Epoch: [18/20], Train: [30000/60000 (50%)], Loss: 24386.25195\n",
            "Epoch: [18/20], Train: [40000/60000 (67%)], Loss: 24983.06250\n",
            "Epoch: [18/20], Train: [50000/60000 (83%)], Loss: 26242.35742\n",
            "Epoch: [19/20], Train: [0/60000 (0%)], Loss: 25087.70117\n",
            "Epoch: [19/20], Train: [10000/60000 (17%)], Loss: 24860.00781\n",
            "Epoch: [19/20], Train: [20000/60000 (33%)], Loss: 26250.24219\n",
            "Epoch: [19/20], Train: [30000/60000 (50%)], Loss: 24253.99805\n",
            "Epoch: [19/20], Train: [40000/60000 (67%)], Loss: 24929.34180\n",
            "Epoch: [19/20], Train: [50000/60000 (83%)], Loss: 26215.77539\n",
            "Epoch: [20/20], Train: [0/60000 (0%)], Loss: 24972.16602\n",
            "Epoch: [20/20], Train: [10000/60000 (17%)], Loss: 24835.06445\n",
            "Epoch: [20/20], Train: [20000/60000 (33%)], Loss: 26537.98242\n",
            "Epoch: [20/20], Train: [30000/60000 (50%)], Loss: 24235.19922\n",
            "Epoch: [20/20], Train: [40000/60000 (67%)], Loss: 24830.89062\n",
            "Epoch: [20/20], Train: [50000/60000 (83%)], Loss: 26157.45312\n"
          ]
        }
      ],
      "source": [
        "\"\"\"\n",
        "Initialize Hyperparameters\n",
        "\"\"\"\n",
        "batch_size = 128\n",
        "learning_rate = 1e-3\n",
        "num_epochs = 20\n",
        "\n",
        "\"\"\"\n",
        "Initialize the network and the Adam optimizer\n",
        "\"\"\"\n",
        "\n",
        "\"\"\"YOUR CODE HERE\"\"\"\n",
        "device = 'cuda' if torch.cuda.is_available() else 'cpu'\n",
        "net = VAE()\n",
        "net = net.to(device)\n",
        "optimizer = torch.optim.Adam(net.parameters(), lr=learning_rate)\n",
        "\n",
        "\"\"\"\n",
        "Training the network for a given number of epochs\n",
        "\"\"\"\n",
        "\n",
        "\"\"\"YOUR CODE HERE\"\"\"\n",
        "def loss_func(x, image, mu, log_variance):\n",
        "    reconstruction_loss = F.binary_cross_entropy(x, image, reduction='sum')\n",
        "    kl_divergence_loss = -0.5 * torch.sum(1 + log_variance - mu.exp() - log_variance.exp())\n",
        "    return reconstruction_loss + kl_divergence_loss\n",
        "\n",
        "for epoch in range(num_epochs):\n",
        "    total_loss = 0\n",
        "    for batch_idx, (img, _) in enumerate(train_loader):\n",
        "        img = img.to(device)\n",
        "        \n",
        "        optimizer.zero_grad()\n",
        "\n",
        "        z, mu, log_variance = net(img)\n",
        "        loss = loss_func(z, img, mu, log_variance)\n",
        "        \n",
        "        loss.backward()\n",
        "        optimizer.step()\n",
        "\n",
        "        if batch_idx % 100 == 0:\n",
        "            print('Epoch: [{}/{}], Train: [{}/{} ({:.0f}%)], Loss: {:.5f}'.format(\n",
        "                epoch + 1, num_epochs,\n",
        "                batch_idx * len(img), len(train_loader.dataset),\n",
        "                100. * batch_idx / len(train_loader),\n",
        "                loss.item()\n",
        "            ))"
      ]
    },
    {
      "cell_type": "markdown",
      "id": "K2HphtJD8Vi6",
      "metadata": {
        "id": "K2HphtJD8Vi6"
      },
      "source": [
        "#### Visualize the output\n",
        "- Display the VAE output by generating multiple samples from the latent space.\n",
        "- You can modify this function accordingly to fit your implementation."
      ]
    },
    {
      "cell_type": "code",
      "execution_count": 181,
      "id": "6114c27c-b1b4-4e9b-b7a7-49beb3dde829",
      "metadata": {
        "colab": {
          "background_save": true
        },
        "id": "6114c27c-b1b4-4e9b-b7a7-49beb3dde829"
      },
      "outputs": [
        {
          "data": {
            "image/png": "[encoded data removed]",
            "text/plain": [
              "<Figure size 640x480 with 9 Axes>"
            ]
          },
          "metadata": {},
          "output_type": "display_data"
        }
      ],
      "source": [
        "\n",
        "\"\"\"\n",
        "The following part takes two images from test loader to feed into the VAE.\n",
        "Both the original image and generated image(s) from the distribution are shown.\n",
        "\"\"\"\n",
        "\n",
        "import matplotlib.pyplot as plt\n",
        "import numpy as np\n",
        "\n",
        "net.eval()\n",
        "with torch.no_grad():\n",
        "    imgs, _ = list(test_loader)[0]\n",
        "    imgs = imgs.to(device)\n",
        "    fig, ax = plt.subplots(3,3)\n",
        "    ax = ax.reshape(-1)\n",
        "    for i in range(3):\n",
        "      for j in range(3):\n",
        "        if j == 0:\n",
        "          # input image\n",
        "          img = np.transpose(imgs[i].cpu().numpy(), [1,2,0])\n",
        "          ax[i*3+j].imshow(np.squeeze(img), cmap = 'gray')\n",
        "        else:\n",
        "          # vae generation results\n",
        "          out, mu, logVAR = net(imgs)\n",
        "          outimg = np.transpose(out[i].cpu().numpy(), [1,2,0])\n",
        "          ax[i*3+j].imshow(np.squeeze(outimg), cmap = 'gray')\n",
        "    plt.show()\n"
      ]
    },
    {
      "cell_type": "markdown",
      "id": "M_KoKOtTaYAR",
      "metadata": {
        "id": "M_KoKOtTaYAR"
      },
      "source": [
        "Generative Adversarial Network (GAN)\n",
        "- A GAN is a generation model trained to convert the samples from prior distribution $z$ to the target domain $x$, e.g., images or text, in an unsupervised fashion.\n",
        "- A GAN consists of a generator ($G$) and discriminator ($D$), where $G$ is trained to produce realistic samples of the target domain, while $D$ learns to distinguish between samples from the generator and those from the real domain, thereby serving as a critic providing supervision to optimize $G$.\n",
        "- GAN training typically follows two alternating steps that update the parameters of $D$ and $G$ according to opposing objectives in a two-player game:\n",
        "  1. $\\max_D \\log\\left(D\\left(x\\right)\\right) + \\log\\left(1 - D\\left(G\\left(z\\right)\\right)\\right)$\n",
        "  2.$\\max_G \\log\\left(D\\left(G\\left(z\\right)\\right)\\right)$\n",
        "- Note that here, we are using an alternative, empirically motivated, objective for $G$ instead of $\\min_G \\log\\left(1 - D\\left(G\\left(z\\right)\\right)\\right)$. In practice, this change should yield faster progress at the start of training."
      ]
    },
    {
      "cell_type": "markdown",
      "id": "iJfoi9of9qhd",
      "metadata": {
        "id": "iJfoi9of9qhd"
      },
      "source": [
        "#### Define GAN Model (TODO) [15 points]\n",
        "- Define the generator and discriminator for the GAN model."
      ]
    },
    {
      "cell_type": "code",
      "execution_count": 203,
      "id": "dd31660c-d2f8-43ed-b502-c2ba6a313779",
      "metadata": {
        "id": "dd31660c-d2f8-43ed-b502-c2ba6a313779"
      },
      "outputs": [],
      "source": [
        "\"\"\"\n",
        "Define the generator\n",
        "\"\"\"\n",
        "\"\"\"YOUR CODE HERE\"\"\"\n",
        "class Generator(nn.Module):\n",
        "    def __init__(self):\n",
        "        super(Generator, self).__init__()\n",
        "\n",
        "        self.generator = nn.Sequential(\n",
        "            nn.Linear(100, 256),\n",
        "            nn.LeakyReLU(0.2),\n",
        "            nn.Dropout(0.3),\n",
        "            nn.Linear(256, 512),\n",
        "            nn.LeakyReLU(0.2),\n",
        "            nn.Dropout(0.3),\n",
        "            nn.Linear(512, 1024),\n",
        "            nn.LeakyReLU(0.2),\n",
        "            nn.Dropout(0.3),\n",
        "            nn.Linear(1024, 784),\n",
        "            nn.Tanh()\n",
        "        )\n",
        "\n",
        "    def forward(self, x):\n",
        "        output = self.generator(x)\n",
        "        return output.view(x.size(0), 1, 28, 28)\n",
        "\n",
        "\"\"\"\n",
        "Define the discriminator\n",
        "\"\"\"\n",
        "\"\"\"YOUR CODE HERE\"\"\"\n",
        "class Discriminator(nn.Module):\n",
        "    def __init__(self):\n",
        "        super(Discriminator, self).__init__()\n",
        "\n",
        "        self.discriminator = nn.Sequential(\n",
        "            nn.Flatten(),\n",
        "            nn.Linear(784, 512),\n",
        "            nn.LeakyReLU(0.2),\n",
        "            nn.Dropout(0.4), \n",
        "            nn.Linear(512, 256),\n",
        "            nn.LeakyReLU(0.2),\n",
        "            nn.Dropout(0.4),\n",
        "            nn.Linear(256, 1),\n",
        "            nn.Sigmoid()\n",
        "        )\n",
        "\n",
        "    def forward(self, x):\n",
        "        return self.discriminator(x)"
      ]
    },
    {
      "cell_type": "markdown",
      "id": "GUTn7697_N_L",
      "metadata": {
        "id": "GUTn7697_N_L"
      },
      "source": [
        "#### Complete the Training Loop (TODO) [15 points]\n",
        "- Implement the complete training loop for the GAN model.\n",
        "- You can monitor the loss curve between generator and discriminator to tune the hyperparameters.\n",
        "- The losses of the generator and discriminator should converge toward some non-zero values at the end.  The generator's loss is generally higher than discriminator's loss."
      ]
    },
    {
      "cell_type": "code",
      "execution_count": 204,
      "id": "d1d2faf1-499a-4f44-9566-1f091882a939",
      "metadata": {
        "id": "d1d2faf1-499a-4f44-9566-1f091882a939"
      },
      "outputs": [
        {
          "name": "stdout",
          "output_type": "stream",
          "text": [
            "Epoch: [1/20], Loss for Discriminator: 1.32761, Loss for Generator: 1.00641\n",
            "Epoch: [2/20], Loss for Discriminator: 1.29554, Loss for Generator: 0.91799\n",
            "Epoch: [3/20], Loss for Discriminator: 1.30378, Loss for Generator: 0.93889\n",
            "Epoch: [4/20], Loss for Discriminator: 1.17192, Loss for Generator: 1.05448\n",
            "Epoch: [5/20], Loss for Discriminator: 1.20648, Loss for Generator: 1.17646\n",
            "Epoch: [6/20], Loss for Discriminator: 1.14316, Loss for Generator: 1.11301\n",
            "Epoch: [7/20], Loss for Discriminator: 1.17915, Loss for Generator: 1.14226\n",
            "Epoch: [8/20], Loss for Discriminator: 1.08590, Loss for Generator: 1.27083\n",
            "Epoch: [9/20], Loss for Discriminator: 1.07136, Loss for Generator: 1.26397\n",
            "Epoch: [10/20], Loss for Discriminator: 1.12501, Loss for Generator: 1.20626\n",
            "Epoch: [11/20], Loss for Discriminator: 1.04747, Loss for Generator: 1.25324\n",
            "Epoch: [12/20], Loss for Discriminator: 1.06458, Loss for Generator: 1.25728\n",
            "Epoch: [13/20], Loss for Discriminator: 1.19969, Loss for Generator: 1.15722\n",
            "Epoch: [14/20], Loss for Discriminator: 1.08591, Loss for Generator: 1.22033\n",
            "Epoch: [15/20], Loss for Discriminator: 1.05794, Loss for Generator: 1.26856\n",
            "Epoch: [16/20], Loss for Discriminator: 1.06862, Loss for Generator: 1.21433\n",
            "Epoch: [17/20], Loss for Discriminator: 1.09539, Loss for Generator: 1.18270\n",
            "Epoch: [18/20], Loss for Discriminator: 1.11877, Loss for Generator: 1.16232\n",
            "Epoch: [19/20], Loss for Discriminator: 1.12125, Loss for Generator: 1.11712\n",
            "Epoch: [20/20], Loss for Discriminator: 1.12171, Loss for Generator: 1.11665\n"
          ]
        }
      ],
      "source": [
        "\"\"\"\n",
        "Initialize Hyperparameters\n",
        "\"\"\"\n",
        "lr = 0.0002\n",
        "num_epochs = 20\n",
        "\n",
        "\"\"\"\n",
        "Initialize the network and the Adam optimizer\n",
        "\"\"\"\n",
        "\n",
        "\"\"\"YOUR CODE HERE\"\"\"\n",
        "device = 'cuda' if torch.cuda.is_available() else 'cpu'\n",
        "generator = Generator()\n",
        "discriminator = Discriminator()\n",
        "\n",
        "generator = generator.to(device)\n",
        "discriminator = discriminator.to(device)\n",
        "\n",
        "optimizer_gen = torch.optim.Adam(generator.parameters(), lr=lr)\n",
        "optimizer_discrim = torch.optim.Adam(discriminator.parameters(), lr=lr)\n",
        "\n",
        "\"\"\"\n",
        "Training the network for a given number of epochs\n",
        "The loss after every epoch is printed\n",
        "\"\"\"\n",
        "\n",
        "\"\"\"YOUR CODE HERE\"\"\"\n",
        "for epoch in range(num_epochs):\n",
        "    epoch_discrim = 0\n",
        "    epoch_gen = 0\n",
        "\n",
        "    for batch_idx, (img, _) in enumerate(train_loader):\n",
        "        batch_size = img.size(0)\n",
        "        img = img.to(device)\n",
        "\n",
        "        #Discriminator\n",
        "        optimizer_discrim.zero_grad()\n",
        "        fake = generator(torch.randn(batch_size, 100).to(device))\n",
        "\n",
        "        discrim_output_img = discriminator(img)\n",
        "        discrim_output_fake_img = discriminator(fake.detach())\n",
        "\n",
        "        loss_discrim = -torch.mean(torch.log(discrim_output_img) + torch.log(1 - discrim_output_fake_img))\n",
        "        loss_discrim.backward()\n",
        "        optimizer_discrim.step()\n",
        "\n",
        "        #Generator\n",
        "        optimizer_gen.zero_grad()\n",
        "        discrim_output_fake_img = discriminator(fake)\n",
        "\n",
        "        loss_gen = -torch.mean(torch.log(discrim_output_fake_img))\n",
        "        loss_gen.backward()\n",
        "        optimizer_gen.step()\n",
        "\n",
        "        epoch_discrim += loss_discrim.item()\n",
        "        epoch_gen += loss_gen.item()\n",
        "\n",
        "    print('Epoch: [{}/{}], Loss for Discriminator: {:.5f}, Loss for Generator: {:.5f}'.format(\n",
        "        epoch + 1, num_epochs,\n",
        "        epoch_discrim / len(train_loader),\n",
        "        epoch_gen / len(train_loader)\n",
        "    ))\n"
      ]
    },
    {
      "cell_type": "markdown",
      "id": "NT2dUTDqA_j0",
      "metadata": {
        "id": "NT2dUTDqA_j0"
      },
      "source": [
        "#### Visualize the output\n",
        "- Display the GAN output by running multiple samples of the latent space.\n",
        "- You can modify this function accordingly to fit your implementation."
      ]
    },
    {
      "cell_type": "code",
      "execution_count": 207,
      "id": "YLvZqzoT-E1Y",
      "metadata": {
        "id": "YLvZqzoT-E1Y"
      },
      "outputs": [
        {
          "name": "stdout",
          "output_type": "stream",
          "text": [
            "19\n"
          ]
        },
        {
          "data": {
            "image/png": "[encoded data removed]",
            "text/plain": [
              "<Figure size 640x480 with 9 Axes>"
            ]
          },
          "metadata": {},
          "output_type": "display_data"
        }
      ],
      "source": [
        "print(epoch)\n",
        "import matplotlib.pyplot as plt\n",
        "fig, ax = plt.subplots(3,3)\n",
        "ax = ax.reshape(-1)\n",
        "for i in range(9):\n",
        "  ax[i].imshow(fake[i,0].cpu().data.numpy(), cmap = 'gray')\n",
        "plt.show()"
      ]
    }
  ],
  "metadata": {
    "accelerator": "GPU",
    "colab": {
      "provenance": []
    },
    "kernelspec": {
      "display_name": ".venv",
      "language": "python",
      "name": "python3"
    },
    "language_info": {
      "codemirror_mode": {
        "name": "ipython",
        "version": 3
      },
      "file_extension": ".py",
      "mimetype": "text/x-python",
      "name": "python",
      "nbconvert_exporter": "python",
      "pygments_lexer": "ipython3",
      "version": "3.13.2"
    }
  },
  "nbformat": 4,
  "nbformat_minor": 5
}
